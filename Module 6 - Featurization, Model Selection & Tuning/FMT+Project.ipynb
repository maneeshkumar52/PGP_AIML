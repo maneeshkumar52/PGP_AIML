{
 "cells": [
  {
   "cell_type": "code",
   "execution_count": 205,
   "id": "e9d57fd9",
   "metadata": {},
   "outputs": [],
   "source": [
    "import pandas as pd\n",
    "import numpy as np\n",
    "import matplotlib.pyplot as plt\n",
    "import seaborn as sns\n",
    "sns.set(color_codes = True)  #sets nice background color\n",
    "import scipy\n",
    "\n",
    "from sklearn.model_selection import train_test_split\n",
    "import warnings\n",
    "warnings.filterwarnings('ignore')"
   ]
  },
  {
   "cell_type": "markdown",
   "id": "dd7022e8",
   "metadata": {},
   "source": [
    "## 1.Import and understand the data."
   ]
  },
  {
   "cell_type": "markdown",
   "id": "59c57ac5",
   "metadata": {},
   "source": [
    "### A.Import ‘signal-data.csv’ as DataFrame."
   ]
  },
  {
   "cell_type": "code",
   "execution_count": 206,
   "id": "8afb5c9d",
   "metadata": {},
   "outputs": [],
   "source": [
    "signal = pd.read_csv('signal-data.csv')\n",
    "\n",
    "#Imported the dataset"
   ]
  },
  {
   "cell_type": "code",
   "execution_count": 207,
   "id": "3e6e0b2b",
   "metadata": {},
   "outputs": [
    {
     "data": {
      "text/html": [
       "<div>\n",
       "<style scoped>\n",
       "    .dataframe tbody tr th:only-of-type {\n",
       "        vertical-align: middle;\n",
       "    }\n",
       "\n",
       "    .dataframe tbody tr th {\n",
       "        vertical-align: top;\n",
       "    }\n",
       "\n",
       "    .dataframe thead th {\n",
       "        text-align: right;\n",
       "    }\n",
       "</style>\n",
       "<table border=\"1\" class=\"dataframe\">\n",
       "  <thead>\n",
       "    <tr style=\"text-align: right;\">\n",
       "      <th></th>\n",
       "      <th>Time</th>\n",
       "      <th>0</th>\n",
       "      <th>1</th>\n",
       "      <th>2</th>\n",
       "      <th>3</th>\n",
       "      <th>4</th>\n",
       "      <th>5</th>\n",
       "      <th>6</th>\n",
       "      <th>7</th>\n",
       "      <th>8</th>\n",
       "      <th>...</th>\n",
       "      <th>581</th>\n",
       "      <th>582</th>\n",
       "      <th>583</th>\n",
       "      <th>584</th>\n",
       "      <th>585</th>\n",
       "      <th>586</th>\n",
       "      <th>587</th>\n",
       "      <th>588</th>\n",
       "      <th>589</th>\n",
       "      <th>Pass/Fail</th>\n",
       "    </tr>\n",
       "  </thead>\n",
       "  <tbody>\n",
       "    <tr>\n",
       "      <th>0</th>\n",
       "      <td>2008-07-19 11:55:00</td>\n",
       "      <td>3030.93</td>\n",
       "      <td>2564.00</td>\n",
       "      <td>2187.7333</td>\n",
       "      <td>1411.1265</td>\n",
       "      <td>1.3602</td>\n",
       "      <td>100.0</td>\n",
       "      <td>97.6133</td>\n",
       "      <td>0.1242</td>\n",
       "      <td>1.5005</td>\n",
       "      <td>...</td>\n",
       "      <td>NaN</td>\n",
       "      <td>0.5005</td>\n",
       "      <td>0.0118</td>\n",
       "      <td>0.0035</td>\n",
       "      <td>2.3630</td>\n",
       "      <td>NaN</td>\n",
       "      <td>NaN</td>\n",
       "      <td>NaN</td>\n",
       "      <td>NaN</td>\n",
       "      <td>-1</td>\n",
       "    </tr>\n",
       "    <tr>\n",
       "      <th>1</th>\n",
       "      <td>2008-07-19 12:32:00</td>\n",
       "      <td>3095.78</td>\n",
       "      <td>2465.14</td>\n",
       "      <td>2230.4222</td>\n",
       "      <td>1463.6606</td>\n",
       "      <td>0.8294</td>\n",
       "      <td>100.0</td>\n",
       "      <td>102.3433</td>\n",
       "      <td>0.1247</td>\n",
       "      <td>1.4966</td>\n",
       "      <td>...</td>\n",
       "      <td>208.2045</td>\n",
       "      <td>0.5019</td>\n",
       "      <td>0.0223</td>\n",
       "      <td>0.0055</td>\n",
       "      <td>4.4447</td>\n",
       "      <td>0.0096</td>\n",
       "      <td>0.0201</td>\n",
       "      <td>0.0060</td>\n",
       "      <td>208.2045</td>\n",
       "      <td>-1</td>\n",
       "    </tr>\n",
       "    <tr>\n",
       "      <th>2</th>\n",
       "      <td>2008-07-19 13:17:00</td>\n",
       "      <td>2932.61</td>\n",
       "      <td>2559.94</td>\n",
       "      <td>2186.4111</td>\n",
       "      <td>1698.0172</td>\n",
       "      <td>1.5102</td>\n",
       "      <td>100.0</td>\n",
       "      <td>95.4878</td>\n",
       "      <td>0.1241</td>\n",
       "      <td>1.4436</td>\n",
       "      <td>...</td>\n",
       "      <td>82.8602</td>\n",
       "      <td>0.4958</td>\n",
       "      <td>0.0157</td>\n",
       "      <td>0.0039</td>\n",
       "      <td>3.1745</td>\n",
       "      <td>0.0584</td>\n",
       "      <td>0.0484</td>\n",
       "      <td>0.0148</td>\n",
       "      <td>82.8602</td>\n",
       "      <td>1</td>\n",
       "    </tr>\n",
       "    <tr>\n",
       "      <th>3</th>\n",
       "      <td>2008-07-19 14:43:00</td>\n",
       "      <td>2988.72</td>\n",
       "      <td>2479.90</td>\n",
       "      <td>2199.0333</td>\n",
       "      <td>909.7926</td>\n",
       "      <td>1.3204</td>\n",
       "      <td>100.0</td>\n",
       "      <td>104.2367</td>\n",
       "      <td>0.1217</td>\n",
       "      <td>1.4882</td>\n",
       "      <td>...</td>\n",
       "      <td>73.8432</td>\n",
       "      <td>0.4990</td>\n",
       "      <td>0.0103</td>\n",
       "      <td>0.0025</td>\n",
       "      <td>2.0544</td>\n",
       "      <td>0.0202</td>\n",
       "      <td>0.0149</td>\n",
       "      <td>0.0044</td>\n",
       "      <td>73.8432</td>\n",
       "      <td>-1</td>\n",
       "    </tr>\n",
       "    <tr>\n",
       "      <th>4</th>\n",
       "      <td>2008-07-19 15:22:00</td>\n",
       "      <td>3032.24</td>\n",
       "      <td>2502.87</td>\n",
       "      <td>2233.3667</td>\n",
       "      <td>1326.5200</td>\n",
       "      <td>1.5334</td>\n",
       "      <td>100.0</td>\n",
       "      <td>100.3967</td>\n",
       "      <td>0.1235</td>\n",
       "      <td>1.5031</td>\n",
       "      <td>...</td>\n",
       "      <td>NaN</td>\n",
       "      <td>0.4800</td>\n",
       "      <td>0.4766</td>\n",
       "      <td>0.1045</td>\n",
       "      <td>99.3032</td>\n",
       "      <td>0.0202</td>\n",
       "      <td>0.0149</td>\n",
       "      <td>0.0044</td>\n",
       "      <td>73.8432</td>\n",
       "      <td>-1</td>\n",
       "    </tr>\n",
       "  </tbody>\n",
       "</table>\n",
       "<p>5 rows × 592 columns</p>\n",
       "</div>"
      ],
      "text/plain": [
       "                  Time        0        1          2          3       4      5  \\\n",
       "0  2008-07-19 11:55:00  3030.93  2564.00  2187.7333  1411.1265  1.3602  100.0   \n",
       "1  2008-07-19 12:32:00  3095.78  2465.14  2230.4222  1463.6606  0.8294  100.0   \n",
       "2  2008-07-19 13:17:00  2932.61  2559.94  2186.4111  1698.0172  1.5102  100.0   \n",
       "3  2008-07-19 14:43:00  2988.72  2479.90  2199.0333   909.7926  1.3204  100.0   \n",
       "4  2008-07-19 15:22:00  3032.24  2502.87  2233.3667  1326.5200  1.5334  100.0   \n",
       "\n",
       "          6       7       8  ...       581     582     583     584      585  \\\n",
       "0   97.6133  0.1242  1.5005  ...       NaN  0.5005  0.0118  0.0035   2.3630   \n",
       "1  102.3433  0.1247  1.4966  ...  208.2045  0.5019  0.0223  0.0055   4.4447   \n",
       "2   95.4878  0.1241  1.4436  ...   82.8602  0.4958  0.0157  0.0039   3.1745   \n",
       "3  104.2367  0.1217  1.4882  ...   73.8432  0.4990  0.0103  0.0025   2.0544   \n",
       "4  100.3967  0.1235  1.5031  ...       NaN  0.4800  0.4766  0.1045  99.3032   \n",
       "\n",
       "      586     587     588       589  Pass/Fail  \n",
       "0     NaN     NaN     NaN       NaN         -1  \n",
       "1  0.0096  0.0201  0.0060  208.2045         -1  \n",
       "2  0.0584  0.0484  0.0148   82.8602          1  \n",
       "3  0.0202  0.0149  0.0044   73.8432         -1  \n",
       "4  0.0202  0.0149  0.0044   73.8432         -1  \n",
       "\n",
       "[5 rows x 592 columns]"
      ]
     },
     "execution_count": 207,
     "metadata": {},
     "output_type": "execute_result"
    }
   ],
   "source": [
    "signal.head()"
   ]
  },
  {
   "cell_type": "code",
   "execution_count": 208,
   "id": "92d7145b",
   "metadata": {},
   "outputs": [
    {
     "name": "stdout",
     "output_type": "stream",
     "text": [
      "<class 'pandas.core.frame.DataFrame'>\n",
      "RangeIndex: 1567 entries, 0 to 1566\n",
      "Columns: 592 entries, Time to Pass/Fail\n",
      "dtypes: float64(590), int64(1), object(1)\n",
      "memory usage: 7.1+ MB\n"
     ]
    }
   ],
   "source": [
    "signal.info()\n",
    "\n",
    "#Checking number of features and their datatypes"
   ]
  },
  {
   "cell_type": "code",
   "execution_count": 209,
   "id": "6e560709",
   "metadata": {},
   "outputs": [
    {
     "data": {
      "text/plain": [
       "(1567, 592)"
      ]
     },
     "execution_count": 209,
     "metadata": {},
     "output_type": "execute_result"
    }
   ],
   "source": [
    "signal.shape\n",
    "\n",
    "#592 columns and 1567 rows"
   ]
  },
  {
   "cell_type": "markdown",
   "id": "41581537",
   "metadata": {},
   "source": [
    "### B.Print 5 point summary and share at least 2 observations."
   ]
  },
  {
   "cell_type": "code",
   "execution_count": 210,
   "id": "becf4c8e",
   "metadata": {},
   "outputs": [
    {
     "name": "stdout",
     "output_type": "stream",
     "text": [
      "<class 'pandas.core.frame.DataFrame'>\n",
      "RangeIndex: 1567 entries, 0 to 1566\n",
      "Columns: 592 entries, Time to Pass/Fail\n",
      "dtypes: float64(590), int64(1), object(1)\n",
      "memory usage: 7.1+ MB\n"
     ]
    }
   ],
   "source": [
    "signal.info()"
   ]
  },
  {
   "cell_type": "code",
   "execution_count": 211,
   "id": "863caa50",
   "metadata": {},
   "outputs": [
    {
     "data": {
      "text/html": [
       "<div>\n",
       "<style scoped>\n",
       "    .dataframe tbody tr th:only-of-type {\n",
       "        vertical-align: middle;\n",
       "    }\n",
       "\n",
       "    .dataframe tbody tr th {\n",
       "        vertical-align: top;\n",
       "    }\n",
       "\n",
       "    .dataframe thead th {\n",
       "        text-align: right;\n",
       "    }\n",
       "</style>\n",
       "<table border=\"1\" class=\"dataframe\">\n",
       "  <thead>\n",
       "    <tr style=\"text-align: right;\">\n",
       "      <th></th>\n",
       "      <th>0</th>\n",
       "      <th>1</th>\n",
       "      <th>2</th>\n",
       "      <th>3</th>\n",
       "      <th>4</th>\n",
       "      <th>5</th>\n",
       "      <th>6</th>\n",
       "      <th>7</th>\n",
       "      <th>8</th>\n",
       "      <th>9</th>\n",
       "      <th>...</th>\n",
       "      <th>581</th>\n",
       "      <th>582</th>\n",
       "      <th>583</th>\n",
       "      <th>584</th>\n",
       "      <th>585</th>\n",
       "      <th>586</th>\n",
       "      <th>587</th>\n",
       "      <th>588</th>\n",
       "      <th>589</th>\n",
       "      <th>Pass/Fail</th>\n",
       "    </tr>\n",
       "  </thead>\n",
       "  <tbody>\n",
       "    <tr>\n",
       "      <th>count</th>\n",
       "      <td>1561.000000</td>\n",
       "      <td>1560.000000</td>\n",
       "      <td>1553.000000</td>\n",
       "      <td>1553.000000</td>\n",
       "      <td>1553.000000</td>\n",
       "      <td>1553.0</td>\n",
       "      <td>1553.000000</td>\n",
       "      <td>1558.000000</td>\n",
       "      <td>1565.000000</td>\n",
       "      <td>1565.000000</td>\n",
       "      <td>...</td>\n",
       "      <td>618.000000</td>\n",
       "      <td>1566.000000</td>\n",
       "      <td>1566.000000</td>\n",
       "      <td>1566.000000</td>\n",
       "      <td>1566.000000</td>\n",
       "      <td>1566.000000</td>\n",
       "      <td>1566.000000</td>\n",
       "      <td>1566.000000</td>\n",
       "      <td>1566.000000</td>\n",
       "      <td>1567.000000</td>\n",
       "    </tr>\n",
       "    <tr>\n",
       "      <th>mean</th>\n",
       "      <td>3014.452896</td>\n",
       "      <td>2495.850231</td>\n",
       "      <td>2200.547318</td>\n",
       "      <td>1396.376627</td>\n",
       "      <td>4.197013</td>\n",
       "      <td>100.0</td>\n",
       "      <td>101.112908</td>\n",
       "      <td>0.121822</td>\n",
       "      <td>1.462862</td>\n",
       "      <td>-0.000841</td>\n",
       "      <td>...</td>\n",
       "      <td>97.934373</td>\n",
       "      <td>0.500096</td>\n",
       "      <td>0.015318</td>\n",
       "      <td>0.003847</td>\n",
       "      <td>3.067826</td>\n",
       "      <td>0.021458</td>\n",
       "      <td>0.016475</td>\n",
       "      <td>0.005283</td>\n",
       "      <td>99.670066</td>\n",
       "      <td>-0.867262</td>\n",
       "    </tr>\n",
       "    <tr>\n",
       "      <th>std</th>\n",
       "      <td>73.621787</td>\n",
       "      <td>80.407705</td>\n",
       "      <td>29.513152</td>\n",
       "      <td>441.691640</td>\n",
       "      <td>56.355540</td>\n",
       "      <td>0.0</td>\n",
       "      <td>6.237214</td>\n",
       "      <td>0.008961</td>\n",
       "      <td>0.073897</td>\n",
       "      <td>0.015116</td>\n",
       "      <td>...</td>\n",
       "      <td>87.520966</td>\n",
       "      <td>0.003404</td>\n",
       "      <td>0.017180</td>\n",
       "      <td>0.003720</td>\n",
       "      <td>3.578033</td>\n",
       "      <td>0.012358</td>\n",
       "      <td>0.008808</td>\n",
       "      <td>0.002867</td>\n",
       "      <td>93.891919</td>\n",
       "      <td>0.498010</td>\n",
       "    </tr>\n",
       "    <tr>\n",
       "      <th>min</th>\n",
       "      <td>2743.240000</td>\n",
       "      <td>2158.750000</td>\n",
       "      <td>2060.660000</td>\n",
       "      <td>0.000000</td>\n",
       "      <td>0.681500</td>\n",
       "      <td>100.0</td>\n",
       "      <td>82.131100</td>\n",
       "      <td>0.000000</td>\n",
       "      <td>1.191000</td>\n",
       "      <td>-0.053400</td>\n",
       "      <td>...</td>\n",
       "      <td>0.000000</td>\n",
       "      <td>0.477800</td>\n",
       "      <td>0.006000</td>\n",
       "      <td>0.001700</td>\n",
       "      <td>1.197500</td>\n",
       "      <td>-0.016900</td>\n",
       "      <td>0.003200</td>\n",
       "      <td>0.001000</td>\n",
       "      <td>0.000000</td>\n",
       "      <td>-1.000000</td>\n",
       "    </tr>\n",
       "    <tr>\n",
       "      <th>25%</th>\n",
       "      <td>2966.260000</td>\n",
       "      <td>2452.247500</td>\n",
       "      <td>2181.044400</td>\n",
       "      <td>1081.875800</td>\n",
       "      <td>1.017700</td>\n",
       "      <td>100.0</td>\n",
       "      <td>97.920000</td>\n",
       "      <td>0.121100</td>\n",
       "      <td>1.411200</td>\n",
       "      <td>-0.010800</td>\n",
       "      <td>...</td>\n",
       "      <td>46.184900</td>\n",
       "      <td>0.497900</td>\n",
       "      <td>0.011600</td>\n",
       "      <td>0.003100</td>\n",
       "      <td>2.306500</td>\n",
       "      <td>0.013425</td>\n",
       "      <td>0.010600</td>\n",
       "      <td>0.003300</td>\n",
       "      <td>44.368600</td>\n",
       "      <td>-1.000000</td>\n",
       "    </tr>\n",
       "    <tr>\n",
       "      <th>50%</th>\n",
       "      <td>3011.490000</td>\n",
       "      <td>2499.405000</td>\n",
       "      <td>2201.066700</td>\n",
       "      <td>1285.214400</td>\n",
       "      <td>1.316800</td>\n",
       "      <td>100.0</td>\n",
       "      <td>101.512200</td>\n",
       "      <td>0.122400</td>\n",
       "      <td>1.461600</td>\n",
       "      <td>-0.001300</td>\n",
       "      <td>...</td>\n",
       "      <td>72.288900</td>\n",
       "      <td>0.500200</td>\n",
       "      <td>0.013800</td>\n",
       "      <td>0.003600</td>\n",
       "      <td>2.757650</td>\n",
       "      <td>0.020500</td>\n",
       "      <td>0.014800</td>\n",
       "      <td>0.004600</td>\n",
       "      <td>71.900500</td>\n",
       "      <td>-1.000000</td>\n",
       "    </tr>\n",
       "    <tr>\n",
       "      <th>75%</th>\n",
       "      <td>3056.650000</td>\n",
       "      <td>2538.822500</td>\n",
       "      <td>2218.055500</td>\n",
       "      <td>1591.223500</td>\n",
       "      <td>1.525700</td>\n",
       "      <td>100.0</td>\n",
       "      <td>104.586700</td>\n",
       "      <td>0.123800</td>\n",
       "      <td>1.516900</td>\n",
       "      <td>0.008400</td>\n",
       "      <td>...</td>\n",
       "      <td>116.539150</td>\n",
       "      <td>0.502375</td>\n",
       "      <td>0.016500</td>\n",
       "      <td>0.004100</td>\n",
       "      <td>3.295175</td>\n",
       "      <td>0.027600</td>\n",
       "      <td>0.020300</td>\n",
       "      <td>0.006400</td>\n",
       "      <td>114.749700</td>\n",
       "      <td>-1.000000</td>\n",
       "    </tr>\n",
       "    <tr>\n",
       "      <th>max</th>\n",
       "      <td>3356.350000</td>\n",
       "      <td>2846.440000</td>\n",
       "      <td>2315.266700</td>\n",
       "      <td>3715.041700</td>\n",
       "      <td>1114.536600</td>\n",
       "      <td>100.0</td>\n",
       "      <td>129.252200</td>\n",
       "      <td>0.128600</td>\n",
       "      <td>1.656400</td>\n",
       "      <td>0.074900</td>\n",
       "      <td>...</td>\n",
       "      <td>737.304800</td>\n",
       "      <td>0.509800</td>\n",
       "      <td>0.476600</td>\n",
       "      <td>0.104500</td>\n",
       "      <td>99.303200</td>\n",
       "      <td>0.102800</td>\n",
       "      <td>0.079900</td>\n",
       "      <td>0.028600</td>\n",
       "      <td>737.304800</td>\n",
       "      <td>1.000000</td>\n",
       "    </tr>\n",
       "  </tbody>\n",
       "</table>\n",
       "<p>8 rows × 591 columns</p>\n",
       "</div>"
      ],
      "text/plain": [
       "                 0            1            2            3            4  \\\n",
       "count  1561.000000  1560.000000  1553.000000  1553.000000  1553.000000   \n",
       "mean   3014.452896  2495.850231  2200.547318  1396.376627     4.197013   \n",
       "std      73.621787    80.407705    29.513152   441.691640    56.355540   \n",
       "min    2743.240000  2158.750000  2060.660000     0.000000     0.681500   \n",
       "25%    2966.260000  2452.247500  2181.044400  1081.875800     1.017700   \n",
       "50%    3011.490000  2499.405000  2201.066700  1285.214400     1.316800   \n",
       "75%    3056.650000  2538.822500  2218.055500  1591.223500     1.525700   \n",
       "max    3356.350000  2846.440000  2315.266700  3715.041700  1114.536600   \n",
       "\n",
       "            5            6            7            8            9  ...  \\\n",
       "count  1553.0  1553.000000  1558.000000  1565.000000  1565.000000  ...   \n",
       "mean    100.0   101.112908     0.121822     1.462862    -0.000841  ...   \n",
       "std       0.0     6.237214     0.008961     0.073897     0.015116  ...   \n",
       "min     100.0    82.131100     0.000000     1.191000    -0.053400  ...   \n",
       "25%     100.0    97.920000     0.121100     1.411200    -0.010800  ...   \n",
       "50%     100.0   101.512200     0.122400     1.461600    -0.001300  ...   \n",
       "75%     100.0   104.586700     0.123800     1.516900     0.008400  ...   \n",
       "max     100.0   129.252200     0.128600     1.656400     0.074900  ...   \n",
       "\n",
       "              581          582          583          584          585  \\\n",
       "count  618.000000  1566.000000  1566.000000  1566.000000  1566.000000   \n",
       "mean    97.934373     0.500096     0.015318     0.003847     3.067826   \n",
       "std     87.520966     0.003404     0.017180     0.003720     3.578033   \n",
       "min      0.000000     0.477800     0.006000     0.001700     1.197500   \n",
       "25%     46.184900     0.497900     0.011600     0.003100     2.306500   \n",
       "50%     72.288900     0.500200     0.013800     0.003600     2.757650   \n",
       "75%    116.539150     0.502375     0.016500     0.004100     3.295175   \n",
       "max    737.304800     0.509800     0.476600     0.104500    99.303200   \n",
       "\n",
       "               586          587          588          589    Pass/Fail  \n",
       "count  1566.000000  1566.000000  1566.000000  1566.000000  1567.000000  \n",
       "mean      0.021458     0.016475     0.005283    99.670066    -0.867262  \n",
       "std       0.012358     0.008808     0.002867    93.891919     0.498010  \n",
       "min      -0.016900     0.003200     0.001000     0.000000    -1.000000  \n",
       "25%       0.013425     0.010600     0.003300    44.368600    -1.000000  \n",
       "50%       0.020500     0.014800     0.004600    71.900500    -1.000000  \n",
       "75%       0.027600     0.020300     0.006400   114.749700    -1.000000  \n",
       "max       0.102800     0.079900     0.028600   737.304800     1.000000  \n",
       "\n",
       "[8 rows x 591 columns]"
      ]
     },
     "execution_count": 211,
     "metadata": {},
     "output_type": "execute_result"
    }
   ],
   "source": [
    "signal.describe()\n",
    "\n",
    "#Describe function shows a 5 point summary of the entire dataset"
   ]
  },
  {
   "cell_type": "markdown",
   "id": "571b3d77",
   "metadata": {},
   "source": [
    "### Insights : Many variables have steep steps indicating a heavily skewed distribution. Few column values seem to be completely repeated in all rows due to which the min, max mean etc all are the same. These columns can be redundant. Columns like 4 has a great difference between 75% and max value which indicated a high jump, steep increase in data. We can also see different count values for different columns, few have very less values, which means that there are lots of missing data in few columns."
   ]
  },
  {
   "cell_type": "markdown",
   "id": "a99cf821",
   "metadata": {},
   "source": [
    "### 2.Data cleansing:"
   ]
  },
  {
   "cell_type": "markdown",
   "id": "ba81e2bd",
   "metadata": {},
   "source": [
    "#### A.Write a for loop which will remove all the features with 20%+ Null values and impute rest with mean of the feature."
   ]
  },
  {
   "cell_type": "code",
   "execution_count": 212,
   "id": "db587ad7",
   "metadata": {},
   "outputs": [],
   "source": [
    "signal = signal.drop(['Time'], axis = 1)\n",
    "\n",
    "#Time stamp doesn't seem to add value to the dataset"
   ]
  },
  {
   "cell_type": "code",
   "execution_count": 213,
   "id": "e6a6bd38",
   "metadata": {},
   "outputs": [
    {
     "name": "stdout",
     "output_type": "stream",
     "text": [
      "Greater than 20%. Column number : 0\n",
      "Greater than 20%. Column number : 1\n",
      "Greater than 20%. Column number : 2\n",
      "Greater than 20%. Column number : 3\n",
      "Greater than 20%. Column number : 4\n",
      "Greater than 20%. Column number : 5\n",
      "Greater than 20%. Column number : 6\n",
      "Greater than 20%. Column number : 7\n",
      "Lesser than 20%. Column number : 8\n",
      "Lesser than 20%. Column number : 9\n",
      "Lesser than 20%. Column number : 10\n",
      "Lesser than 20%. Column number : 11\n",
      "Lesser than 20%. Column number : 12\n",
      "Lesser than 20%. Column number : 13\n",
      "Lesser than 20%. Column number : 14\n",
      "Lesser than 20%. Column number : 15\n",
      "Lesser than 20%. Column number : 16\n",
      "Lesser than 20%. Column number : 17\n",
      "Lesser than 20%. Column number : 18\n",
      "Greater than 20%. Column number : 19\n",
      "Lesser than 20%. Column number : 21\n",
      "Lesser than 20%. Column number : 22\n",
      "Lesser than 20%. Column number : 23\n",
      "Lesser than 20%. Column number : 24\n",
      "Lesser than 20%. Column number : 25\n",
      "Lesser than 20%. Column number : 26\n",
      "Lesser than 20%. Column number : 27\n",
      "Lesser than 20%. Column number : 28\n",
      "Lesser than 20%. Column number : 29\n",
      "Lesser than 20%. Column number : 30\n",
      "Lesser than 20%. Column number : 31\n",
      "Lesser than 20%. Column number : 32\n",
      "Lesser than 20%. Column number : 33\n",
      "Lesser than 20%. Column number : 34\n",
      "Lesser than 20%. Column number : 35\n",
      "Lesser than 20%. Column number : 36\n",
      "Lesser than 20%. Column number : 37\n",
      "Lesser than 20%. Column number : 38\n",
      "Lesser than 20%. Column number : 39\n",
      "Greater than 20%. Column number : 40\n",
      "Greater than 20%. Column number : 41\n",
      "Lesser than 20%. Column number : 42\n",
      "Lesser than 20%. Column number : 43\n",
      "Lesser than 20%. Column number : 44\n",
      "Lesser than 20%. Column number : 45\n",
      "Lesser than 20%. Column number : 46\n",
      "Lesser than 20%. Column number : 47\n",
      "Lesser than 20%. Column number : 48\n",
      "Lesser than 20%. Column number : 49\n",
      "Lesser than 20%. Column number : 50\n",
      "Lesser than 20%. Column number : 51\n",
      "Lesser than 20%. Column number : 52\n",
      "Greater than 20%. Column number : 53\n",
      "Greater than 20%. Column number : 54\n",
      "Greater than 20%. Column number : 55\n",
      "Greater than 20%. Column number : 56\n",
      "Greater than 20%. Column number : 57\n",
      "Greater than 20%. Column number : 58\n",
      "Greater than 20%. Column number : 59\n",
      "Greater than 20%. Column number : 60\n",
      "Greater than 20%. Column number : 61\n",
      "Greater than 20%. Column number : 62\n",
      "Greater than 20%. Column number : 63\n",
      "Greater than 20%. Column number : 64\n",
      "Greater than 20%. Column number : 65\n",
      "Greater than 20%. Column number : 66\n",
      "Greater than 20%. Column number : 67\n",
      "Greater than 20%. Column number : 68\n",
      "Greater than 20%. Column number : 69\n",
      "Greater than 20%. Column number : 70\n",
      "Greater than 20%. Column number : 71\n",
      "Greater than 20%. Column number : 72\n",
      "Greater than 20%. Column number : 73\n",
      "Greater than 20%. Column number : 74\n",
      "Greater than 20%. Column number : 75\n",
      "Greater than 20%. Column number : 76\n",
      "Greater than 20%. Column number : 77\n",
      "Greater than 20%. Column number : 78\n",
      "Greater than 20%. Column number : 79\n",
      "Greater than 20%. Column number : 80\n",
      "Greater than 20%. Column number : 81\n",
      "Greater than 20%. Column number : 82\n",
      "Lesser than 20%. Column number : 83\n",
      "Greater than 20%. Column number : 84\n",
      "Greater than 20%. Column number : 85\n",
      "Greater than 20%. Column number : 89\n",
      "Greater than 20%. Column number : 90\n",
      "Greater than 20%. Column number : 91\n",
      "Lesser than 20%. Column number : 92\n",
      "Lesser than 20%. Column number : 93\n",
      "Greater than 20%. Column number : 94\n",
      "Greater than 20%. Column number : 95\n",
      "Greater than 20%. Column number : 96\n",
      "Greater than 20%. Column number : 97\n",
      "Greater than 20%. Column number : 98\n",
      "Greater than 20%. Column number : 99\n",
      "Greater than 20%. Column number : 100\n",
      "Greater than 20%. Column number : 101\n",
      "Greater than 20%. Column number : 102\n",
      "Lesser than 20%. Column number : 103\n",
      "Lesser than 20%. Column number : 104\n",
      "Greater than 20%. Column number : 105\n",
      "Greater than 20%. Column number : 106\n",
      "Greater than 20%. Column number : 107\n",
      "Greater than 20%. Column number : 108\n",
      "Greater than 20%. Column number : 109\n",
      "Greater than 20%. Column number : 110\n",
      "Greater than 20%. Column number : 111\n",
      "Greater than 20%. Column number : 112\n",
      "Greater than 20%. Column number : 118\n",
      "Greater than 20%. Column number : 121\n",
      "Greater than 20%. Column number : 122\n",
      "Greater than 20%. Column number : 123\n",
      "Greater than 20%. Column number : 124\n",
      "Greater than 20%. Column number : 125\n",
      "Greater than 20%. Column number : 126\n",
      "Greater than 20%. Column number : 127\n",
      "Greater than 20%. Column number : 128\n",
      "Greater than 20%. Column number : 129\n",
      "Greater than 20%. Column number : 130\n",
      "Greater than 20%. Column number : 131\n",
      "Greater than 20%. Column number : 132\n",
      "Greater than 20%. Column number : 133\n",
      "Greater than 20%. Column number : 134\n",
      "Greater than 20%. Column number : 135\n",
      "Greater than 20%. Column number : 136\n",
      "Greater than 20%. Column number : 137\n",
      "Greater than 20%. Column number : 138\n",
      "Greater than 20%. Column number : 139\n",
      "Greater than 20%. Column number : 140\n",
      "Greater than 20%. Column number : 141\n",
      "Greater than 20%. Column number : 142\n",
      "Greater than 20%. Column number : 143\n",
      "Lesser than 20%. Column number : 144\n",
      "Lesser than 20%. Column number : 145\n",
      "Lesser than 20%. Column number : 146\n",
      "Lesser than 20%. Column number : 147\n",
      "Lesser than 20%. Column number : 148\n",
      "Lesser than 20%. Column number : 149\n",
      "Lesser than 20%. Column number : 150\n",
      "Lesser than 20%. Column number : 151\n",
      "Lesser than 20%. Column number : 152\n",
      "Lesser than 20%. Column number : 153\n",
      "Lesser than 20%. Column number : 154\n",
      "Greater than 20%. Column number : 155\n",
      "Greater than 20%. Column number : 157\n",
      "Greater than 20%. Column number : 158\n",
      "Lesser than 20%. Column number : 159\n",
      "Lesser than 20%. Column number : 160\n",
      "Lesser than 20%. Column number : 161\n",
      "Lesser than 20%. Column number : 162\n",
      "Lesser than 20%. Column number : 163\n",
      "Lesser than 20%. Column number : 164\n",
      "Lesser than 20%. Column number : 165\n",
      "Lesser than 20%. Column number : 166\n",
      "Lesser than 20%. Column number : 167\n",
      "Lesser than 20%. Column number : 168\n",
      "Lesser than 20%. Column number : 169\n",
      "Lesser than 20%. Column number : 170\n",
      "Lesser than 20%. Column number : 171\n",
      "Lesser than 20%. Column number : 172\n",
      "Lesser than 20%. Column number : 173\n",
      "Lesser than 20%. Column number : 174\n",
      "Lesser than 20%. Column number : 175\n",
      "Lesser than 20%. Column number : 176\n",
      "Lesser than 20%. Column number : 177\n",
      "Greater than 20%. Column number : 178\n",
      "Lesser than 20%. Column number : 179\n",
      "Lesser than 20%. Column number : 180\n",
      "Lesser than 20%. Column number : 181\n",
      "Lesser than 20%. Column number : 182\n",
      "Lesser than 20%. Column number : 183\n",
      "Lesser than 20%. Column number : 184\n",
      "Lesser than 20%. Column number : 185\n",
      "Lesser than 20%. Column number : 186\n",
      "Lesser than 20%. Column number : 187\n",
      "Lesser than 20%. Column number : 188\n",
      "Lesser than 20%. Column number : 189\n",
      "Greater than 20%. Column number : 190\n",
      "Greater than 20%. Column number : 191\n",
      "Greater than 20%. Column number : 192\n",
      "Greater than 20%. Column number : 193\n",
      "Greater than 20%. Column number : 194\n",
      "Greater than 20%. Column number : 195\n",
      "Greater than 20%. Column number : 196\n",
      "Greater than 20%. Column number : 197\n",
      "Greater than 20%. Column number : 198\n",
      "Greater than 20%. Column number : 199\n",
      "Greater than 20%. Column number : 200\n",
      "Greater than 20%. Column number : 201\n",
      "Greater than 20%. Column number : 202\n",
      "Greater than 20%. Column number : 203\n",
      "Greater than 20%. Column number : 204\n",
      "Greater than 20%. Column number : 205\n",
      "Greater than 20%. Column number : 206\n",
      "Greater than 20%. Column number : 207\n",
      "Greater than 20%. Column number : 208\n",
      "Greater than 20%. Column number : 209\n",
      "Greater than 20%. Column number : 210\n",
      "Greater than 20%. Column number : 211\n",
      "Greater than 20%. Column number : 212\n",
      "Greater than 20%. Column number : 213\n",
      "Greater than 20%. Column number : 214\n",
      "Greater than 20%. Column number : 215\n",
      "Greater than 20%. Column number : 216\n",
      "Greater than 20%. Column number : 217\n",
      "Lesser than 20%. Column number : 218\n",
      "Greater than 20%. Column number : 219\n",
      "Greater than 20%. Column number : 220\n",
      "Greater than 20%. Column number : 224\n",
      "Greater than 20%. Column number : 225\n",
      "Greater than 20%. Column number : 226\n",
      "Lesser than 20%. Column number : 227\n",
      "Lesser than 20%. Column number : 228\n",
      "Greater than 20%. Column number : 229\n",
      "Greater than 20%. Column number : 230\n",
      "Greater than 20%. Column number : 231\n",
      "Greater than 20%. Column number : 232\n",
      "Greater than 20%. Column number : 233\n",
      "Greater than 20%. Column number : 234\n",
      "Greater than 20%. Column number : 235\n",
      "Greater than 20%. Column number : 236\n",
      "Greater than 20%. Column number : 237\n",
      "Lesser than 20%. Column number : 238\n",
      "Lesser than 20%. Column number : 239\n",
      "Greater than 20%. Column number : 240\n",
      "Greater than 20%. Column number : 241\n",
      "Greater than 20%. Column number : 242\n",
      "Greater than 20%. Column number : 243\n",
      "Greater than 20%. Column number : 244\n",
      "Greater than 20%. Column number : 245\n",
      "Greater than 20%. Column number : 246\n",
      "Greater than 20%. Column number : 247\n",
      "Greater than 20%. Column number : 253\n",
      "Greater than 20%. Column number : 256\n",
      "Greater than 20%. Column number : 257\n",
      "Greater than 20%. Column number : 258\n",
      "Greater than 20%. Column number : 259\n",
      "Greater than 20%. Column number : 260\n",
      "Greater than 20%. Column number : 261\n",
      "Greater than 20%. Column number : 262\n"
     ]
    },
    {
     "name": "stdout",
     "output_type": "stream",
     "text": [
      "Greater than 20%. Column number : 263\n",
      "Greater than 20%. Column number : 264\n",
      "Greater than 20%. Column number : 265\n",
      "Greater than 20%. Column number : 266\n",
      "Greater than 20%. Column number : 267\n",
      "Greater than 20%. Column number : 268\n",
      "Greater than 20%. Column number : 269\n",
      "Greater than 20%. Column number : 270\n",
      "Greater than 20%. Column number : 271\n",
      "Greater than 20%. Column number : 272\n",
      "Greater than 20%. Column number : 273\n",
      "Greater than 20%. Column number : 274\n",
      "Greater than 20%. Column number : 275\n",
      "Greater than 20%. Column number : 276\n",
      "Greater than 20%. Column number : 277\n",
      "Greater than 20%. Column number : 278\n",
      "Lesser than 20%. Column number : 279\n",
      "Lesser than 20%. Column number : 280\n",
      "Lesser than 20%. Column number : 281\n",
      "Lesser than 20%. Column number : 282\n",
      "Lesser than 20%. Column number : 283\n",
      "Lesser than 20%. Column number : 284\n",
      "Lesser than 20%. Column number : 285\n",
      "Lesser than 20%. Column number : 286\n",
      "Lesser than 20%. Column number : 287\n",
      "Lesser than 20%. Column number : 288\n",
      "Lesser than 20%. Column number : 289\n",
      "Greater than 20%. Column number : 290\n",
      "Greater than 20%. Column number : 292\n",
      "Greater than 20%. Column number : 293\n",
      "Lesser than 20%. Column number : 294\n",
      "Lesser than 20%. Column number : 295\n",
      "Lesser than 20%. Column number : 296\n",
      "Lesser than 20%. Column number : 297\n",
      "Lesser than 20%. Column number : 298\n",
      "Lesser than 20%. Column number : 299\n",
      "Lesser than 20%. Column number : 300\n",
      "Lesser than 20%. Column number : 301\n",
      "Lesser than 20%. Column number : 302\n",
      "Lesser than 20%. Column number : 303\n",
      "Lesser than 20%. Column number : 304\n",
      "Lesser than 20%. Column number : 305\n",
      "Lesser than 20%. Column number : 306\n",
      "Lesser than 20%. Column number : 307\n",
      "Lesser than 20%. Column number : 308\n",
      "Lesser than 20%. Column number : 309\n",
      "Lesser than 20%. Column number : 310\n",
      "Lesser than 20%. Column number : 311\n",
      "Lesser than 20%. Column number : 312\n",
      "Greater than 20%. Column number : 313\n",
      "Greater than 20%. Column number : 314\n",
      "Lesser than 20%. Column number : 315\n",
      "Lesser than 20%. Column number : 316\n",
      "Lesser than 20%. Column number : 317\n",
      "Lesser than 20%. Column number : 318\n",
      "Lesser than 20%. Column number : 319\n",
      "Lesser than 20%. Column number : 320\n",
      "Lesser than 20%. Column number : 321\n",
      "Lesser than 20%. Column number : 322\n",
      "Lesser than 20%. Column number : 323\n",
      "Lesser than 20%. Column number : 324\n",
      "Lesser than 20%. Column number : 325\n",
      "Greater than 20%. Column number : 326\n",
      "Greater than 20%. Column number : 327\n",
      "Greater than 20%. Column number : 328\n",
      "Greater than 20%. Column number : 329\n",
      "Greater than 20%. Column number : 330\n",
      "Greater than 20%. Column number : 331\n",
      "Greater than 20%. Column number : 332\n",
      "Greater than 20%. Column number : 333\n",
      "Greater than 20%. Column number : 334\n",
      "Greater than 20%. Column number : 335\n",
      "Greater than 20%. Column number : 336\n",
      "Greater than 20%. Column number : 337\n",
      "Greater than 20%. Column number : 338\n",
      "Greater than 20%. Column number : 339\n",
      "Greater than 20%. Column number : 340\n",
      "Greater than 20%. Column number : 341\n",
      "Greater than 20%. Column number : 342\n",
      "Greater than 20%. Column number : 343\n",
      "Greater than 20%. Column number : 344\n",
      "Greater than 20%. Column number : 345\n",
      "Greater than 20%. Column number : 346\n",
      "Greater than 20%. Column number : 347\n",
      "Greater than 20%. Column number : 348\n",
      "Greater than 20%. Column number : 349\n",
      "Greater than 20%. Column number : 350\n",
      "Greater than 20%. Column number : 351\n",
      "Greater than 20%. Column number : 352\n",
      "Greater than 20%. Column number : 353\n",
      "Greater than 20%. Column number : 354\n",
      "Greater than 20%. Column number : 355\n",
      "Lesser than 20%. Column number : 356\n",
      "Greater than 20%. Column number : 357\n",
      "Greater than 20%. Column number : 358\n",
      "Greater than 20%. Column number : 362\n",
      "Greater than 20%. Column number : 363\n",
      "Greater than 20%. Column number : 364\n",
      "Lesser than 20%. Column number : 365\n",
      "Lesser than 20%. Column number : 366\n",
      "Greater than 20%. Column number : 367\n",
      "Greater than 20%. Column number : 368\n",
      "Greater than 20%. Column number : 369\n",
      "Greater than 20%. Column number : 370\n",
      "Greater than 20%. Column number : 371\n",
      "Greater than 20%. Column number : 372\n",
      "Greater than 20%. Column number : 373\n",
      "Greater than 20%. Column number : 374\n",
      "Greater than 20%. Column number : 375\n",
      "Lesser than 20%. Column number : 376\n",
      "Lesser than 20%. Column number : 377\n",
      "Greater than 20%. Column number : 378\n",
      "Greater than 20%. Column number : 379\n",
      "Greater than 20%. Column number : 380\n",
      "Greater than 20%. Column number : 381\n",
      "Greater than 20%. Column number : 382\n",
      "Greater than 20%. Column number : 383\n",
      "Greater than 20%. Column number : 384\n",
      "Greater than 20%. Column number : 385\n",
      "Greater than 20%. Column number : 391\n",
      "Greater than 20%. Column number : 394\n",
      "Greater than 20%. Column number : 395\n",
      "Greater than 20%. Column number : 396\n",
      "Greater than 20%. Column number : 397\n",
      "Greater than 20%. Column number : 398\n",
      "Greater than 20%. Column number : 399\n",
      "Greater than 20%. Column number : 400\n",
      "Greater than 20%. Column number : 401\n",
      "Greater than 20%. Column number : 402\n",
      "Greater than 20%. Column number : 403\n",
      "Greater than 20%. Column number : 404\n",
      "Greater than 20%. Column number : 405\n",
      "Greater than 20%. Column number : 406\n",
      "Greater than 20%. Column number : 407\n",
      "Greater than 20%. Column number : 408\n",
      "Greater than 20%. Column number : 409\n",
      "Greater than 20%. Column number : 410\n",
      "Greater than 20%. Column number : 411\n",
      "Greater than 20%. Column number : 412\n",
      "Greater than 20%. Column number : 413\n",
      "Greater than 20%. Column number : 414\n",
      "Greater than 20%. Column number : 415\n",
      "Greater than 20%. Column number : 416\n",
      "Lesser than 20%. Column number : 417\n",
      "Lesser than 20%. Column number : 418\n",
      "Lesser than 20%. Column number : 419\n",
      "Lesser than 20%. Column number : 420\n",
      "Lesser than 20%. Column number : 421\n",
      "Lesser than 20%. Column number : 422\n",
      "Lesser than 20%. Column number : 423\n",
      "Lesser than 20%. Column number : 424\n",
      "Lesser than 20%. Column number : 425\n",
      "Lesser than 20%. Column number : 426\n",
      "Lesser than 20%. Column number : 427\n",
      "Greater than 20%. Column number : 428\n",
      "Lesser than 20%. Column number : 430\n",
      "Lesser than 20%. Column number : 431\n",
      "Lesser than 20%. Column number : 432\n",
      "Lesser than 20%. Column number : 433\n",
      "Lesser than 20%. Column number : 434\n",
      "Lesser than 20%. Column number : 435\n",
      "Lesser than 20%. Column number : 436\n",
      "Lesser than 20%. Column number : 437\n",
      "Lesser than 20%. Column number : 438\n",
      "Lesser than 20%. Column number : 439\n",
      "Lesser than 20%. Column number : 440\n",
      "Lesser than 20%. Column number : 441\n",
      "Lesser than 20%. Column number : 442\n",
      "Lesser than 20%. Column number : 443\n",
      "Lesser than 20%. Column number : 444\n",
      "Lesser than 20%. Column number : 445\n",
      "Lesser than 20%. Column number : 446\n",
      "Lesser than 20%. Column number : 447\n",
      "Lesser than 20%. Column number : 448\n",
      "Greater than 20%. Column number : 449\n",
      "Greater than 20%. Column number : 450\n",
      "Lesser than 20%. Column number : 451\n",
      "Lesser than 20%. Column number : 452\n",
      "Lesser than 20%. Column number : 453\n",
      "Lesser than 20%. Column number : 454\n",
      "Lesser than 20%. Column number : 455\n",
      "Lesser than 20%. Column number : 456\n",
      "Lesser than 20%. Column number : 457\n",
      "Lesser than 20%. Column number : 458\n",
      "Lesser than 20%. Column number : 459\n",
      "Lesser than 20%. Column number : 460\n",
      "Lesser than 20%. Column number : 461\n",
      "Greater than 20%. Column number : 462\n",
      "Greater than 20%. Column number : 463\n",
      "Greater than 20%. Column number : 464\n",
      "Greater than 20%. Column number : 465\n",
      "Greater than 20%. Column number : 466\n",
      "Greater than 20%. Column number : 467\n",
      "Greater than 20%. Column number : 468\n",
      "Greater than 20%. Column number : 469\n",
      "Greater than 20%. Column number : 470\n",
      "Greater than 20%. Column number : 471\n",
      "Greater than 20%. Column number : 472\n",
      "Greater than 20%. Column number : 473\n",
      "Greater than 20%. Column number : 474\n",
      "Greater than 20%. Column number : 475\n",
      "Greater than 20%. Column number : 476\n",
      "Greater than 20%. Column number : 477\n",
      "Greater than 20%. Column number : 478\n",
      "Greater than 20%. Column number : 479\n",
      "Greater than 20%. Column number : 480\n",
      "Greater than 20%. Column number : 481\n",
      "Greater than 20%. Column number : 482\n",
      "Greater than 20%. Column number : 483\n",
      "Greater than 20%. Column number : 484\n",
      "Greater than 20%. Column number : 485\n",
      "Greater than 20%. Column number : 486\n",
      "Greater than 20%. Column number : 487\n",
      "Greater than 20%. Column number : 488\n",
      "Greater than 20%. Column number : 489\n",
      "Lesser than 20%. Column number : 490\n",
      "Greater than 20%. Column number : 491\n",
      "Greater than 20%. Column number : 492\n",
      "Greater than 20%. Column number : 496\n",
      "Greater than 20%. Column number : 497\n",
      "Greater than 20%. Column number : 498\n",
      "Lesser than 20%. Column number : 499\n",
      "Lesser than 20%. Column number : 500\n",
      "Greater than 20%. Column number : 501\n",
      "Greater than 20%. Column number : 502\n",
      "Greater than 20%. Column number : 503\n",
      "Greater than 20%. Column number : 504\n",
      "Greater than 20%. Column number : 505\n",
      "Greater than 20%. Column number : 506\n",
      "Greater than 20%. Column number : 507\n",
      "Greater than 20%. Column number : 508\n",
      "Greater than 20%. Column number : 509\n"
     ]
    },
    {
     "name": "stdout",
     "output_type": "stream",
     "text": [
      "Lesser than 20%. Column number : 510\n",
      "Lesser than 20%. Column number : 511\n",
      "Greater than 20%. Column number : 512\n",
      "Greater than 20%. Column number : 513\n",
      "Greater than 20%. Column number : 514\n",
      "Greater than 20%. Column number : 515\n",
      "Greater than 20%. Column number : 516\n",
      "Greater than 20%. Column number : 517\n",
      "Greater than 20%. Column number : 518\n",
      "Greater than 20%. Column number : 519\n",
      "Greater than 20%. Column number : 525\n",
      "Greater than 20%. Column number : 528\n",
      "Greater than 20%. Column number : 529\n",
      "Greater than 20%. Column number : 530\n",
      "Greater than 20%. Column number : 531\n",
      "Greater than 20%. Column number : 532\n",
      "Greater than 20%. Column number : 533\n",
      "Greater than 20%. Column number : 534\n",
      "Greater than 20%. Column number : 535\n",
      "Greater than 20%. Column number : 536\n",
      "Greater than 20%. Column number : 537\n",
      "Greater than 20%. Column number : 538\n",
      "Greater than 20%. Column number : 539\n",
      "Greater than 20%. Column number : 540\n",
      "Greater than 20%. Column number : 541\n",
      "Lesser than 20%. Column number : 542\n",
      "Lesser than 20%. Column number : 543\n",
      "Lesser than 20%. Column number : 544\n",
      "Lesser than 20%. Column number : 545\n",
      "Greater than 20%. Column number : 546\n",
      "Greater than 20%. Column number : 547\n",
      "Greater than 20%. Column number : 548\n",
      "Greater than 20%. Column number : 549\n",
      "Greater than 20%. Column number : 550\n",
      "Greater than 20%. Column number : 551\n",
      "Greater than 20%. Column number : 552\n",
      "Greater than 20%. Column number : 553\n",
      "Greater than 20%. Column number : 554\n",
      "Greater than 20%. Column number : 555\n",
      "Greater than 20%. Column number : 556\n",
      "Greater than 20%. Column number : 557\n",
      "Lesser than 20%. Column number : 558\n",
      "Lesser than 20%. Column number : 559\n",
      "Lesser than 20%. Column number : 560\n",
      "Lesser than 20%. Column number : 561\n",
      "Greater than 20%. Column number : 562\n",
      "Greater than 20%. Column number : 563\n",
      "Greater than 20%. Column number : 564\n",
      "Greater than 20%. Column number : 565\n",
      "Greater than 20%. Column number : 566\n",
      "Greater than 20%. Column number : 567\n",
      "Greater than 20%. Column number : 568\n",
      "Greater than 20%. Column number : 569\n",
      "Greater than 20%. Column number : 578\n",
      "Greater than 20%. Column number : 579\n",
      "Greater than 20%. Column number : 580\n",
      "Greater than 20%. Column number : 581\n",
      "Lesser than 20%. Column number : 582\n",
      "Lesser than 20%. Column number : 583\n",
      "Lesser than 20%. Column number : 584\n",
      "Lesser than 20%. Column number : 585\n",
      "Lesser than 20%. Column number : 586\n",
      "Lesser than 20%. Column number : 587\n",
      "Lesser than 20%. Column number : 588\n",
      "Lesser than 20%. Column number : 589\n"
     ]
    }
   ],
   "source": [
    "\n",
    "for col in signal.columns:\n",
    "    col_per_missing = signal[col].isnull().sum() * 100 / len(signal[col])\n",
    "    if col_per_missing > 0.20:\n",
    "        print('Greater than 20%. Column number :', col)\n",
    "        signal.drop([col], axis = 1, inplace=True)\n",
    "    elif col_per_missing == 0:\n",
    "        continue \n",
    "    else:\n",
    "        print('Lesser than 20%. Column number :', col)\n",
    "        signal[col] = signal[col].fillna(signal[col].mean())\n"
   ]
  },
  {
   "cell_type": "code",
   "execution_count": 214,
   "id": "1304cfcc",
   "metadata": {},
   "outputs": [
    {
     "data": {
      "text/plain": [
       "(1567, 253)"
      ]
     },
     "execution_count": 214,
     "metadata": {},
     "output_type": "execute_result"
    }
   ],
   "source": [
    "signal.shape\n",
    "\n",
    "# We have dropped all the columns with null values greater than 20% and imputed the mean of columns for the rest"
   ]
  },
  {
   "cell_type": "code",
   "execution_count": 215,
   "id": "33af26a5",
   "metadata": {},
   "outputs": [
    {
     "data": {
      "text/html": [
       "<div>\n",
       "<style scoped>\n",
       "    .dataframe tbody tr th:only-of-type {\n",
       "        vertical-align: middle;\n",
       "    }\n",
       "\n",
       "    .dataframe tbody tr th {\n",
       "        vertical-align: top;\n",
       "    }\n",
       "\n",
       "    .dataframe thead th {\n",
       "        text-align: right;\n",
       "    }\n",
       "</style>\n",
       "<table border=\"1\" class=\"dataframe\">\n",
       "  <thead>\n",
       "    <tr style=\"text-align: right;\">\n",
       "      <th></th>\n",
       "      <th>Number of missing values</th>\n",
       "    </tr>\n",
       "  </thead>\n",
       "  <tbody>\n",
       "    <tr>\n",
       "      <th>8</th>\n",
       "      <td>0</td>\n",
       "    </tr>\n",
       "    <tr>\n",
       "      <th>9</th>\n",
       "      <td>0</td>\n",
       "    </tr>\n",
       "    <tr>\n",
       "      <th>10</th>\n",
       "      <td>0</td>\n",
       "    </tr>\n",
       "    <tr>\n",
       "      <th>11</th>\n",
       "      <td>0</td>\n",
       "    </tr>\n",
       "    <tr>\n",
       "      <th>12</th>\n",
       "      <td>0</td>\n",
       "    </tr>\n",
       "    <tr>\n",
       "      <th>...</th>\n",
       "      <td>...</td>\n",
       "    </tr>\n",
       "    <tr>\n",
       "      <th>586</th>\n",
       "      <td>0</td>\n",
       "    </tr>\n",
       "    <tr>\n",
       "      <th>587</th>\n",
       "      <td>0</td>\n",
       "    </tr>\n",
       "    <tr>\n",
       "      <th>588</th>\n",
       "      <td>0</td>\n",
       "    </tr>\n",
       "    <tr>\n",
       "      <th>589</th>\n",
       "      <td>0</td>\n",
       "    </tr>\n",
       "    <tr>\n",
       "      <th>Pass/Fail</th>\n",
       "      <td>0</td>\n",
       "    </tr>\n",
       "  </tbody>\n",
       "</table>\n",
       "<p>253 rows × 1 columns</p>\n",
       "</div>"
      ],
      "text/plain": [
       "           Number of missing values\n",
       "8                                 0\n",
       "9                                 0\n",
       "10                                0\n",
       "11                                0\n",
       "12                                0\n",
       "...                             ...\n",
       "586                               0\n",
       "587                               0\n",
       "588                               0\n",
       "589                               0\n",
       "Pass/Fail                         0\n",
       "\n",
       "[253 rows x 1 columns]"
      ]
     },
     "execution_count": 215,
     "metadata": {},
     "output_type": "execute_result"
    }
   ],
   "source": [
    "#To check for remaining NaN values\n",
    "\n",
    "pd.DataFrame( signal.isnull().sum(), columns= ['Number of missing values'])\n"
   ]
  },
  {
   "cell_type": "code",
   "execution_count": 216,
   "id": "1c59f822",
   "metadata": {},
   "outputs": [],
   "source": [
    "# This shows that now we have 253 columns and none of those have any NanN values"
   ]
  },
  {
   "cell_type": "code",
   "execution_count": 217,
   "id": "40ea81c7",
   "metadata": {},
   "outputs": [
    {
     "data": {
      "text/html": [
       "<div>\n",
       "<style scoped>\n",
       "    .dataframe tbody tr th:only-of-type {\n",
       "        vertical-align: middle;\n",
       "    }\n",
       "\n",
       "    .dataframe tbody tr th {\n",
       "        vertical-align: top;\n",
       "    }\n",
       "\n",
       "    .dataframe thead th {\n",
       "        text-align: right;\n",
       "    }\n",
       "</style>\n",
       "<table border=\"1\" class=\"dataframe\">\n",
       "  <thead>\n",
       "    <tr style=\"text-align: right;\">\n",
       "      <th></th>\n",
       "      <th>8</th>\n",
       "      <th>9</th>\n",
       "      <th>10</th>\n",
       "      <th>11</th>\n",
       "      <th>12</th>\n",
       "      <th>13</th>\n",
       "      <th>14</th>\n",
       "      <th>15</th>\n",
       "      <th>16</th>\n",
       "      <th>17</th>\n",
       "      <th>...</th>\n",
       "      <th>577</th>\n",
       "      <th>582</th>\n",
       "      <th>583</th>\n",
       "      <th>584</th>\n",
       "      <th>585</th>\n",
       "      <th>586</th>\n",
       "      <th>587</th>\n",
       "      <th>588</th>\n",
       "      <th>589</th>\n",
       "      <th>Pass/Fail</th>\n",
       "    </tr>\n",
       "  </thead>\n",
       "  <tbody>\n",
       "    <tr>\n",
       "      <th>0</th>\n",
       "      <td>1.5005</td>\n",
       "      <td>0.0162</td>\n",
       "      <td>-0.0034</td>\n",
       "      <td>0.9455</td>\n",
       "      <td>202.4396</td>\n",
       "      <td>0.0</td>\n",
       "      <td>7.9558</td>\n",
       "      <td>414.8710</td>\n",
       "      <td>10.0433</td>\n",
       "      <td>0.9680</td>\n",
       "      <td>...</td>\n",
       "      <td>14.9509</td>\n",
       "      <td>0.5005</td>\n",
       "      <td>0.0118</td>\n",
       "      <td>0.0035</td>\n",
       "      <td>2.3630</td>\n",
       "      <td>0.021458</td>\n",
       "      <td>0.016475</td>\n",
       "      <td>0.005283</td>\n",
       "      <td>99.670066</td>\n",
       "      <td>-1</td>\n",
       "    </tr>\n",
       "    <tr>\n",
       "      <th>1</th>\n",
       "      <td>1.4966</td>\n",
       "      <td>-0.0005</td>\n",
       "      <td>-0.0148</td>\n",
       "      <td>0.9627</td>\n",
       "      <td>200.5470</td>\n",
       "      <td>0.0</td>\n",
       "      <td>10.1548</td>\n",
       "      <td>414.7347</td>\n",
       "      <td>9.2599</td>\n",
       "      <td>0.9701</td>\n",
       "      <td>...</td>\n",
       "      <td>10.9003</td>\n",
       "      <td>0.5019</td>\n",
       "      <td>0.0223</td>\n",
       "      <td>0.0055</td>\n",
       "      <td>4.4447</td>\n",
       "      <td>0.009600</td>\n",
       "      <td>0.020100</td>\n",
       "      <td>0.006000</td>\n",
       "      <td>208.204500</td>\n",
       "      <td>-1</td>\n",
       "    </tr>\n",
       "    <tr>\n",
       "      <th>2</th>\n",
       "      <td>1.4436</td>\n",
       "      <td>0.0041</td>\n",
       "      <td>0.0013</td>\n",
       "      <td>0.9615</td>\n",
       "      <td>202.0179</td>\n",
       "      <td>0.0</td>\n",
       "      <td>9.5157</td>\n",
       "      <td>416.7075</td>\n",
       "      <td>9.3144</td>\n",
       "      <td>0.9674</td>\n",
       "      <td>...</td>\n",
       "      <td>9.2721</td>\n",
       "      <td>0.4958</td>\n",
       "      <td>0.0157</td>\n",
       "      <td>0.0039</td>\n",
       "      <td>3.1745</td>\n",
       "      <td>0.058400</td>\n",
       "      <td>0.048400</td>\n",
       "      <td>0.014800</td>\n",
       "      <td>82.860200</td>\n",
       "      <td>1</td>\n",
       "    </tr>\n",
       "    <tr>\n",
       "      <th>3</th>\n",
       "      <td>1.4882</td>\n",
       "      <td>-0.0124</td>\n",
       "      <td>-0.0033</td>\n",
       "      <td>0.9629</td>\n",
       "      <td>201.8482</td>\n",
       "      <td>0.0</td>\n",
       "      <td>9.6052</td>\n",
       "      <td>422.2894</td>\n",
       "      <td>9.6924</td>\n",
       "      <td>0.9687</td>\n",
       "      <td>...</td>\n",
       "      <td>8.5831</td>\n",
       "      <td>0.4990</td>\n",
       "      <td>0.0103</td>\n",
       "      <td>0.0025</td>\n",
       "      <td>2.0544</td>\n",
       "      <td>0.020200</td>\n",
       "      <td>0.014900</td>\n",
       "      <td>0.004400</td>\n",
       "      <td>73.843200</td>\n",
       "      <td>-1</td>\n",
       "    </tr>\n",
       "    <tr>\n",
       "      <th>4</th>\n",
       "      <td>1.5031</td>\n",
       "      <td>-0.0031</td>\n",
       "      <td>-0.0072</td>\n",
       "      <td>0.9569</td>\n",
       "      <td>201.9424</td>\n",
       "      <td>0.0</td>\n",
       "      <td>10.5661</td>\n",
       "      <td>420.5925</td>\n",
       "      <td>10.3387</td>\n",
       "      <td>0.9735</td>\n",
       "      <td>...</td>\n",
       "      <td>10.9698</td>\n",
       "      <td>0.4800</td>\n",
       "      <td>0.4766</td>\n",
       "      <td>0.1045</td>\n",
       "      <td>99.3032</td>\n",
       "      <td>0.020200</td>\n",
       "      <td>0.014900</td>\n",
       "      <td>0.004400</td>\n",
       "      <td>73.843200</td>\n",
       "      <td>-1</td>\n",
       "    </tr>\n",
       "  </tbody>\n",
       "</table>\n",
       "<p>5 rows × 253 columns</p>\n",
       "</div>"
      ],
      "text/plain": [
       "        8       9      10      11        12   13       14        15       16  \\\n",
       "0  1.5005  0.0162 -0.0034  0.9455  202.4396  0.0   7.9558  414.8710  10.0433   \n",
       "1  1.4966 -0.0005 -0.0148  0.9627  200.5470  0.0  10.1548  414.7347   9.2599   \n",
       "2  1.4436  0.0041  0.0013  0.9615  202.0179  0.0   9.5157  416.7075   9.3144   \n",
       "3  1.4882 -0.0124 -0.0033  0.9629  201.8482  0.0   9.6052  422.2894   9.6924   \n",
       "4  1.5031 -0.0031 -0.0072  0.9569  201.9424  0.0  10.5661  420.5925  10.3387   \n",
       "\n",
       "       17  ...      577     582     583     584      585       586       587  \\\n",
       "0  0.9680  ...  14.9509  0.5005  0.0118  0.0035   2.3630  0.021458  0.016475   \n",
       "1  0.9701  ...  10.9003  0.5019  0.0223  0.0055   4.4447  0.009600  0.020100   \n",
       "2  0.9674  ...   9.2721  0.4958  0.0157  0.0039   3.1745  0.058400  0.048400   \n",
       "3  0.9687  ...   8.5831  0.4990  0.0103  0.0025   2.0544  0.020200  0.014900   \n",
       "4  0.9735  ...  10.9698  0.4800  0.4766  0.1045  99.3032  0.020200  0.014900   \n",
       "\n",
       "        588         589  Pass/Fail  \n",
       "0  0.005283   99.670066         -1  \n",
       "1  0.006000  208.204500         -1  \n",
       "2  0.014800   82.860200          1  \n",
       "3  0.004400   73.843200         -1  \n",
       "4  0.004400   73.843200         -1  \n",
       "\n",
       "[5 rows x 253 columns]"
      ]
     },
     "execution_count": 217,
     "metadata": {},
     "output_type": "execute_result"
    }
   ],
   "source": [
    "signal.head()"
   ]
  },
  {
   "cell_type": "markdown",
   "id": "e7f724cb",
   "metadata": {},
   "source": [
    "#### B.Identify and drop the features which are having same value for all the rows."
   ]
  },
  {
   "cell_type": "code",
   "execution_count": 218,
   "id": "dcb8de6f",
   "metadata": {},
   "outputs": [
    {
     "name": "stdout",
     "output_type": "stream",
     "text": [
      "Index(['13', '42', '49', '52', '149', '179', '186', '189', '284', '315', '322',\n",
      "       '325', '422', '451', '458', '461'],\n",
      "      dtype='object')\n"
     ]
    }
   ],
   "source": [
    "nunique = signal.nunique()\n",
    "cols_to_drop = nunique[nunique == 1].index\n",
    "\n",
    "print(cols_to_drop)\n",
    "\n",
    "signal = signal.drop(cols_to_drop, axis=1)\n",
    "\n",
    "\n",
    "#Dropping all columns with only one unique value in all rows of the dataframe, which shows that the data is repeated"
   ]
  },
  {
   "cell_type": "code",
   "execution_count": 219,
   "id": "80cba14a",
   "metadata": {},
   "outputs": [
    {
     "data": {
      "text/html": [
       "<div>\n",
       "<style scoped>\n",
       "    .dataframe tbody tr th:only-of-type {\n",
       "        vertical-align: middle;\n",
       "    }\n",
       "\n",
       "    .dataframe tbody tr th {\n",
       "        vertical-align: top;\n",
       "    }\n",
       "\n",
       "    .dataframe thead th {\n",
       "        text-align: right;\n",
       "    }\n",
       "</style>\n",
       "<table border=\"1\" class=\"dataframe\">\n",
       "  <thead>\n",
       "    <tr style=\"text-align: right;\">\n",
       "      <th></th>\n",
       "      <th>8</th>\n",
       "      <th>9</th>\n",
       "      <th>10</th>\n",
       "      <th>11</th>\n",
       "      <th>12</th>\n",
       "      <th>14</th>\n",
       "      <th>15</th>\n",
       "      <th>16</th>\n",
       "      <th>17</th>\n",
       "      <th>18</th>\n",
       "      <th>...</th>\n",
       "      <th>577</th>\n",
       "      <th>582</th>\n",
       "      <th>583</th>\n",
       "      <th>584</th>\n",
       "      <th>585</th>\n",
       "      <th>586</th>\n",
       "      <th>587</th>\n",
       "      <th>588</th>\n",
       "      <th>589</th>\n",
       "      <th>Pass/Fail</th>\n",
       "    </tr>\n",
       "  </thead>\n",
       "  <tbody>\n",
       "    <tr>\n",
       "      <th>0</th>\n",
       "      <td>1.5005</td>\n",
       "      <td>0.0162</td>\n",
       "      <td>-0.0034</td>\n",
       "      <td>0.9455</td>\n",
       "      <td>202.4396</td>\n",
       "      <td>7.9558</td>\n",
       "      <td>414.8710</td>\n",
       "      <td>10.0433</td>\n",
       "      <td>0.9680</td>\n",
       "      <td>192.3963</td>\n",
       "      <td>...</td>\n",
       "      <td>14.9509</td>\n",
       "      <td>0.5005</td>\n",
       "      <td>0.0118</td>\n",
       "      <td>0.0035</td>\n",
       "      <td>2.3630</td>\n",
       "      <td>0.021458</td>\n",
       "      <td>0.016475</td>\n",
       "      <td>0.005283</td>\n",
       "      <td>99.670066</td>\n",
       "      <td>-1</td>\n",
       "    </tr>\n",
       "    <tr>\n",
       "      <th>1</th>\n",
       "      <td>1.4966</td>\n",
       "      <td>-0.0005</td>\n",
       "      <td>-0.0148</td>\n",
       "      <td>0.9627</td>\n",
       "      <td>200.5470</td>\n",
       "      <td>10.1548</td>\n",
       "      <td>414.7347</td>\n",
       "      <td>9.2599</td>\n",
       "      <td>0.9701</td>\n",
       "      <td>191.2872</td>\n",
       "      <td>...</td>\n",
       "      <td>10.9003</td>\n",
       "      <td>0.5019</td>\n",
       "      <td>0.0223</td>\n",
       "      <td>0.0055</td>\n",
       "      <td>4.4447</td>\n",
       "      <td>0.009600</td>\n",
       "      <td>0.020100</td>\n",
       "      <td>0.006000</td>\n",
       "      <td>208.204500</td>\n",
       "      <td>-1</td>\n",
       "    </tr>\n",
       "    <tr>\n",
       "      <th>2</th>\n",
       "      <td>1.4436</td>\n",
       "      <td>0.0041</td>\n",
       "      <td>0.0013</td>\n",
       "      <td>0.9615</td>\n",
       "      <td>202.0179</td>\n",
       "      <td>9.5157</td>\n",
       "      <td>416.7075</td>\n",
       "      <td>9.3144</td>\n",
       "      <td>0.9674</td>\n",
       "      <td>192.7035</td>\n",
       "      <td>...</td>\n",
       "      <td>9.2721</td>\n",
       "      <td>0.4958</td>\n",
       "      <td>0.0157</td>\n",
       "      <td>0.0039</td>\n",
       "      <td>3.1745</td>\n",
       "      <td>0.058400</td>\n",
       "      <td>0.048400</td>\n",
       "      <td>0.014800</td>\n",
       "      <td>82.860200</td>\n",
       "      <td>1</td>\n",
       "    </tr>\n",
       "    <tr>\n",
       "      <th>3</th>\n",
       "      <td>1.4882</td>\n",
       "      <td>-0.0124</td>\n",
       "      <td>-0.0033</td>\n",
       "      <td>0.9629</td>\n",
       "      <td>201.8482</td>\n",
       "      <td>9.6052</td>\n",
       "      <td>422.2894</td>\n",
       "      <td>9.6924</td>\n",
       "      <td>0.9687</td>\n",
       "      <td>192.1557</td>\n",
       "      <td>...</td>\n",
       "      <td>8.5831</td>\n",
       "      <td>0.4990</td>\n",
       "      <td>0.0103</td>\n",
       "      <td>0.0025</td>\n",
       "      <td>2.0544</td>\n",
       "      <td>0.020200</td>\n",
       "      <td>0.014900</td>\n",
       "      <td>0.004400</td>\n",
       "      <td>73.843200</td>\n",
       "      <td>-1</td>\n",
       "    </tr>\n",
       "    <tr>\n",
       "      <th>4</th>\n",
       "      <td>1.5031</td>\n",
       "      <td>-0.0031</td>\n",
       "      <td>-0.0072</td>\n",
       "      <td>0.9569</td>\n",
       "      <td>201.9424</td>\n",
       "      <td>10.5661</td>\n",
       "      <td>420.5925</td>\n",
       "      <td>10.3387</td>\n",
       "      <td>0.9735</td>\n",
       "      <td>191.6037</td>\n",
       "      <td>...</td>\n",
       "      <td>10.9698</td>\n",
       "      <td>0.4800</td>\n",
       "      <td>0.4766</td>\n",
       "      <td>0.1045</td>\n",
       "      <td>99.3032</td>\n",
       "      <td>0.020200</td>\n",
       "      <td>0.014900</td>\n",
       "      <td>0.004400</td>\n",
       "      <td>73.843200</td>\n",
       "      <td>-1</td>\n",
       "    </tr>\n",
       "  </tbody>\n",
       "</table>\n",
       "<p>5 rows × 237 columns</p>\n",
       "</div>"
      ],
      "text/plain": [
       "        8       9      10      11        12       14        15       16  \\\n",
       "0  1.5005  0.0162 -0.0034  0.9455  202.4396   7.9558  414.8710  10.0433   \n",
       "1  1.4966 -0.0005 -0.0148  0.9627  200.5470  10.1548  414.7347   9.2599   \n",
       "2  1.4436  0.0041  0.0013  0.9615  202.0179   9.5157  416.7075   9.3144   \n",
       "3  1.4882 -0.0124 -0.0033  0.9629  201.8482   9.6052  422.2894   9.6924   \n",
       "4  1.5031 -0.0031 -0.0072  0.9569  201.9424  10.5661  420.5925  10.3387   \n",
       "\n",
       "       17        18  ...      577     582     583     584      585       586  \\\n",
       "0  0.9680  192.3963  ...  14.9509  0.5005  0.0118  0.0035   2.3630  0.021458   \n",
       "1  0.9701  191.2872  ...  10.9003  0.5019  0.0223  0.0055   4.4447  0.009600   \n",
       "2  0.9674  192.7035  ...   9.2721  0.4958  0.0157  0.0039   3.1745  0.058400   \n",
       "3  0.9687  192.1557  ...   8.5831  0.4990  0.0103  0.0025   2.0544  0.020200   \n",
       "4  0.9735  191.6037  ...  10.9698  0.4800  0.4766  0.1045  99.3032  0.020200   \n",
       "\n",
       "        587       588         589  Pass/Fail  \n",
       "0  0.016475  0.005283   99.670066         -1  \n",
       "1  0.020100  0.006000  208.204500         -1  \n",
       "2  0.048400  0.014800   82.860200          1  \n",
       "3  0.014900  0.004400   73.843200         -1  \n",
       "4  0.014900  0.004400   73.843200         -1  \n",
       "\n",
       "[5 rows x 237 columns]"
      ]
     },
     "execution_count": 219,
     "metadata": {},
     "output_type": "execute_result"
    }
   ],
   "source": [
    "signal.head()"
   ]
  },
  {
   "cell_type": "code",
   "execution_count": 220,
   "id": "3a5472d5",
   "metadata": {},
   "outputs": [
    {
     "data": {
      "text/plain": [
       "(1567, 237)"
      ]
     },
     "execution_count": 220,
     "metadata": {},
     "output_type": "execute_result"
    }
   ],
   "source": [
    "signal.shape\n",
    "\n",
    "#Now, number of features have become 237"
   ]
  },
  {
   "cell_type": "markdown",
   "id": "dee90310",
   "metadata": {},
   "source": [
    "#### C.Drop other features if required using relevant functional knowledge. Clearly justify the same."
   ]
  },
  {
   "cell_type": "code",
   "execution_count": 221,
   "id": "0e09a35a",
   "metadata": {},
   "outputs": [
    {
     "data": {
      "text/html": [
       "<div>\n",
       "<style scoped>\n",
       "    .dataframe tbody tr th:only-of-type {\n",
       "        vertical-align: middle;\n",
       "    }\n",
       "\n",
       "    .dataframe tbody tr th {\n",
       "        vertical-align: top;\n",
       "    }\n",
       "\n",
       "    .dataframe thead th {\n",
       "        text-align: right;\n",
       "    }\n",
       "</style>\n",
       "<table border=\"1\" class=\"dataframe\">\n",
       "  <thead>\n",
       "    <tr style=\"text-align: right;\">\n",
       "      <th></th>\n",
       "      <th>8</th>\n",
       "      <th>9</th>\n",
       "      <th>10</th>\n",
       "      <th>11</th>\n",
       "      <th>12</th>\n",
       "      <th>14</th>\n",
       "      <th>15</th>\n",
       "      <th>16</th>\n",
       "      <th>17</th>\n",
       "      <th>18</th>\n",
       "      <th>...</th>\n",
       "      <th>577</th>\n",
       "      <th>582</th>\n",
       "      <th>583</th>\n",
       "      <th>584</th>\n",
       "      <th>585</th>\n",
       "      <th>586</th>\n",
       "      <th>587</th>\n",
       "      <th>588</th>\n",
       "      <th>589</th>\n",
       "      <th>Pass/Fail</th>\n",
       "    </tr>\n",
       "  </thead>\n",
       "  <tbody>\n",
       "    <tr>\n",
       "      <th>0</th>\n",
       "      <td>1.500500</td>\n",
       "      <td>0.016200</td>\n",
       "      <td>-0.003400</td>\n",
       "      <td>0.945500</td>\n",
       "      <td>202.439600</td>\n",
       "      <td>7.955800</td>\n",
       "      <td>414.871000</td>\n",
       "      <td>10.043300</td>\n",
       "      <td>0.968000</td>\n",
       "      <td>192.396300</td>\n",
       "      <td>...</td>\n",
       "      <td>14.9509</td>\n",
       "      <td>0.5005</td>\n",
       "      <td>0.0118</td>\n",
       "      <td>0.0035</td>\n",
       "      <td>2.3630</td>\n",
       "      <td>0.021458</td>\n",
       "      <td>0.016475</td>\n",
       "      <td>0.005283</td>\n",
       "      <td>99.670066</td>\n",
       "      <td>-1</td>\n",
       "    </tr>\n",
       "    <tr>\n",
       "      <th>1</th>\n",
       "      <td>1.496600</td>\n",
       "      <td>-0.000500</td>\n",
       "      <td>-0.014800</td>\n",
       "      <td>0.962700</td>\n",
       "      <td>200.547000</td>\n",
       "      <td>10.154800</td>\n",
       "      <td>414.734700</td>\n",
       "      <td>9.259900</td>\n",
       "      <td>0.970100</td>\n",
       "      <td>191.287200</td>\n",
       "      <td>...</td>\n",
       "      <td>10.9003</td>\n",
       "      <td>0.5019</td>\n",
       "      <td>0.0223</td>\n",
       "      <td>0.0055</td>\n",
       "      <td>4.4447</td>\n",
       "      <td>0.009600</td>\n",
       "      <td>0.020100</td>\n",
       "      <td>0.006000</td>\n",
       "      <td>208.204500</td>\n",
       "      <td>-1</td>\n",
       "    </tr>\n",
       "    <tr>\n",
       "      <th>2</th>\n",
       "      <td>1.443600</td>\n",
       "      <td>0.004100</td>\n",
       "      <td>0.001300</td>\n",
       "      <td>0.961500</td>\n",
       "      <td>202.017900</td>\n",
       "      <td>9.515700</td>\n",
       "      <td>416.707500</td>\n",
       "      <td>9.314400</td>\n",
       "      <td>0.967400</td>\n",
       "      <td>192.703500</td>\n",
       "      <td>...</td>\n",
       "      <td>9.2721</td>\n",
       "      <td>0.4958</td>\n",
       "      <td>0.0157</td>\n",
       "      <td>0.0039</td>\n",
       "      <td>3.1745</td>\n",
       "      <td>0.058400</td>\n",
       "      <td>0.048400</td>\n",
       "      <td>0.014800</td>\n",
       "      <td>82.860200</td>\n",
       "      <td>1</td>\n",
       "    </tr>\n",
       "    <tr>\n",
       "      <th>3</th>\n",
       "      <td>1.488200</td>\n",
       "      <td>-0.012400</td>\n",
       "      <td>-0.003300</td>\n",
       "      <td>0.962900</td>\n",
       "      <td>201.848200</td>\n",
       "      <td>9.605200</td>\n",
       "      <td>422.289400</td>\n",
       "      <td>9.692400</td>\n",
       "      <td>0.968700</td>\n",
       "      <td>192.155700</td>\n",
       "      <td>...</td>\n",
       "      <td>8.5831</td>\n",
       "      <td>0.4990</td>\n",
       "      <td>0.0103</td>\n",
       "      <td>0.0025</td>\n",
       "      <td>2.0544</td>\n",
       "      <td>0.020200</td>\n",
       "      <td>0.014900</td>\n",
       "      <td>0.004400</td>\n",
       "      <td>73.843200</td>\n",
       "      <td>-1</td>\n",
       "    </tr>\n",
       "    <tr>\n",
       "      <th>4</th>\n",
       "      <td>1.503100</td>\n",
       "      <td>-0.003100</td>\n",
       "      <td>-0.007200</td>\n",
       "      <td>0.956900</td>\n",
       "      <td>201.942400</td>\n",
       "      <td>10.566100</td>\n",
       "      <td>420.592500</td>\n",
       "      <td>10.338700</td>\n",
       "      <td>0.973500</td>\n",
       "      <td>191.603700</td>\n",
       "      <td>...</td>\n",
       "      <td>10.9698</td>\n",
       "      <td>0.4800</td>\n",
       "      <td>0.4766</td>\n",
       "      <td>0.1045</td>\n",
       "      <td>99.3032</td>\n",
       "      <td>0.020200</td>\n",
       "      <td>0.014900</td>\n",
       "      <td>0.004400</td>\n",
       "      <td>73.843200</td>\n",
       "      <td>-1</td>\n",
       "    </tr>\n",
       "    <tr>\n",
       "      <th>...</th>\n",
       "      <td>...</td>\n",
       "      <td>...</td>\n",
       "      <td>...</td>\n",
       "      <td>...</td>\n",
       "      <td>...</td>\n",
       "      <td>...</td>\n",
       "      <td>...</td>\n",
       "      <td>...</td>\n",
       "      <td>...</td>\n",
       "      <td>...</td>\n",
       "      <td>...</td>\n",
       "      <td>...</td>\n",
       "      <td>...</td>\n",
       "      <td>...</td>\n",
       "      <td>...</td>\n",
       "      <td>...</td>\n",
       "      <td>...</td>\n",
       "      <td>...</td>\n",
       "      <td>...</td>\n",
       "      <td>...</td>\n",
       "      <td>...</td>\n",
       "    </tr>\n",
       "    <tr>\n",
       "      <th>1562</th>\n",
       "      <td>1.342400</td>\n",
       "      <td>-0.004500</td>\n",
       "      <td>-0.005700</td>\n",
       "      <td>0.957900</td>\n",
       "      <td>203.986700</td>\n",
       "      <td>11.769200</td>\n",
       "      <td>419.340400</td>\n",
       "      <td>10.239700</td>\n",
       "      <td>0.969300</td>\n",
       "      <td>193.747000</td>\n",
       "      <td>...</td>\n",
       "      <td>11.7256</td>\n",
       "      <td>0.4988</td>\n",
       "      <td>0.0143</td>\n",
       "      <td>0.0039</td>\n",
       "      <td>2.8669</td>\n",
       "      <td>0.006800</td>\n",
       "      <td>0.013800</td>\n",
       "      <td>0.004700</td>\n",
       "      <td>203.172000</td>\n",
       "      <td>-1</td>\n",
       "    </tr>\n",
       "    <tr>\n",
       "      <th>1563</th>\n",
       "      <td>1.433300</td>\n",
       "      <td>-0.006100</td>\n",
       "      <td>-0.009300</td>\n",
       "      <td>0.961800</td>\n",
       "      <td>204.017300</td>\n",
       "      <td>9.162000</td>\n",
       "      <td>405.817800</td>\n",
       "      <td>10.228500</td>\n",
       "      <td>0.969600</td>\n",
       "      <td>193.788900</td>\n",
       "      <td>...</td>\n",
       "      <td>17.8379</td>\n",
       "      <td>0.4975</td>\n",
       "      <td>0.0131</td>\n",
       "      <td>0.0036</td>\n",
       "      <td>2.6238</td>\n",
       "      <td>0.006800</td>\n",
       "      <td>0.013800</td>\n",
       "      <td>0.004700</td>\n",
       "      <td>203.172000</td>\n",
       "      <td>-1</td>\n",
       "    </tr>\n",
       "    <tr>\n",
       "      <th>1564</th>\n",
       "      <td>1.462862</td>\n",
       "      <td>-0.000841</td>\n",
       "      <td>0.000146</td>\n",
       "      <td>0.964353</td>\n",
       "      <td>199.956809</td>\n",
       "      <td>9.005371</td>\n",
       "      <td>413.086035</td>\n",
       "      <td>9.907603</td>\n",
       "      <td>0.971444</td>\n",
       "      <td>190.047354</td>\n",
       "      <td>...</td>\n",
       "      <td>17.7267</td>\n",
       "      <td>0.4987</td>\n",
       "      <td>0.0153</td>\n",
       "      <td>0.0041</td>\n",
       "      <td>3.0590</td>\n",
       "      <td>0.019700</td>\n",
       "      <td>0.008600</td>\n",
       "      <td>0.002500</td>\n",
       "      <td>43.523100</td>\n",
       "      <td>-1</td>\n",
       "    </tr>\n",
       "    <tr>\n",
       "      <th>1565</th>\n",
       "      <td>1.462200</td>\n",
       "      <td>-0.007200</td>\n",
       "      <td>0.003200</td>\n",
       "      <td>0.969400</td>\n",
       "      <td>197.244800</td>\n",
       "      <td>9.735400</td>\n",
       "      <td>401.915300</td>\n",
       "      <td>9.863000</td>\n",
       "      <td>0.974000</td>\n",
       "      <td>187.381800</td>\n",
       "      <td>...</td>\n",
       "      <td>19.2104</td>\n",
       "      <td>0.5004</td>\n",
       "      <td>0.0178</td>\n",
       "      <td>0.0038</td>\n",
       "      <td>3.5662</td>\n",
       "      <td>0.026200</td>\n",
       "      <td>0.024500</td>\n",
       "      <td>0.007500</td>\n",
       "      <td>93.494100</td>\n",
       "      <td>-1</td>\n",
       "    </tr>\n",
       "    <tr>\n",
       "      <th>1566</th>\n",
       "      <td>1.462862</td>\n",
       "      <td>-0.000841</td>\n",
       "      <td>0.000146</td>\n",
       "      <td>0.964353</td>\n",
       "      <td>199.956809</td>\n",
       "      <td>9.005371</td>\n",
       "      <td>413.086035</td>\n",
       "      <td>9.907603</td>\n",
       "      <td>0.971444</td>\n",
       "      <td>190.047354</td>\n",
       "      <td>...</td>\n",
       "      <td>22.9183</td>\n",
       "      <td>0.4987</td>\n",
       "      <td>0.0181</td>\n",
       "      <td>0.0040</td>\n",
       "      <td>3.6275</td>\n",
       "      <td>0.011700</td>\n",
       "      <td>0.016200</td>\n",
       "      <td>0.004500</td>\n",
       "      <td>137.784400</td>\n",
       "      <td>-1</td>\n",
       "    </tr>\n",
       "  </tbody>\n",
       "</table>\n",
       "<p>1567 rows × 237 columns</p>\n",
       "</div>"
      ],
      "text/plain": [
       "             8         9        10        11          12         14  \\\n",
       "0     1.500500  0.016200 -0.003400  0.945500  202.439600   7.955800   \n",
       "1     1.496600 -0.000500 -0.014800  0.962700  200.547000  10.154800   \n",
       "2     1.443600  0.004100  0.001300  0.961500  202.017900   9.515700   \n",
       "3     1.488200 -0.012400 -0.003300  0.962900  201.848200   9.605200   \n",
       "4     1.503100 -0.003100 -0.007200  0.956900  201.942400  10.566100   \n",
       "...        ...       ...       ...       ...         ...        ...   \n",
       "1562  1.342400 -0.004500 -0.005700  0.957900  203.986700  11.769200   \n",
       "1563  1.433300 -0.006100 -0.009300  0.961800  204.017300   9.162000   \n",
       "1564  1.462862 -0.000841  0.000146  0.964353  199.956809   9.005371   \n",
       "1565  1.462200 -0.007200  0.003200  0.969400  197.244800   9.735400   \n",
       "1566  1.462862 -0.000841  0.000146  0.964353  199.956809   9.005371   \n",
       "\n",
       "              15         16        17          18  ...      577     582  \\\n",
       "0     414.871000  10.043300  0.968000  192.396300  ...  14.9509  0.5005   \n",
       "1     414.734700   9.259900  0.970100  191.287200  ...  10.9003  0.5019   \n",
       "2     416.707500   9.314400  0.967400  192.703500  ...   9.2721  0.4958   \n",
       "3     422.289400   9.692400  0.968700  192.155700  ...   8.5831  0.4990   \n",
       "4     420.592500  10.338700  0.973500  191.603700  ...  10.9698  0.4800   \n",
       "...          ...        ...       ...         ...  ...      ...     ...   \n",
       "1562  419.340400  10.239700  0.969300  193.747000  ...  11.7256  0.4988   \n",
       "1563  405.817800  10.228500  0.969600  193.788900  ...  17.8379  0.4975   \n",
       "1564  413.086035   9.907603  0.971444  190.047354  ...  17.7267  0.4987   \n",
       "1565  401.915300   9.863000  0.974000  187.381800  ...  19.2104  0.5004   \n",
       "1566  413.086035   9.907603  0.971444  190.047354  ...  22.9183  0.4987   \n",
       "\n",
       "         583     584      585       586       587       588         589  \\\n",
       "0     0.0118  0.0035   2.3630  0.021458  0.016475  0.005283   99.670066   \n",
       "1     0.0223  0.0055   4.4447  0.009600  0.020100  0.006000  208.204500   \n",
       "2     0.0157  0.0039   3.1745  0.058400  0.048400  0.014800   82.860200   \n",
       "3     0.0103  0.0025   2.0544  0.020200  0.014900  0.004400   73.843200   \n",
       "4     0.4766  0.1045  99.3032  0.020200  0.014900  0.004400   73.843200   \n",
       "...      ...     ...      ...       ...       ...       ...         ...   \n",
       "1562  0.0143  0.0039   2.8669  0.006800  0.013800  0.004700  203.172000   \n",
       "1563  0.0131  0.0036   2.6238  0.006800  0.013800  0.004700  203.172000   \n",
       "1564  0.0153  0.0041   3.0590  0.019700  0.008600  0.002500   43.523100   \n",
       "1565  0.0178  0.0038   3.5662  0.026200  0.024500  0.007500   93.494100   \n",
       "1566  0.0181  0.0040   3.6275  0.011700  0.016200  0.004500  137.784400   \n",
       "\n",
       "      Pass/Fail  \n",
       "0            -1  \n",
       "1            -1  \n",
       "2             1  \n",
       "3            -1  \n",
       "4            -1  \n",
       "...         ...  \n",
       "1562         -1  \n",
       "1563         -1  \n",
       "1564         -1  \n",
       "1565         -1  \n",
       "1566         -1  \n",
       "\n",
       "[1567 rows x 237 columns]"
      ]
     },
     "execution_count": 221,
     "metadata": {},
     "output_type": "execute_result"
    }
   ],
   "source": [
    "signal"
   ]
  },
  {
   "cell_type": "markdown",
   "id": "b66d99b3",
   "metadata": {},
   "source": [
    "### In the given dataset, we have various signals as features. The above dataset doesn't efficiently provide insight on the practical usage of each of these signals and if one is more important than the other. For example, for the mpg dataset, if a feature was car color, that wouldn't have affected mpg of the car in anyway, so it makes sense to drop it. But, in this case, not much detail is given on what these signals represent and convey. So, we cannot drop signals based on functional knowledge"
   ]
  },
  {
   "cell_type": "markdown",
   "id": "e309eab6",
   "metadata": {},
   "source": [
    "### D.Check for multi-collinearity in the data and take necessary action."
   ]
  },
  {
   "cell_type": "code",
   "execution_count": 222,
   "id": "d5fe0d2e",
   "metadata": {},
   "outputs": [
    {
     "name": "stdout",
     "output_type": "stream",
     "text": [
      "                  8         9        10        11        12        14  \\\n",
      "8          1.000000  0.152133  0.058386  0.065065  0.005457  0.085784   \n",
      "9          0.152133  1.000000  0.064065  0.008692  0.065125  0.004359   \n",
      "10         0.058386  0.064065  1.000000  0.021358  0.052534  0.077850   \n",
      "11         0.065065  0.008692  0.021358  1.000000  0.212828  0.064007   \n",
      "12         0.005457  0.065125  0.052534  0.212828  1.000000  0.012805   \n",
      "...             ...       ...       ...       ...       ...       ...   \n",
      "586        0.010433  0.033738  0.000327  0.023005  0.037056  0.063512   \n",
      "587        0.022845  0.059301  0.046965  0.014900  0.012258  0.044234   \n",
      "588        0.026250  0.060758  0.046048  0.009667  0.012759  0.036585   \n",
      "589        0.022770  0.004880  0.008393  0.015281  0.036720  0.068161   \n",
      "Pass/Fail  0.028016  0.031191  0.033639  0.032620  0.005969  0.068975   \n",
      "\n",
      "                 15        16        17        18  ...       577       582  \\\n",
      "8          0.065719  0.039571  0.014963  0.027687  ...  0.010671  0.027611   \n",
      "9          0.050226  0.027492  0.015672  0.051984  ...  0.030169  0.046209   \n",
      "10         0.004057  0.062439  0.032645  0.008480  ...  0.029452  0.073704   \n",
      "11         0.003347  0.211808  0.793896  0.066279  ...  0.015892  0.015412   \n",
      "12         0.033933  0.552542  0.104559  0.693420  ...  0.031434  0.038282   \n",
      "...             ...       ...       ...       ...  ...       ...       ...   \n",
      "586        0.011120  0.054480  0.015993  0.089938  ...  0.002684  0.016726   \n",
      "587        0.016059  0.026357  0.032242  0.037017  ...  0.009405  0.024473   \n",
      "588        0.014375  0.028829  0.021609  0.039825  ...  0.015596  0.020705   \n",
      "589        0.009764  0.013918  0.013233  0.030614  ...  0.024766  0.041486   \n",
      "Pass/Fail  0.002884  0.002356  0.009697  0.008853  ...  0.049633  0.047020   \n",
      "\n",
      "                583       584       585       586       587       588  \\\n",
      "8          0.017390  0.019951  0.017925  0.010433  0.022845  0.026250   \n",
      "9          0.036036  0.032583  0.036109  0.033738  0.059301  0.060758   \n",
      "10         0.039060  0.039115  0.039447  0.000327  0.046965  0.046048   \n",
      "11         0.013729  0.017338  0.014046  0.023005  0.014900  0.009667   \n",
      "12         0.000696  0.002081  0.000523  0.037056  0.012258  0.012759   \n",
      "...             ...       ...       ...       ...       ...       ...   \n",
      "586        0.002257  0.001605  0.002743  1.000000  0.167913  0.164238   \n",
      "587        0.002649  0.002498  0.002930  0.167913  1.000000  0.974276   \n",
      "588        0.002260  0.001957  0.002530  0.164238  0.974276  1.000000   \n",
      "589        0.003008  0.003295  0.003800  0.486559  0.390813  0.389211   \n",
      "Pass/Fail  0.005981  0.005419  0.005034  0.004156  0.035391  0.031167   \n",
      "\n",
      "                589  Pass/Fail  \n",
      "8          0.022770   0.028016  \n",
      "9          0.004880   0.031191  \n",
      "10         0.008393   0.033639  \n",
      "11         0.015281   0.032620  \n",
      "12         0.036720   0.005969  \n",
      "...             ...        ...  \n",
      "586        0.486559   0.004156  \n",
      "587        0.390813   0.035391  \n",
      "588        0.389211   0.031167  \n",
      "589        1.000000   0.002653  \n",
      "Pass/Fail  0.002653   1.000000  \n",
      "\n",
      "[237 rows x 237 columns]\n"
     ]
    }
   ],
   "source": [
    "cor_matrix = signal.corr().abs()\n",
    "print(cor_matrix)\n",
    "\n",
    "#this is teh correlation matrix which shows the relation"
   ]
  },
  {
   "cell_type": "code",
   "execution_count": 223,
   "id": "b899e670",
   "metadata": {},
   "outputs": [
    {
     "name": "stdout",
     "output_type": "stream",
     "text": [
      "            8         9        10        11        12        14        15  \\\n",
      "8         NaN  0.152133  0.058386  0.065065  0.005457  0.085784  0.065719   \n",
      "9         NaN       NaN  0.064065  0.008692  0.065125  0.004359  0.050226   \n",
      "10        NaN       NaN       NaN  0.021358  0.052534  0.077850  0.004057   \n",
      "11        NaN       NaN       NaN       NaN  0.212828  0.064007  0.003347   \n",
      "12        NaN       NaN       NaN       NaN       NaN  0.012805  0.033933   \n",
      "...        ..       ...       ...       ...       ...       ...       ...   \n",
      "586       NaN       NaN       NaN       NaN       NaN       NaN       NaN   \n",
      "587       NaN       NaN       NaN       NaN       NaN       NaN       NaN   \n",
      "588       NaN       NaN       NaN       NaN       NaN       NaN       NaN   \n",
      "589       NaN       NaN       NaN       NaN       NaN       NaN       NaN   \n",
      "Pass/Fail NaN       NaN       NaN       NaN       NaN       NaN       NaN   \n",
      "\n",
      "                 16        17        18  ...       577       582       583  \\\n",
      "8          0.039571  0.014963  0.027687  ...  0.010671  0.027611  0.017390   \n",
      "9          0.027492  0.015672  0.051984  ...  0.030169  0.046209  0.036036   \n",
      "10         0.062439  0.032645  0.008480  ...  0.029452  0.073704  0.039060   \n",
      "11         0.211808  0.793896  0.066279  ...  0.015892  0.015412  0.013729   \n",
      "12         0.552542  0.104559  0.693420  ...  0.031434  0.038282  0.000696   \n",
      "...             ...       ...       ...  ...       ...       ...       ...   \n",
      "586             NaN       NaN       NaN  ...       NaN       NaN       NaN   \n",
      "587             NaN       NaN       NaN  ...       NaN       NaN       NaN   \n",
      "588             NaN       NaN       NaN  ...       NaN       NaN       NaN   \n",
      "589             NaN       NaN       NaN  ...       NaN       NaN       NaN   \n",
      "Pass/Fail       NaN       NaN       NaN  ...       NaN       NaN       NaN   \n",
      "\n",
      "                584       585       586       587       588       589  \\\n",
      "8          0.019951  0.017925  0.010433  0.022845  0.026250  0.022770   \n",
      "9          0.032583  0.036109  0.033738  0.059301  0.060758  0.004880   \n",
      "10         0.039115  0.039447  0.000327  0.046965  0.046048  0.008393   \n",
      "11         0.017338  0.014046  0.023005  0.014900  0.009667  0.015281   \n",
      "12         0.002081  0.000523  0.037056  0.012258  0.012759  0.036720   \n",
      "...             ...       ...       ...       ...       ...       ...   \n",
      "586             NaN       NaN       NaN  0.167913  0.164238  0.486559   \n",
      "587             NaN       NaN       NaN       NaN  0.974276  0.390813   \n",
      "588             NaN       NaN       NaN       NaN       NaN  0.389211   \n",
      "589             NaN       NaN       NaN       NaN       NaN       NaN   \n",
      "Pass/Fail       NaN       NaN       NaN       NaN       NaN       NaN   \n",
      "\n",
      "           Pass/Fail  \n",
      "8           0.028016  \n",
      "9           0.031191  \n",
      "10          0.033639  \n",
      "11          0.032620  \n",
      "12          0.005969  \n",
      "...              ...  \n",
      "586         0.004156  \n",
      "587         0.035391  \n",
      "588         0.031167  \n",
      "589         0.002653  \n",
      "Pass/Fail        NaN  \n",
      "\n",
      "[237 rows x 237 columns]\n"
     ]
    }
   ],
   "source": [
    "upper_tri = cor_matrix.where(np.triu(np.ones(cor_matrix.shape),k=1).astype(np.bool))\n",
    "print(upper_tri)\n",
    "\n",
    "#taking only upper traingular matrix"
   ]
  },
  {
   "cell_type": "code",
   "execution_count": 224,
   "id": "05995804",
   "metadata": {},
   "outputs": [
    {
     "name": "stdout",
     "output_type": "stream",
     "text": [
      "\n",
      "['27', '36', '148', '152', '165', '174', '249', '252', '279', '280', '281', '282', '283', '285', '286', '287', '288', '289', '291', '294', '295', '296', '297', '298', '299', '300', '301', '302', '303', '304', '305', '306', '307', '308', '309', '310', '311', '312', '317', '318', '319', '320', '321', '323', '324', '359', '360', '361', '365', '366', '376', '377', '386', '387', '388', '389', '390', '392', '393', '417', '420', '421', '424', '425', '426', '427', '429', '435', '436', '437', '440', '441', '442', '443', '444', '445', '446', '447', '448', '452', '453', '454', '455', '456', '457', '459', '490', '493', '494', '495', '520', '522', '523', '524', '526', '527', '545', '561', '574', '575', '576', '577', '584', '585', '588']\n"
     ]
    }
   ],
   "source": [
    "to_drop = [column for column in upper_tri.columns if any((upper_tri[column] > 0.95) & (upper_tri[column] != 1) & (upper_tri[column] != -1))]\n",
    "print(); print(to_drop)\n",
    "\n",
    "#these are the columns to drop based on high correlation between variables"
   ]
  },
  {
   "cell_type": "code",
   "execution_count": 225,
   "id": "c3048eb5",
   "metadata": {},
   "outputs": [],
   "source": [
    "signal = signal.drop(to_drop, axis=1)\n",
    "\n",
    "#dropping those variables"
   ]
  },
  {
   "cell_type": "code",
   "execution_count": 226,
   "id": "f3a7e897",
   "metadata": {},
   "outputs": [
    {
     "data": {
      "text/html": [
       "<div>\n",
       "<style scoped>\n",
       "    .dataframe tbody tr th:only-of-type {\n",
       "        vertical-align: middle;\n",
       "    }\n",
       "\n",
       "    .dataframe tbody tr th {\n",
       "        vertical-align: top;\n",
       "    }\n",
       "\n",
       "    .dataframe thead th {\n",
       "        text-align: right;\n",
       "    }\n",
       "</style>\n",
       "<table border=\"1\" class=\"dataframe\">\n",
       "  <thead>\n",
       "    <tr style=\"text-align: right;\">\n",
       "      <th></th>\n",
       "      <th>8</th>\n",
       "      <th>9</th>\n",
       "      <th>10</th>\n",
       "      <th>11</th>\n",
       "      <th>12</th>\n",
       "      <th>14</th>\n",
       "      <th>15</th>\n",
       "      <th>16</th>\n",
       "      <th>17</th>\n",
       "      <th>18</th>\n",
       "      <th>...</th>\n",
       "      <th>570</th>\n",
       "      <th>571</th>\n",
       "      <th>572</th>\n",
       "      <th>573</th>\n",
       "      <th>582</th>\n",
       "      <th>583</th>\n",
       "      <th>586</th>\n",
       "      <th>587</th>\n",
       "      <th>589</th>\n",
       "      <th>Pass/Fail</th>\n",
       "    </tr>\n",
       "  </thead>\n",
       "  <tbody>\n",
       "    <tr>\n",
       "      <th>0</th>\n",
       "      <td>1.5005</td>\n",
       "      <td>0.0162</td>\n",
       "      <td>-0.0034</td>\n",
       "      <td>0.9455</td>\n",
       "      <td>202.4396</td>\n",
       "      <td>7.9558</td>\n",
       "      <td>414.8710</td>\n",
       "      <td>10.0433</td>\n",
       "      <td>0.9680</td>\n",
       "      <td>192.3963</td>\n",
       "      <td>...</td>\n",
       "      <td>533.8500</td>\n",
       "      <td>2.1113</td>\n",
       "      <td>8.95</td>\n",
       "      <td>0.3157</td>\n",
       "      <td>0.5005</td>\n",
       "      <td>0.0118</td>\n",
       "      <td>0.021458</td>\n",
       "      <td>0.016475</td>\n",
       "      <td>99.670066</td>\n",
       "      <td>-1</td>\n",
       "    </tr>\n",
       "    <tr>\n",
       "      <th>1</th>\n",
       "      <td>1.4966</td>\n",
       "      <td>-0.0005</td>\n",
       "      <td>-0.0148</td>\n",
       "      <td>0.9627</td>\n",
       "      <td>200.5470</td>\n",
       "      <td>10.1548</td>\n",
       "      <td>414.7347</td>\n",
       "      <td>9.2599</td>\n",
       "      <td>0.9701</td>\n",
       "      <td>191.2872</td>\n",
       "      <td>...</td>\n",
       "      <td>535.0164</td>\n",
       "      <td>2.4335</td>\n",
       "      <td>5.92</td>\n",
       "      <td>0.2653</td>\n",
       "      <td>0.5019</td>\n",
       "      <td>0.0223</td>\n",
       "      <td>0.009600</td>\n",
       "      <td>0.020100</td>\n",
       "      <td>208.204500</td>\n",
       "      <td>-1</td>\n",
       "    </tr>\n",
       "    <tr>\n",
       "      <th>2</th>\n",
       "      <td>1.4436</td>\n",
       "      <td>0.0041</td>\n",
       "      <td>0.0013</td>\n",
       "      <td>0.9615</td>\n",
       "      <td>202.0179</td>\n",
       "      <td>9.5157</td>\n",
       "      <td>416.7075</td>\n",
       "      <td>9.3144</td>\n",
       "      <td>0.9674</td>\n",
       "      <td>192.7035</td>\n",
       "      <td>...</td>\n",
       "      <td>535.0245</td>\n",
       "      <td>2.0293</td>\n",
       "      <td>11.21</td>\n",
       "      <td>0.1882</td>\n",
       "      <td>0.4958</td>\n",
       "      <td>0.0157</td>\n",
       "      <td>0.058400</td>\n",
       "      <td>0.048400</td>\n",
       "      <td>82.860200</td>\n",
       "      <td>1</td>\n",
       "    </tr>\n",
       "    <tr>\n",
       "      <th>3</th>\n",
       "      <td>1.4882</td>\n",
       "      <td>-0.0124</td>\n",
       "      <td>-0.0033</td>\n",
       "      <td>0.9629</td>\n",
       "      <td>201.8482</td>\n",
       "      <td>9.6052</td>\n",
       "      <td>422.2894</td>\n",
       "      <td>9.6924</td>\n",
       "      <td>0.9687</td>\n",
       "      <td>192.1557</td>\n",
       "      <td>...</td>\n",
       "      <td>530.5682</td>\n",
       "      <td>2.0253</td>\n",
       "      <td>9.33</td>\n",
       "      <td>0.1738</td>\n",
       "      <td>0.4990</td>\n",
       "      <td>0.0103</td>\n",
       "      <td>0.020200</td>\n",
       "      <td>0.014900</td>\n",
       "      <td>73.843200</td>\n",
       "      <td>-1</td>\n",
       "    </tr>\n",
       "    <tr>\n",
       "      <th>4</th>\n",
       "      <td>1.5031</td>\n",
       "      <td>-0.0031</td>\n",
       "      <td>-0.0072</td>\n",
       "      <td>0.9569</td>\n",
       "      <td>201.9424</td>\n",
       "      <td>10.5661</td>\n",
       "      <td>420.5925</td>\n",
       "      <td>10.3387</td>\n",
       "      <td>0.9735</td>\n",
       "      <td>191.6037</td>\n",
       "      <td>...</td>\n",
       "      <td>532.0155</td>\n",
       "      <td>2.0275</td>\n",
       "      <td>8.83</td>\n",
       "      <td>0.2224</td>\n",
       "      <td>0.4800</td>\n",
       "      <td>0.4766</td>\n",
       "      <td>0.020200</td>\n",
       "      <td>0.014900</td>\n",
       "      <td>73.843200</td>\n",
       "      <td>-1</td>\n",
       "    </tr>\n",
       "  </tbody>\n",
       "</table>\n",
       "<p>5 rows × 132 columns</p>\n",
       "</div>"
      ],
      "text/plain": [
       "        8       9      10      11        12       14        15       16  \\\n",
       "0  1.5005  0.0162 -0.0034  0.9455  202.4396   7.9558  414.8710  10.0433   \n",
       "1  1.4966 -0.0005 -0.0148  0.9627  200.5470  10.1548  414.7347   9.2599   \n",
       "2  1.4436  0.0041  0.0013  0.9615  202.0179   9.5157  416.7075   9.3144   \n",
       "3  1.4882 -0.0124 -0.0033  0.9629  201.8482   9.6052  422.2894   9.6924   \n",
       "4  1.5031 -0.0031 -0.0072  0.9569  201.9424  10.5661  420.5925  10.3387   \n",
       "\n",
       "       17        18  ...       570     571    572     573     582     583  \\\n",
       "0  0.9680  192.3963  ...  533.8500  2.1113   8.95  0.3157  0.5005  0.0118   \n",
       "1  0.9701  191.2872  ...  535.0164  2.4335   5.92  0.2653  0.5019  0.0223   \n",
       "2  0.9674  192.7035  ...  535.0245  2.0293  11.21  0.1882  0.4958  0.0157   \n",
       "3  0.9687  192.1557  ...  530.5682  2.0253   9.33  0.1738  0.4990  0.0103   \n",
       "4  0.9735  191.6037  ...  532.0155  2.0275   8.83  0.2224  0.4800  0.4766   \n",
       "\n",
       "        586       587         589  Pass/Fail  \n",
       "0  0.021458  0.016475   99.670066         -1  \n",
       "1  0.009600  0.020100  208.204500         -1  \n",
       "2  0.058400  0.048400   82.860200          1  \n",
       "3  0.020200  0.014900   73.843200         -1  \n",
       "4  0.020200  0.014900   73.843200         -1  \n",
       "\n",
       "[5 rows x 132 columns]"
      ]
     },
     "execution_count": 226,
     "metadata": {},
     "output_type": "execute_result"
    }
   ],
   "source": [
    "signal.head()"
   ]
  },
  {
   "cell_type": "code",
   "execution_count": 227,
   "id": "c884a79c",
   "metadata": {},
   "outputs": [
    {
     "data": {
      "text/plain": [
       "(1567, 132)"
      ]
     },
     "execution_count": 227,
     "metadata": {},
     "output_type": "execute_result"
    }
   ],
   "source": [
    "signal.shape\n",
    "\n",
    "#Now dropped shape is 132 columns"
   ]
  },
  {
   "cell_type": "markdown",
   "id": "689f618e",
   "metadata": {},
   "source": [
    "#### E.Make all relevant modifications on the data using both functional/logical reasoning/assumptions."
   ]
  },
  {
   "cell_type": "code",
   "execution_count": 228,
   "id": "7ac6f95e",
   "metadata": {},
   "outputs": [
    {
     "data": {
      "text/html": [
       "<div>\n",
       "<style scoped>\n",
       "    .dataframe tbody tr th:only-of-type {\n",
       "        vertical-align: middle;\n",
       "    }\n",
       "\n",
       "    .dataframe tbody tr th {\n",
       "        vertical-align: top;\n",
       "    }\n",
       "\n",
       "    .dataframe thead th {\n",
       "        text-align: right;\n",
       "    }\n",
       "</style>\n",
       "<table border=\"1\" class=\"dataframe\">\n",
       "  <thead>\n",
       "    <tr style=\"text-align: right;\">\n",
       "      <th></th>\n",
       "      <th>Number of missing observations</th>\n",
       "    </tr>\n",
       "  </thead>\n",
       "  <tbody>\n",
       "    <tr>\n",
       "      <th>8</th>\n",
       "      <td>0</td>\n",
       "    </tr>\n",
       "    <tr>\n",
       "      <th>9</th>\n",
       "      <td>0</td>\n",
       "    </tr>\n",
       "    <tr>\n",
       "      <th>10</th>\n",
       "      <td>0</td>\n",
       "    </tr>\n",
       "    <tr>\n",
       "      <th>11</th>\n",
       "      <td>0</td>\n",
       "    </tr>\n",
       "    <tr>\n",
       "      <th>12</th>\n",
       "      <td>0</td>\n",
       "    </tr>\n",
       "    <tr>\n",
       "      <th>...</th>\n",
       "      <td>...</td>\n",
       "    </tr>\n",
       "    <tr>\n",
       "      <th>583</th>\n",
       "      <td>0</td>\n",
       "    </tr>\n",
       "    <tr>\n",
       "      <th>586</th>\n",
       "      <td>0</td>\n",
       "    </tr>\n",
       "    <tr>\n",
       "      <th>587</th>\n",
       "      <td>0</td>\n",
       "    </tr>\n",
       "    <tr>\n",
       "      <th>589</th>\n",
       "      <td>0</td>\n",
       "    </tr>\n",
       "    <tr>\n",
       "      <th>Pass/Fail</th>\n",
       "      <td>0</td>\n",
       "    </tr>\n",
       "  </tbody>\n",
       "</table>\n",
       "<p>132 rows × 1 columns</p>\n",
       "</div>"
      ],
      "text/plain": [
       "           Number of missing observations\n",
       "8                                       0\n",
       "9                                       0\n",
       "10                                      0\n",
       "11                                      0\n",
       "12                                      0\n",
       "...                                   ...\n",
       "583                                     0\n",
       "586                                     0\n",
       "587                                     0\n",
       "589                                     0\n",
       "Pass/Fail                               0\n",
       "\n",
       "[132 rows x 1 columns]"
      ]
     },
     "execution_count": 228,
     "metadata": {},
     "output_type": "execute_result"
    }
   ],
   "source": [
    "## Checking for unexpected values\n",
    "\n",
    "pd.DataFrame(signal.eq('.').sum(), columns= ['Number of missing observations'])\n",
    "\n",
    "\n",
    "# No other unexpected value is present.So, no other modifications needed for the data"
   ]
  },
  {
   "cell_type": "markdown",
   "id": "e2e6b9b6",
   "metadata": {},
   "source": [
    "### Based on logical reasoning, I have already eliminated the time column, understanding that the time stamp of signals being shown isn't an important contributing factor to whether the signal will be a pass or fail for the entire set up"
   ]
  },
  {
   "cell_type": "markdown",
   "id": "abad7f52",
   "metadata": {},
   "source": [
    "### 3.Data analysis & visualisation:"
   ]
  },
  {
   "cell_type": "markdown",
   "id": "266a7321",
   "metadata": {},
   "source": [
    "#### A.Perform a detailed univariate Analysis with appropriate detailed comments after each analysis."
   ]
  },
  {
   "cell_type": "code",
   "execution_count": 229,
   "id": "0a3ee5f6",
   "metadata": {},
   "outputs": [
    {
     "data": {
      "text/html": [
       "<div>\n",
       "<style scoped>\n",
       "    .dataframe tbody tr th:only-of-type {\n",
       "        vertical-align: middle;\n",
       "    }\n",
       "\n",
       "    .dataframe tbody tr th {\n",
       "        vertical-align: top;\n",
       "    }\n",
       "\n",
       "    .dataframe thead th {\n",
       "        text-align: right;\n",
       "    }\n",
       "</style>\n",
       "<table border=\"1\" class=\"dataframe\">\n",
       "  <thead>\n",
       "    <tr style=\"text-align: right;\">\n",
       "      <th></th>\n",
       "      <th>count</th>\n",
       "      <th>mean</th>\n",
       "      <th>std</th>\n",
       "      <th>min</th>\n",
       "      <th>25%</th>\n",
       "      <th>50%</th>\n",
       "      <th>75%</th>\n",
       "      <th>max</th>\n",
       "    </tr>\n",
       "  </thead>\n",
       "  <tbody>\n",
       "    <tr>\n",
       "      <th>8</th>\n",
       "      <td>1567.0</td>\n",
       "      <td>1.462862</td>\n",
       "      <td>0.073849</td>\n",
       "      <td>1.1910</td>\n",
       "      <td>1.41125</td>\n",
       "      <td>1.4616</td>\n",
       "      <td>1.51685</td>\n",
       "      <td>1.6564</td>\n",
       "    </tr>\n",
       "    <tr>\n",
       "      <th>9</th>\n",
       "      <td>1567.0</td>\n",
       "      <td>-0.000841</td>\n",
       "      <td>0.015107</td>\n",
       "      <td>-0.0534</td>\n",
       "      <td>-0.01080</td>\n",
       "      <td>-0.0013</td>\n",
       "      <td>0.00840</td>\n",
       "      <td>0.0749</td>\n",
       "    </tr>\n",
       "    <tr>\n",
       "      <th>10</th>\n",
       "      <td>1567.0</td>\n",
       "      <td>0.000146</td>\n",
       "      <td>0.009296</td>\n",
       "      <td>-0.0349</td>\n",
       "      <td>-0.00560</td>\n",
       "      <td>0.0004</td>\n",
       "      <td>0.00590</td>\n",
       "      <td>0.0530</td>\n",
       "    </tr>\n",
       "    <tr>\n",
       "      <th>11</th>\n",
       "      <td>1567.0</td>\n",
       "      <td>0.964353</td>\n",
       "      <td>0.012444</td>\n",
       "      <td>0.6554</td>\n",
       "      <td>0.95810</td>\n",
       "      <td>0.9658</td>\n",
       "      <td>0.97130</td>\n",
       "      <td>0.9848</td>\n",
       "    </tr>\n",
       "    <tr>\n",
       "      <th>12</th>\n",
       "      <td>1567.0</td>\n",
       "      <td>199.956809</td>\n",
       "      <td>3.255195</td>\n",
       "      <td>182.0940</td>\n",
       "      <td>198.13095</td>\n",
       "      <td>199.5371</td>\n",
       "      <td>202.00675</td>\n",
       "      <td>272.0451</td>\n",
       "    </tr>\n",
       "    <tr>\n",
       "      <th>...</th>\n",
       "      <td>...</td>\n",
       "      <td>...</td>\n",
       "      <td>...</td>\n",
       "      <td>...</td>\n",
       "      <td>...</td>\n",
       "      <td>...</td>\n",
       "      <td>...</td>\n",
       "      <td>...</td>\n",
       "    </tr>\n",
       "    <tr>\n",
       "      <th>583</th>\n",
       "      <td>1567.0</td>\n",
       "      <td>0.015318</td>\n",
       "      <td>0.017174</td>\n",
       "      <td>0.0060</td>\n",
       "      <td>0.01160</td>\n",
       "      <td>0.0138</td>\n",
       "      <td>0.01650</td>\n",
       "      <td>0.4766</td>\n",
       "    </tr>\n",
       "    <tr>\n",
       "      <th>586</th>\n",
       "      <td>1567.0</td>\n",
       "      <td>0.021458</td>\n",
       "      <td>0.012354</td>\n",
       "      <td>-0.0169</td>\n",
       "      <td>0.01345</td>\n",
       "      <td>0.0205</td>\n",
       "      <td>0.02760</td>\n",
       "      <td>0.1028</td>\n",
       "    </tr>\n",
       "    <tr>\n",
       "      <th>587</th>\n",
       "      <td>1567.0</td>\n",
       "      <td>0.016475</td>\n",
       "      <td>0.008805</td>\n",
       "      <td>0.0032</td>\n",
       "      <td>0.01060</td>\n",
       "      <td>0.0148</td>\n",
       "      <td>0.02030</td>\n",
       "      <td>0.0799</td>\n",
       "    </tr>\n",
       "    <tr>\n",
       "      <th>589</th>\n",
       "      <td>1567.0</td>\n",
       "      <td>99.670066</td>\n",
       "      <td>93.861936</td>\n",
       "      <td>0.0000</td>\n",
       "      <td>44.36860</td>\n",
       "      <td>72.0230</td>\n",
       "      <td>114.74970</td>\n",
       "      <td>737.3048</td>\n",
       "    </tr>\n",
       "    <tr>\n",
       "      <th>Pass/Fail</th>\n",
       "      <td>1567.0</td>\n",
       "      <td>-0.867262</td>\n",
       "      <td>0.498010</td>\n",
       "      <td>-1.0000</td>\n",
       "      <td>-1.00000</td>\n",
       "      <td>-1.0000</td>\n",
       "      <td>-1.00000</td>\n",
       "      <td>1.0000</td>\n",
       "    </tr>\n",
       "  </tbody>\n",
       "</table>\n",
       "<p>132 rows × 8 columns</p>\n",
       "</div>"
      ],
      "text/plain": [
       "            count        mean        std       min        25%       50%  \\\n",
       "8          1567.0    1.462862   0.073849    1.1910    1.41125    1.4616   \n",
       "9          1567.0   -0.000841   0.015107   -0.0534   -0.01080   -0.0013   \n",
       "10         1567.0    0.000146   0.009296   -0.0349   -0.00560    0.0004   \n",
       "11         1567.0    0.964353   0.012444    0.6554    0.95810    0.9658   \n",
       "12         1567.0  199.956809   3.255195  182.0940  198.13095  199.5371   \n",
       "...           ...         ...        ...       ...        ...       ...   \n",
       "583        1567.0    0.015318   0.017174    0.0060    0.01160    0.0138   \n",
       "586        1567.0    0.021458   0.012354   -0.0169    0.01345    0.0205   \n",
       "587        1567.0    0.016475   0.008805    0.0032    0.01060    0.0148   \n",
       "589        1567.0   99.670066  93.861936    0.0000   44.36860   72.0230   \n",
       "Pass/Fail  1567.0   -0.867262   0.498010   -1.0000   -1.00000   -1.0000   \n",
       "\n",
       "                 75%       max  \n",
       "8            1.51685    1.6564  \n",
       "9            0.00840    0.0749  \n",
       "10           0.00590    0.0530  \n",
       "11           0.97130    0.9848  \n",
       "12         202.00675  272.0451  \n",
       "...              ...       ...  \n",
       "583          0.01650    0.4766  \n",
       "586          0.02760    0.1028  \n",
       "587          0.02030    0.0799  \n",
       "589        114.74970  737.3048  \n",
       "Pass/Fail   -1.00000    1.0000  \n",
       "\n",
       "[132 rows x 8 columns]"
      ]
     },
     "execution_count": 229,
     "metadata": {},
     "output_type": "execute_result"
    }
   ],
   "source": [
    "signal.describe().transpose()"
   ]
  },
  {
   "cell_type": "code",
   "execution_count": 230,
   "id": "3c095913",
   "metadata": {},
   "outputs": [
    {
     "data": {
      "text/html": [
       "<div>\n",
       "<style scoped>\n",
       "    .dataframe tbody tr th:only-of-type {\n",
       "        vertical-align: middle;\n",
       "    }\n",
       "\n",
       "    .dataframe tbody tr th {\n",
       "        vertical-align: top;\n",
       "    }\n",
       "\n",
       "    .dataframe thead th {\n",
       "        text-align: right;\n",
       "    }\n",
       "</style>\n",
       "<table border=\"1\" class=\"dataframe\">\n",
       "  <thead>\n",
       "    <tr style=\"text-align: right;\">\n",
       "      <th></th>\n",
       "      <th>8</th>\n",
       "      <th>9</th>\n",
       "      <th>10</th>\n",
       "      <th>11</th>\n",
       "      <th>12</th>\n",
       "      <th>14</th>\n",
       "      <th>15</th>\n",
       "      <th>16</th>\n",
       "      <th>17</th>\n",
       "      <th>18</th>\n",
       "      <th>...</th>\n",
       "      <th>570</th>\n",
       "      <th>571</th>\n",
       "      <th>572</th>\n",
       "      <th>573</th>\n",
       "      <th>582</th>\n",
       "      <th>583</th>\n",
       "      <th>586</th>\n",
       "      <th>587</th>\n",
       "      <th>589</th>\n",
       "      <th>Pass/Fail</th>\n",
       "    </tr>\n",
       "  </thead>\n",
       "  <tbody>\n",
       "    <tr>\n",
       "      <th>0</th>\n",
       "      <td>1.500500</td>\n",
       "      <td>0.016200</td>\n",
       "      <td>-0.003400</td>\n",
       "      <td>0.945500</td>\n",
       "      <td>202.439600</td>\n",
       "      <td>7.955800</td>\n",
       "      <td>414.871000</td>\n",
       "      <td>10.043300</td>\n",
       "      <td>0.968000</td>\n",
       "      <td>192.396300</td>\n",
       "      <td>...</td>\n",
       "      <td>533.8500</td>\n",
       "      <td>2.1113</td>\n",
       "      <td>8.95</td>\n",
       "      <td>0.3157</td>\n",
       "      <td>0.5005</td>\n",
       "      <td>0.0118</td>\n",
       "      <td>0.021458</td>\n",
       "      <td>0.016475</td>\n",
       "      <td>99.670066</td>\n",
       "      <td>-1</td>\n",
       "    </tr>\n",
       "    <tr>\n",
       "      <th>1</th>\n",
       "      <td>1.496600</td>\n",
       "      <td>-0.000500</td>\n",
       "      <td>-0.014800</td>\n",
       "      <td>0.962700</td>\n",
       "      <td>200.547000</td>\n",
       "      <td>10.154800</td>\n",
       "      <td>414.734700</td>\n",
       "      <td>9.259900</td>\n",
       "      <td>0.970100</td>\n",
       "      <td>191.287200</td>\n",
       "      <td>...</td>\n",
       "      <td>535.0164</td>\n",
       "      <td>2.4335</td>\n",
       "      <td>5.92</td>\n",
       "      <td>0.2653</td>\n",
       "      <td>0.5019</td>\n",
       "      <td>0.0223</td>\n",
       "      <td>0.009600</td>\n",
       "      <td>0.020100</td>\n",
       "      <td>208.204500</td>\n",
       "      <td>-1</td>\n",
       "    </tr>\n",
       "    <tr>\n",
       "      <th>2</th>\n",
       "      <td>1.443600</td>\n",
       "      <td>0.004100</td>\n",
       "      <td>0.001300</td>\n",
       "      <td>0.961500</td>\n",
       "      <td>202.017900</td>\n",
       "      <td>9.515700</td>\n",
       "      <td>416.707500</td>\n",
       "      <td>9.314400</td>\n",
       "      <td>0.967400</td>\n",
       "      <td>192.703500</td>\n",
       "      <td>...</td>\n",
       "      <td>535.0245</td>\n",
       "      <td>2.0293</td>\n",
       "      <td>11.21</td>\n",
       "      <td>0.1882</td>\n",
       "      <td>0.4958</td>\n",
       "      <td>0.0157</td>\n",
       "      <td>0.058400</td>\n",
       "      <td>0.048400</td>\n",
       "      <td>82.860200</td>\n",
       "      <td>1</td>\n",
       "    </tr>\n",
       "    <tr>\n",
       "      <th>3</th>\n",
       "      <td>1.488200</td>\n",
       "      <td>-0.012400</td>\n",
       "      <td>-0.003300</td>\n",
       "      <td>0.962900</td>\n",
       "      <td>201.848200</td>\n",
       "      <td>9.605200</td>\n",
       "      <td>422.289400</td>\n",
       "      <td>9.692400</td>\n",
       "      <td>0.968700</td>\n",
       "      <td>192.155700</td>\n",
       "      <td>...</td>\n",
       "      <td>530.5682</td>\n",
       "      <td>2.0253</td>\n",
       "      <td>9.33</td>\n",
       "      <td>0.1738</td>\n",
       "      <td>0.4990</td>\n",
       "      <td>0.0103</td>\n",
       "      <td>0.020200</td>\n",
       "      <td>0.014900</td>\n",
       "      <td>73.843200</td>\n",
       "      <td>-1</td>\n",
       "    </tr>\n",
       "    <tr>\n",
       "      <th>4</th>\n",
       "      <td>1.503100</td>\n",
       "      <td>-0.003100</td>\n",
       "      <td>-0.007200</td>\n",
       "      <td>0.956900</td>\n",
       "      <td>201.942400</td>\n",
       "      <td>10.566100</td>\n",
       "      <td>420.592500</td>\n",
       "      <td>10.338700</td>\n",
       "      <td>0.973500</td>\n",
       "      <td>191.603700</td>\n",
       "      <td>...</td>\n",
       "      <td>532.0155</td>\n",
       "      <td>2.0275</td>\n",
       "      <td>8.83</td>\n",
       "      <td>0.2224</td>\n",
       "      <td>0.4800</td>\n",
       "      <td>0.4766</td>\n",
       "      <td>0.020200</td>\n",
       "      <td>0.014900</td>\n",
       "      <td>73.843200</td>\n",
       "      <td>-1</td>\n",
       "    </tr>\n",
       "    <tr>\n",
       "      <th>...</th>\n",
       "      <td>...</td>\n",
       "      <td>...</td>\n",
       "      <td>...</td>\n",
       "      <td>...</td>\n",
       "      <td>...</td>\n",
       "      <td>...</td>\n",
       "      <td>...</td>\n",
       "      <td>...</td>\n",
       "      <td>...</td>\n",
       "      <td>...</td>\n",
       "      <td>...</td>\n",
       "      <td>...</td>\n",
       "      <td>...</td>\n",
       "      <td>...</td>\n",
       "      <td>...</td>\n",
       "      <td>...</td>\n",
       "      <td>...</td>\n",
       "      <td>...</td>\n",
       "      <td>...</td>\n",
       "      <td>...</td>\n",
       "      <td>...</td>\n",
       "    </tr>\n",
       "    <tr>\n",
       "      <th>1562</th>\n",
       "      <td>1.342400</td>\n",
       "      <td>-0.004500</td>\n",
       "      <td>-0.005700</td>\n",
       "      <td>0.957900</td>\n",
       "      <td>203.986700</td>\n",
       "      <td>11.769200</td>\n",
       "      <td>419.340400</td>\n",
       "      <td>10.239700</td>\n",
       "      <td>0.969300</td>\n",
       "      <td>193.747000</td>\n",
       "      <td>...</td>\n",
       "      <td>536.3418</td>\n",
       "      <td>2.0153</td>\n",
       "      <td>7.98</td>\n",
       "      <td>0.2363</td>\n",
       "      <td>0.4988</td>\n",
       "      <td>0.0143</td>\n",
       "      <td>0.006800</td>\n",
       "      <td>0.013800</td>\n",
       "      <td>203.172000</td>\n",
       "      <td>-1</td>\n",
       "    </tr>\n",
       "    <tr>\n",
       "      <th>1563</th>\n",
       "      <td>1.433300</td>\n",
       "      <td>-0.006100</td>\n",
       "      <td>-0.009300</td>\n",
       "      <td>0.961800</td>\n",
       "      <td>204.017300</td>\n",
       "      <td>9.162000</td>\n",
       "      <td>405.817800</td>\n",
       "      <td>10.228500</td>\n",
       "      <td>0.969600</td>\n",
       "      <td>193.788900</td>\n",
       "      <td>...</td>\n",
       "      <td>537.9264</td>\n",
       "      <td>2.1814</td>\n",
       "      <td>5.48</td>\n",
       "      <td>0.3891</td>\n",
       "      <td>0.4975</td>\n",
       "      <td>0.0131</td>\n",
       "      <td>0.006800</td>\n",
       "      <td>0.013800</td>\n",
       "      <td>203.172000</td>\n",
       "      <td>-1</td>\n",
       "    </tr>\n",
       "    <tr>\n",
       "      <th>1564</th>\n",
       "      <td>1.462862</td>\n",
       "      <td>-0.000841</td>\n",
       "      <td>0.000146</td>\n",
       "      <td>0.964353</td>\n",
       "      <td>199.956809</td>\n",
       "      <td>9.005371</td>\n",
       "      <td>413.086035</td>\n",
       "      <td>9.907603</td>\n",
       "      <td>0.971444</td>\n",
       "      <td>190.047354</td>\n",
       "      <td>...</td>\n",
       "      <td>530.3709</td>\n",
       "      <td>2.3435</td>\n",
       "      <td>6.49</td>\n",
       "      <td>0.4154</td>\n",
       "      <td>0.4987</td>\n",
       "      <td>0.0153</td>\n",
       "      <td>0.019700</td>\n",
       "      <td>0.008600</td>\n",
       "      <td>43.523100</td>\n",
       "      <td>-1</td>\n",
       "    </tr>\n",
       "    <tr>\n",
       "      <th>1565</th>\n",
       "      <td>1.462200</td>\n",
       "      <td>-0.007200</td>\n",
       "      <td>0.003200</td>\n",
       "      <td>0.969400</td>\n",
       "      <td>197.244800</td>\n",
       "      <td>9.735400</td>\n",
       "      <td>401.915300</td>\n",
       "      <td>9.863000</td>\n",
       "      <td>0.974000</td>\n",
       "      <td>187.381800</td>\n",
       "      <td>...</td>\n",
       "      <td>534.3936</td>\n",
       "      <td>1.9098</td>\n",
       "      <td>9.13</td>\n",
       "      <td>0.3669</td>\n",
       "      <td>0.5004</td>\n",
       "      <td>0.0178</td>\n",
       "      <td>0.026200</td>\n",
       "      <td>0.024500</td>\n",
       "      <td>93.494100</td>\n",
       "      <td>-1</td>\n",
       "    </tr>\n",
       "    <tr>\n",
       "      <th>1566</th>\n",
       "      <td>1.462862</td>\n",
       "      <td>-0.000841</td>\n",
       "      <td>0.000146</td>\n",
       "      <td>0.964353</td>\n",
       "      <td>199.956809</td>\n",
       "      <td>9.005371</td>\n",
       "      <td>413.086035</td>\n",
       "      <td>9.907603</td>\n",
       "      <td>0.971444</td>\n",
       "      <td>190.047354</td>\n",
       "      <td>...</td>\n",
       "      <td>528.7918</td>\n",
       "      <td>2.0831</td>\n",
       "      <td>6.81</td>\n",
       "      <td>0.4774</td>\n",
       "      <td>0.4987</td>\n",
       "      <td>0.0181</td>\n",
       "      <td>0.011700</td>\n",
       "      <td>0.016200</td>\n",
       "      <td>137.784400</td>\n",
       "      <td>-1</td>\n",
       "    </tr>\n",
       "  </tbody>\n",
       "</table>\n",
       "<p>1567 rows × 132 columns</p>\n",
       "</div>"
      ],
      "text/plain": [
       "             8         9        10        11          12         14  \\\n",
       "0     1.500500  0.016200 -0.003400  0.945500  202.439600   7.955800   \n",
       "1     1.496600 -0.000500 -0.014800  0.962700  200.547000  10.154800   \n",
       "2     1.443600  0.004100  0.001300  0.961500  202.017900   9.515700   \n",
       "3     1.488200 -0.012400 -0.003300  0.962900  201.848200   9.605200   \n",
       "4     1.503100 -0.003100 -0.007200  0.956900  201.942400  10.566100   \n",
       "...        ...       ...       ...       ...         ...        ...   \n",
       "1562  1.342400 -0.004500 -0.005700  0.957900  203.986700  11.769200   \n",
       "1563  1.433300 -0.006100 -0.009300  0.961800  204.017300   9.162000   \n",
       "1564  1.462862 -0.000841  0.000146  0.964353  199.956809   9.005371   \n",
       "1565  1.462200 -0.007200  0.003200  0.969400  197.244800   9.735400   \n",
       "1566  1.462862 -0.000841  0.000146  0.964353  199.956809   9.005371   \n",
       "\n",
       "              15         16        17          18  ...       570     571  \\\n",
       "0     414.871000  10.043300  0.968000  192.396300  ...  533.8500  2.1113   \n",
       "1     414.734700   9.259900  0.970100  191.287200  ...  535.0164  2.4335   \n",
       "2     416.707500   9.314400  0.967400  192.703500  ...  535.0245  2.0293   \n",
       "3     422.289400   9.692400  0.968700  192.155700  ...  530.5682  2.0253   \n",
       "4     420.592500  10.338700  0.973500  191.603700  ...  532.0155  2.0275   \n",
       "...          ...        ...       ...         ...  ...       ...     ...   \n",
       "1562  419.340400  10.239700  0.969300  193.747000  ...  536.3418  2.0153   \n",
       "1563  405.817800  10.228500  0.969600  193.788900  ...  537.9264  2.1814   \n",
       "1564  413.086035   9.907603  0.971444  190.047354  ...  530.3709  2.3435   \n",
       "1565  401.915300   9.863000  0.974000  187.381800  ...  534.3936  1.9098   \n",
       "1566  413.086035   9.907603  0.971444  190.047354  ...  528.7918  2.0831   \n",
       "\n",
       "        572     573     582     583       586       587         589  Pass/Fail  \n",
       "0      8.95  0.3157  0.5005  0.0118  0.021458  0.016475   99.670066         -1  \n",
       "1      5.92  0.2653  0.5019  0.0223  0.009600  0.020100  208.204500         -1  \n",
       "2     11.21  0.1882  0.4958  0.0157  0.058400  0.048400   82.860200          1  \n",
       "3      9.33  0.1738  0.4990  0.0103  0.020200  0.014900   73.843200         -1  \n",
       "4      8.83  0.2224  0.4800  0.4766  0.020200  0.014900   73.843200         -1  \n",
       "...     ...     ...     ...     ...       ...       ...         ...        ...  \n",
       "1562   7.98  0.2363  0.4988  0.0143  0.006800  0.013800  203.172000         -1  \n",
       "1563   5.48  0.3891  0.4975  0.0131  0.006800  0.013800  203.172000         -1  \n",
       "1564   6.49  0.4154  0.4987  0.0153  0.019700  0.008600   43.523100         -1  \n",
       "1565   9.13  0.3669  0.5004  0.0178  0.026200  0.024500   93.494100         -1  \n",
       "1566   6.81  0.4774  0.4987  0.0181  0.011700  0.016200  137.784400         -1  \n",
       "\n",
       "[1567 rows x 132 columns]"
      ]
     },
     "execution_count": 230,
     "metadata": {},
     "output_type": "execute_result"
    }
   ],
   "source": [
    "signal"
   ]
  },
  {
   "cell_type": "code",
   "execution_count": 231,
   "id": "d68514d0",
   "metadata": {},
   "outputs": [
    {
     "data": {
      "text/plain": [
       "<AxesSubplot: xlabel='10', ylabel='Density'>"
      ]
     },
     "execution_count": 231,
     "metadata": {},
     "output_type": "execute_result"
    },
    {
     "data": {
      "image/png": "[encoded data removed]",
      "text/plain": [
       "<Figure size 640x480 with 1 Axes>"
      ]
     },
     "metadata": {},
     "output_type": "display_data"
    }
   ],
   "source": [
    "sns.distplot(signal['10'])\n",
    "\n",
    "#We noice that this feature seems to have a normal distribution with a longer tail on the right which denotes outliers"
   ]
  },
  {
   "cell_type": "code",
   "execution_count": 232,
   "id": "3f895434",
   "metadata": {},
   "outputs": [
    {
     "data": {
      "text/plain": [
       "<AxesSubplot: xlabel='18', ylabel='Density'>"
      ]
     },
     "execution_count": 232,
     "metadata": {},
     "output_type": "execute_result"
    },
    {
     "data": {
      "image/png": "[encoded data removed]",
      "text/plain": [
       "<Figure size 640x480 with 1 Axes>"
      ]
     },
     "metadata": {},
     "output_type": "display_data"
    }
   ],
   "source": [
    "sns.distplot(signal['18'], rug = 'True')\n",
    "\n",
    "\n",
    "#This feature seems to be bimodal with one peak at around 190 and other closer to 200."
   ]
  },
  {
   "cell_type": "code",
   "execution_count": 233,
   "id": "c996d9e9",
   "metadata": {},
   "outputs": [
    {
     "data": {
      "text/plain": [
       "<AxesSubplot: xlabel='571'>"
      ]
     },
     "execution_count": 233,
     "metadata": {},
     "output_type": "execute_result"
    },
    {
     "data": {
      "image/png": "[encoded data removed]",
      "text/plain": [
       "<Figure size 640x480 with 1 Axes>"
      ]
     },
     "metadata": {},
     "output_type": "display_data"
    }
   ],
   "source": [
    "sns.swarmplot(x=signal['571'])\n",
    "\n",
    "#this plot seems to have many outliers in the lower set of values with lots of data huddled around the mean"
   ]
  },
  {
   "cell_type": "code",
   "execution_count": 234,
   "id": "dd7be057",
   "metadata": {},
   "outputs": [
    {
     "data": {
      "text/plain": [
       "<AxesSubplot: xlabel='571', ylabel='Density'>"
      ]
     },
     "execution_count": 234,
     "metadata": {},
     "output_type": "execute_result"
    },
    {
     "data": {
      "image/png": "[encoded data removed]",
      "text/plain": [
       "<Figure size 640x480 with 1 Axes>"
      ]
     },
     "metadata": {},
     "output_type": "display_data"
    }
   ],
   "source": [
    "sns.distplot(signal['571'])\n",
    "\n",
    "#It has outliers in the beginning as seen in the above graph "
   ]
  },
  {
   "cell_type": "code",
   "execution_count": 235,
   "id": "3fd2e3c9",
   "metadata": {},
   "outputs": [
    {
     "data": {
      "text/plain": [
       "<AxesSubplot: xlabel='589', ylabel='Density'>"
      ]
     },
     "execution_count": 235,
     "metadata": {},
     "output_type": "execute_result"
    },
    {
     "data": {
      "image/png": "[encoded data removed]",
      "text/plain": [
       "<Figure size 640x480 with 1 Axes>"
      ]
     },
     "metadata": {},
     "output_type": "display_data"
    }
   ],
   "source": [
    "sns.distplot(signal['589'])\n",
    "\n",
    "\n",
    "#Colum has high outlier on the right end. This column is also skewed"
   ]
  },
  {
   "cell_type": "code",
   "execution_count": 236,
   "id": "9d1160b2",
   "metadata": {},
   "outputs": [
    {
     "data": {
      "text/plain": [
       "<AxesSubplot: ylabel='589'>"
      ]
     },
     "execution_count": 236,
     "metadata": {},
     "output_type": "execute_result"
    },
    {
     "data": {
      "image/png": "[encoded data removed]",
      "text/plain": [
       "<Figure size 640x480 with 1 Axes>"
      ]
     },
     "metadata": {},
     "output_type": "display_data"
    }
   ],
   "source": [
    "sns.stripplot(y=signal['589'])\n",
    "\n",
    "#There seems to be a lot of data points around initial datas of the set and there seems to be lots of outliers on the higher end"
   ]
  },
  {
   "cell_type": "markdown",
   "id": "77e5111d",
   "metadata": {},
   "source": [
    "#### B.Perform bivariate and multivariate analysis with appropriate detailed comments after each analysis."
   ]
  },
  {
   "cell_type": "code",
   "execution_count": 237,
   "id": "96e3405f",
   "metadata": {},
   "outputs": [
    {
     "data": {
      "text/plain": [
       "<AxesSubplot: xlabel='8', ylabel='589'>"
      ]
     },
     "execution_count": 237,
     "metadata": {},
     "output_type": "execute_result"
    },
    {
     "data": {
      "image/png": "[encoded data removed]",
      "text/plain": [
       "<Figure size 640x480 with 1 Axes>"
      ]
     },
     "metadata": {},
     "output_type": "display_data"
    }
   ],
   "source": [
    "sns.scatterplot(x='8', y ='589', data=signal)"
   ]
  },
  {
   "cell_type": "code",
   "execution_count": 238,
   "id": "8c183d8b",
   "metadata": {},
   "outputs": [],
   "source": [
    "# There seems to be no correlation between the two variables"
   ]
  },
  {
   "cell_type": "code",
   "execution_count": 239,
   "id": "92774431",
   "metadata": {},
   "outputs": [
    {
     "data": {
      "text/plain": [
       "<AxesSubplot: xlabel='10', ylabel='589'>"
      ]
     },
     "execution_count": 239,
     "metadata": {},
     "output_type": "execute_result"
    },
    {
     "data": {
      "image/png": "[encoded data removed]",
      "text/plain": [
       "<Figure size 640x480 with 1 Axes>"
      ]
     },
     "metadata": {},
     "output_type": "display_data"
    }
   ],
   "source": [
    "sns.scatterplot(x='10', y ='589', data=signal)"
   ]
  },
  {
   "cell_type": "code",
   "execution_count": 240,
   "id": "6d5c6a61",
   "metadata": {},
   "outputs": [
    {
     "data": {
      "text/plain": [
       "<seaborn.axisgrid.FacetGrid at 0x160eccda800>"
      ]
     },
     "execution_count": 240,
     "metadata": {},
     "output_type": "execute_result"
    },
    {
     "data": {
      "image/png": "[encoded data removed]",
      "text/plain": [
       "<Figure size 500x500 with 1 Axes>"
      ]
     },
     "metadata": {},
     "output_type": "display_data"
    }
   ],
   "source": [
    "sns.displot(signal, x=\"10\", y=\"586\")\n",
    "\n",
    "#Both the features don't seem to have any corelation"
   ]
  },
  {
   "cell_type": "code",
   "execution_count": 241,
   "id": "e47c931c",
   "metadata": {},
   "outputs": [
    {
     "data": {
      "text/plain": [
       "<seaborn.axisgrid.JointGrid at 0x160ee80df90>"
      ]
     },
     "execution_count": 241,
     "metadata": {},
     "output_type": "execute_result"
    },
    {
     "data": {
      "image/png": "[encoded data removed]",
      "text/plain": [
       "<Figure size 600x600 with 3 Axes>"
      ]
     },
     "metadata": {},
     "output_type": "display_data"
    }
   ],
   "source": [
    "sns.jointplot(data=signal, x=\"570\", y=\"587\")\n",
    "\n",
    "#There doesn't seem to be a positive or negative correlation"
   ]
  },
  {
   "cell_type": "markdown",
   "id": "bd636aa8",
   "metadata": {},
   "source": [
    "### 4.Data pre-processing:"
   ]
  },
  {
   "cell_type": "markdown",
   "id": "b3d3ed9f",
   "metadata": {},
   "source": [
    "#### A.Segregate predictors vs target attributes"
   ]
  },
  {
   "cell_type": "code",
   "execution_count": 242,
   "id": "b802dbae",
   "metadata": {},
   "outputs": [
    {
     "data": {
      "text/html": [
       "<div>\n",
       "<style scoped>\n",
       "    .dataframe tbody tr th:only-of-type {\n",
       "        vertical-align: middle;\n",
       "    }\n",
       "\n",
       "    .dataframe tbody tr th {\n",
       "        vertical-align: top;\n",
       "    }\n",
       "\n",
       "    .dataframe thead th {\n",
       "        text-align: right;\n",
       "    }\n",
       "</style>\n",
       "<table border=\"1\" class=\"dataframe\">\n",
       "  <thead>\n",
       "    <tr style=\"text-align: right;\">\n",
       "      <th></th>\n",
       "      <th>8</th>\n",
       "      <th>9</th>\n",
       "      <th>10</th>\n",
       "      <th>11</th>\n",
       "      <th>12</th>\n",
       "      <th>14</th>\n",
       "      <th>15</th>\n",
       "      <th>16</th>\n",
       "      <th>17</th>\n",
       "      <th>18</th>\n",
       "      <th>...</th>\n",
       "      <th>560</th>\n",
       "      <th>570</th>\n",
       "      <th>571</th>\n",
       "      <th>572</th>\n",
       "      <th>573</th>\n",
       "      <th>582</th>\n",
       "      <th>583</th>\n",
       "      <th>586</th>\n",
       "      <th>587</th>\n",
       "      <th>589</th>\n",
       "    </tr>\n",
       "  </thead>\n",
       "  <tbody>\n",
       "    <tr>\n",
       "      <th>0</th>\n",
       "      <td>1.5005</td>\n",
       "      <td>0.0162</td>\n",
       "      <td>-0.0034</td>\n",
       "      <td>0.9455</td>\n",
       "      <td>202.4396</td>\n",
       "      <td>7.9558</td>\n",
       "      <td>414.8710</td>\n",
       "      <td>10.0433</td>\n",
       "      <td>0.9680</td>\n",
       "      <td>192.3963</td>\n",
       "      <td>...</td>\n",
       "      <td>0.1039</td>\n",
       "      <td>533.8500</td>\n",
       "      <td>2.1113</td>\n",
       "      <td>8.95</td>\n",
       "      <td>0.3157</td>\n",
       "      <td>0.5005</td>\n",
       "      <td>0.0118</td>\n",
       "      <td>0.021458</td>\n",
       "      <td>0.016475</td>\n",
       "      <td>99.670066</td>\n",
       "    </tr>\n",
       "    <tr>\n",
       "      <th>1</th>\n",
       "      <td>1.4966</td>\n",
       "      <td>-0.0005</td>\n",
       "      <td>-0.0148</td>\n",
       "      <td>0.9627</td>\n",
       "      <td>200.5470</td>\n",
       "      <td>10.1548</td>\n",
       "      <td>414.7347</td>\n",
       "      <td>9.2599</td>\n",
       "      <td>0.9701</td>\n",
       "      <td>191.2872</td>\n",
       "      <td>...</td>\n",
       "      <td>0.0375</td>\n",
       "      <td>535.0164</td>\n",
       "      <td>2.4335</td>\n",
       "      <td>5.92</td>\n",
       "      <td>0.2653</td>\n",
       "      <td>0.5019</td>\n",
       "      <td>0.0223</td>\n",
       "      <td>0.009600</td>\n",
       "      <td>0.020100</td>\n",
       "      <td>208.204500</td>\n",
       "    </tr>\n",
       "    <tr>\n",
       "      <th>2</th>\n",
       "      <td>1.4436</td>\n",
       "      <td>0.0041</td>\n",
       "      <td>0.0013</td>\n",
       "      <td>0.9615</td>\n",
       "      <td>202.0179</td>\n",
       "      <td>9.5157</td>\n",
       "      <td>416.7075</td>\n",
       "      <td>9.3144</td>\n",
       "      <td>0.9674</td>\n",
       "      <td>192.7035</td>\n",
       "      <td>...</td>\n",
       "      <td>0.1233</td>\n",
       "      <td>535.0245</td>\n",
       "      <td>2.0293</td>\n",
       "      <td>11.21</td>\n",
       "      <td>0.1882</td>\n",
       "      <td>0.4958</td>\n",
       "      <td>0.0157</td>\n",
       "      <td>0.058400</td>\n",
       "      <td>0.048400</td>\n",
       "      <td>82.860200</td>\n",
       "    </tr>\n",
       "    <tr>\n",
       "      <th>3</th>\n",
       "      <td>1.4882</td>\n",
       "      <td>-0.0124</td>\n",
       "      <td>-0.0033</td>\n",
       "      <td>0.9629</td>\n",
       "      <td>201.8482</td>\n",
       "      <td>9.6052</td>\n",
       "      <td>422.2894</td>\n",
       "      <td>9.6924</td>\n",
       "      <td>0.9687</td>\n",
       "      <td>192.1557</td>\n",
       "      <td>...</td>\n",
       "      <td>0.2710</td>\n",
       "      <td>530.5682</td>\n",
       "      <td>2.0253</td>\n",
       "      <td>9.33</td>\n",
       "      <td>0.1738</td>\n",
       "      <td>0.4990</td>\n",
       "      <td>0.0103</td>\n",
       "      <td>0.020200</td>\n",
       "      <td>0.014900</td>\n",
       "      <td>73.843200</td>\n",
       "    </tr>\n",
       "    <tr>\n",
       "      <th>4</th>\n",
       "      <td>1.5031</td>\n",
       "      <td>-0.0031</td>\n",
       "      <td>-0.0072</td>\n",
       "      <td>0.9569</td>\n",
       "      <td>201.9424</td>\n",
       "      <td>10.5661</td>\n",
       "      <td>420.5925</td>\n",
       "      <td>10.3387</td>\n",
       "      <td>0.9735</td>\n",
       "      <td>191.6037</td>\n",
       "      <td>...</td>\n",
       "      <td>0.0461</td>\n",
       "      <td>532.0155</td>\n",
       "      <td>2.0275</td>\n",
       "      <td>8.83</td>\n",
       "      <td>0.2224</td>\n",
       "      <td>0.4800</td>\n",
       "      <td>0.4766</td>\n",
       "      <td>0.020200</td>\n",
       "      <td>0.014900</td>\n",
       "      <td>73.843200</td>\n",
       "    </tr>\n",
       "  </tbody>\n",
       "</table>\n",
       "<p>5 rows × 131 columns</p>\n",
       "</div>"
      ],
      "text/plain": [
       "        8       9      10      11        12       14        15       16  \\\n",
       "0  1.5005  0.0162 -0.0034  0.9455  202.4396   7.9558  414.8710  10.0433   \n",
       "1  1.4966 -0.0005 -0.0148  0.9627  200.5470  10.1548  414.7347   9.2599   \n",
       "2  1.4436  0.0041  0.0013  0.9615  202.0179   9.5157  416.7075   9.3144   \n",
       "3  1.4882 -0.0124 -0.0033  0.9629  201.8482   9.6052  422.2894   9.6924   \n",
       "4  1.5031 -0.0031 -0.0072  0.9569  201.9424  10.5661  420.5925  10.3387   \n",
       "\n",
       "       17        18  ...     560       570     571    572     573     582  \\\n",
       "0  0.9680  192.3963  ...  0.1039  533.8500  2.1113   8.95  0.3157  0.5005   \n",
       "1  0.9701  191.2872  ...  0.0375  535.0164  2.4335   5.92  0.2653  0.5019   \n",
       "2  0.9674  192.7035  ...  0.1233  535.0245  2.0293  11.21  0.1882  0.4958   \n",
       "3  0.9687  192.1557  ...  0.2710  530.5682  2.0253   9.33  0.1738  0.4990   \n",
       "4  0.9735  191.6037  ...  0.0461  532.0155  2.0275   8.83  0.2224  0.4800   \n",
       "\n",
       "      583       586       587         589  \n",
       "0  0.0118  0.021458  0.016475   99.670066  \n",
       "1  0.0223  0.009600  0.020100  208.204500  \n",
       "2  0.0157  0.058400  0.048400   82.860200  \n",
       "3  0.0103  0.020200  0.014900   73.843200  \n",
       "4  0.4766  0.020200  0.014900   73.843200  \n",
       "\n",
       "[5 rows x 131 columns]"
      ]
     },
     "execution_count": 242,
     "metadata": {},
     "output_type": "execute_result"
    }
   ],
   "source": [
    "X= signal.drop(labels='Pass/Fail', axis=1)\n",
    "y = signal[['Pass/Fail']]\n",
    "X.head()\n",
    "\n",
    "#Keeping only Pass/fail column in target"
   ]
  },
  {
   "cell_type": "code",
   "execution_count": 243,
   "id": "420c5806",
   "metadata": {},
   "outputs": [
    {
     "data": {
      "text/html": [
       "<div>\n",
       "<style scoped>\n",
       "    .dataframe tbody tr th:only-of-type {\n",
       "        vertical-align: middle;\n",
       "    }\n",
       "\n",
       "    .dataframe tbody tr th {\n",
       "        vertical-align: top;\n",
       "    }\n",
       "\n",
       "    .dataframe thead th {\n",
       "        text-align: right;\n",
       "    }\n",
       "</style>\n",
       "<table border=\"1\" class=\"dataframe\">\n",
       "  <thead>\n",
       "    <tr style=\"text-align: right;\">\n",
       "      <th></th>\n",
       "      <th>Pass/Fail</th>\n",
       "    </tr>\n",
       "  </thead>\n",
       "  <tbody>\n",
       "    <tr>\n",
       "      <th>0</th>\n",
       "      <td>-1</td>\n",
       "    </tr>\n",
       "    <tr>\n",
       "      <th>1</th>\n",
       "      <td>-1</td>\n",
       "    </tr>\n",
       "    <tr>\n",
       "      <th>2</th>\n",
       "      <td>1</td>\n",
       "    </tr>\n",
       "    <tr>\n",
       "      <th>3</th>\n",
       "      <td>-1</td>\n",
       "    </tr>\n",
       "    <tr>\n",
       "      <th>4</th>\n",
       "      <td>-1</td>\n",
       "    </tr>\n",
       "  </tbody>\n",
       "</table>\n",
       "</div>"
      ],
      "text/plain": [
       "   Pass/Fail\n",
       "0         -1\n",
       "1         -1\n",
       "2          1\n",
       "3         -1\n",
       "4         -1"
      ]
     },
     "execution_count": 243,
     "metadata": {},
     "output_type": "execute_result"
    }
   ],
   "source": [
    "y.head()"
   ]
  },
  {
   "cell_type": "code",
   "execution_count": 244,
   "id": "22e99502",
   "metadata": {},
   "outputs": [],
   "source": [
    "X_train, X_test, y_train, y_test = train_test_split(X, y, test_size=0.2)\n",
    "\n",
    "#splitting the data into train and test"
   ]
  },
  {
   "cell_type": "markdown",
   "id": "dca5c6bf",
   "metadata": {},
   "source": [
    "#### B.Check for target balancing and fix it if found imbalanced."
   ]
  },
  {
   "cell_type": "code",
   "execution_count": 245,
   "id": "8dee7b78",
   "metadata": {},
   "outputs": [
    {
     "data": {
      "text/plain": [
       "<AxesSubplot: xlabel='count', ylabel='Pass/Fail'>"
      ]
     },
     "execution_count": 245,
     "metadata": {},
     "output_type": "execute_result"
    },
    {
     "data": {
      "image/png": "[encoded data removed]",
      "text/plain": [
       "<Figure size 640x480 with 1 Axes>"
      ]
     },
     "metadata": {},
     "output_type": "display_data"
    }
   ],
   "source": [
    "sns.countplot(y=\"Pass/Fail\", data=signal, color=\"m\")"
   ]
  },
  {
   "cell_type": "markdown",
   "id": "6c0e33f6",
   "metadata": {},
   "source": [
    "#### This is an imbalanced data set. A balancing technique like sampling technique has to be used to balance the data."
   ]
  },
  {
   "cell_type": "code",
   "execution_count": 246,
   "id": "baa65dc0",
   "metadata": {},
   "outputs": [
    {
     "name": "stdout",
     "output_type": "stream",
     "text": [
      "Before UpSampling :  Pass/Fail\n",
      "-1           1171\n",
      " 1             82\n",
      "dtype: int64\n",
      "\n",
      "After UpSampling :  Pass/Fail\n",
      "-1           1171\n",
      " 1           1171\n",
      "dtype: int64\n",
      "After UpSampling, the shape of train_X: (2342, 131)\n",
      "After UpSampling, the shape of train_y: (2342, 1) \n",
      "\n"
     ]
    }
   ],
   "source": [
    "# Let's try and upsample the data to match the pass and fail using SMOTE\n",
    "\n",
    "from imblearn.over_sampling import SMOTE\n",
    "\n",
    "print('Before UpSampling : ',y_train.value_counts())\n",
    "\n",
    "sm = SMOTE(sampling_strategy = 1 ,k_neighbors = 5, random_state=1)   #Synthetic Minority Over Sampling Technique\n",
    "X_train_res, y_train_res = sm.fit_resample(X_train, y_train)\n",
    "\n",
    "print()\n",
    "print('After UpSampling : ',y_train_res.value_counts())\n",
    "\n",
    "print('After UpSampling, the shape of train_X: {}'.format(X_train_res.shape))\n",
    "print('After UpSampling, the shape of train_y: {} \\n'.format(y_train_res.shape))\n",
    "\n",
    "#Using SMOTE, I have upsampled the data"
   ]
  },
  {
   "cell_type": "markdown",
   "id": "df3ab44b",
   "metadata": {},
   "source": [
    "#### C.Perform train-test split and standardise the data or vice versa if required."
   ]
  },
  {
   "cell_type": "code",
   "execution_count": 247,
   "id": "4ee84124",
   "metadata": {},
   "outputs": [],
   "source": [
    "from sklearn.preprocessing import StandardScaler\n",
    "\n",
    "scaler = StandardScaler()\n",
    "X_train_res_scaled = scaler.fit_transform(X_train_res) \n",
    "\n",
    "#Not fitting, only transforming the test: conversion just transforms, using the same params that it learned from the train data.\n",
    "\n",
    "X_test_scaled = scaler.transform(X_test)"
   ]
  },
  {
   "cell_type": "markdown",
   "id": "fd7413ee",
   "metadata": {},
   "source": [
    "#### D.Check if the train and test data have similar statistical characteristics when compared with original data."
   ]
  },
  {
   "cell_type": "code",
   "execution_count": 248,
   "id": "5ce45d01",
   "metadata": {},
   "outputs": [
    {
     "data": {
      "text/html": [
       "<div>\n",
       "<style scoped>\n",
       "    .dataframe tbody tr th:only-of-type {\n",
       "        vertical-align: middle;\n",
       "    }\n",
       "\n",
       "    .dataframe tbody tr th {\n",
       "        vertical-align: top;\n",
       "    }\n",
       "\n",
       "    .dataframe thead th {\n",
       "        text-align: right;\n",
       "    }\n",
       "</style>\n",
       "<table border=\"1\" class=\"dataframe\">\n",
       "  <thead>\n",
       "    <tr style=\"text-align: right;\">\n",
       "      <th></th>\n",
       "      <th>8</th>\n",
       "      <th>9</th>\n",
       "      <th>10</th>\n",
       "      <th>11</th>\n",
       "      <th>12</th>\n",
       "      <th>14</th>\n",
       "      <th>15</th>\n",
       "      <th>16</th>\n",
       "      <th>17</th>\n",
       "      <th>18</th>\n",
       "      <th>...</th>\n",
       "      <th>570</th>\n",
       "      <th>571</th>\n",
       "      <th>572</th>\n",
       "      <th>573</th>\n",
       "      <th>582</th>\n",
       "      <th>583</th>\n",
       "      <th>586</th>\n",
       "      <th>587</th>\n",
       "      <th>589</th>\n",
       "      <th>Pass/Fail</th>\n",
       "    </tr>\n",
       "  </thead>\n",
       "  <tbody>\n",
       "    <tr>\n",
       "      <th>count</th>\n",
       "      <td>1567.000000</td>\n",
       "      <td>1567.000000</td>\n",
       "      <td>1567.000000</td>\n",
       "      <td>1567.000000</td>\n",
       "      <td>1567.000000</td>\n",
       "      <td>1567.000000</td>\n",
       "      <td>1567.000000</td>\n",
       "      <td>1567.000000</td>\n",
       "      <td>1567.000000</td>\n",
       "      <td>1567.000000</td>\n",
       "      <td>...</td>\n",
       "      <td>1567.000000</td>\n",
       "      <td>1567.000000</td>\n",
       "      <td>1567.000000</td>\n",
       "      <td>1567.000000</td>\n",
       "      <td>1567.000000</td>\n",
       "      <td>1567.000000</td>\n",
       "      <td>1567.000000</td>\n",
       "      <td>1567.000000</td>\n",
       "      <td>1567.000000</td>\n",
       "      <td>1567.000000</td>\n",
       "    </tr>\n",
       "    <tr>\n",
       "      <th>mean</th>\n",
       "      <td>1.462862</td>\n",
       "      <td>-0.000841</td>\n",
       "      <td>0.000146</td>\n",
       "      <td>0.964353</td>\n",
       "      <td>199.956809</td>\n",
       "      <td>9.005371</td>\n",
       "      <td>413.086035</td>\n",
       "      <td>9.907603</td>\n",
       "      <td>0.971444</td>\n",
       "      <td>190.047354</td>\n",
       "      <td>...</td>\n",
       "      <td>530.523623</td>\n",
       "      <td>2.101836</td>\n",
       "      <td>28.450165</td>\n",
       "      <td>0.345636</td>\n",
       "      <td>0.500096</td>\n",
       "      <td>0.015318</td>\n",
       "      <td>0.021458</td>\n",
       "      <td>0.016475</td>\n",
       "      <td>99.670066</td>\n",
       "      <td>-0.867262</td>\n",
       "    </tr>\n",
       "    <tr>\n",
       "      <th>std</th>\n",
       "      <td>0.073849</td>\n",
       "      <td>0.015107</td>\n",
       "      <td>0.009296</td>\n",
       "      <td>0.012444</td>\n",
       "      <td>3.255195</td>\n",
       "      <td>2.793916</td>\n",
       "      <td>17.204591</td>\n",
       "      <td>2.401563</td>\n",
       "      <td>0.012051</td>\n",
       "      <td>2.778376</td>\n",
       "      <td>...</td>\n",
       "      <td>17.499736</td>\n",
       "      <td>0.275112</td>\n",
       "      <td>86.304681</td>\n",
       "      <td>0.248478</td>\n",
       "      <td>0.003403</td>\n",
       "      <td>0.017174</td>\n",
       "      <td>0.012354</td>\n",
       "      <td>0.008805</td>\n",
       "      <td>93.861936</td>\n",
       "      <td>0.498010</td>\n",
       "    </tr>\n",
       "    <tr>\n",
       "      <th>min</th>\n",
       "      <td>1.191000</td>\n",
       "      <td>-0.053400</td>\n",
       "      <td>-0.034900</td>\n",
       "      <td>0.655400</td>\n",
       "      <td>182.094000</td>\n",
       "      <td>2.249300</td>\n",
       "      <td>333.448600</td>\n",
       "      <td>4.469600</td>\n",
       "      <td>0.579400</td>\n",
       "      <td>169.177400</td>\n",
       "      <td>...</td>\n",
       "      <td>317.196400</td>\n",
       "      <td>0.980200</td>\n",
       "      <td>3.540000</td>\n",
       "      <td>0.066700</td>\n",
       "      <td>0.477800</td>\n",
       "      <td>0.006000</td>\n",
       "      <td>-0.016900</td>\n",
       "      <td>0.003200</td>\n",
       "      <td>0.000000</td>\n",
       "      <td>-1.000000</td>\n",
       "    </tr>\n",
       "    <tr>\n",
       "      <th>25%</th>\n",
       "      <td>1.411250</td>\n",
       "      <td>-0.010800</td>\n",
       "      <td>-0.005600</td>\n",
       "      <td>0.958100</td>\n",
       "      <td>198.130950</td>\n",
       "      <td>7.096750</td>\n",
       "      <td>406.131000</td>\n",
       "      <td>9.568550</td>\n",
       "      <td>0.968250</td>\n",
       "      <td>188.300650</td>\n",
       "      <td>...</td>\n",
       "      <td>530.702700</td>\n",
       "      <td>1.982900</td>\n",
       "      <td>7.500000</td>\n",
       "      <td>0.242250</td>\n",
       "      <td>0.497900</td>\n",
       "      <td>0.011600</td>\n",
       "      <td>0.013450</td>\n",
       "      <td>0.010600</td>\n",
       "      <td>44.368600</td>\n",
       "      <td>-1.000000</td>\n",
       "    </tr>\n",
       "    <tr>\n",
       "      <th>50%</th>\n",
       "      <td>1.461600</td>\n",
       "      <td>-0.001300</td>\n",
       "      <td>0.000400</td>\n",
       "      <td>0.965800</td>\n",
       "      <td>199.537100</td>\n",
       "      <td>8.973900</td>\n",
       "      <td>412.262900</td>\n",
       "      <td>9.852000</td>\n",
       "      <td>0.972500</td>\n",
       "      <td>189.675700</td>\n",
       "      <td>...</td>\n",
       "      <td>532.398200</td>\n",
       "      <td>2.118600</td>\n",
       "      <td>8.650000</td>\n",
       "      <td>0.293400</td>\n",
       "      <td>0.500200</td>\n",
       "      <td>0.013800</td>\n",
       "      <td>0.020500</td>\n",
       "      <td>0.014800</td>\n",
       "      <td>72.023000</td>\n",
       "      <td>-1.000000</td>\n",
       "    </tr>\n",
       "    <tr>\n",
       "      <th>75%</th>\n",
       "      <td>1.516850</td>\n",
       "      <td>0.008400</td>\n",
       "      <td>0.005900</td>\n",
       "      <td>0.971300</td>\n",
       "      <td>202.006750</td>\n",
       "      <td>10.858700</td>\n",
       "      <td>419.082800</td>\n",
       "      <td>10.127750</td>\n",
       "      <td>0.976800</td>\n",
       "      <td>192.178900</td>\n",
       "      <td>...</td>\n",
       "      <td>534.356400</td>\n",
       "      <td>2.290650</td>\n",
       "      <td>10.130000</td>\n",
       "      <td>0.366900</td>\n",
       "      <td>0.502350</td>\n",
       "      <td>0.016500</td>\n",
       "      <td>0.027600</td>\n",
       "      <td>0.020300</td>\n",
       "      <td>114.749700</td>\n",
       "      <td>-1.000000</td>\n",
       "    </tr>\n",
       "    <tr>\n",
       "      <th>max</th>\n",
       "      <td>1.656400</td>\n",
       "      <td>0.074900</td>\n",
       "      <td>0.053000</td>\n",
       "      <td>0.984800</td>\n",
       "      <td>272.045100</td>\n",
       "      <td>19.546500</td>\n",
       "      <td>824.927100</td>\n",
       "      <td>102.867700</td>\n",
       "      <td>0.984800</td>\n",
       "      <td>215.597700</td>\n",
       "      <td>...</td>\n",
       "      <td>589.508200</td>\n",
       "      <td>2.739500</td>\n",
       "      <td>454.560000</td>\n",
       "      <td>2.196700</td>\n",
       "      <td>0.509800</td>\n",
       "      <td>0.476600</td>\n",
       "      <td>0.102800</td>\n",
       "      <td>0.079900</td>\n",
       "      <td>737.304800</td>\n",
       "      <td>1.000000</td>\n",
       "    </tr>\n",
       "  </tbody>\n",
       "</table>\n",
       "<p>8 rows × 132 columns</p>\n",
       "</div>"
      ],
      "text/plain": [
       "                 8            9           10           11           12  \\\n",
       "count  1567.000000  1567.000000  1567.000000  1567.000000  1567.000000   \n",
       "mean      1.462862    -0.000841     0.000146     0.964353   199.956809   \n",
       "std       0.073849     0.015107     0.009296     0.012444     3.255195   \n",
       "min       1.191000    -0.053400    -0.034900     0.655400   182.094000   \n",
       "25%       1.411250    -0.010800    -0.005600     0.958100   198.130950   \n",
       "50%       1.461600    -0.001300     0.000400     0.965800   199.537100   \n",
       "75%       1.516850     0.008400     0.005900     0.971300   202.006750   \n",
       "max       1.656400     0.074900     0.053000     0.984800   272.045100   \n",
       "\n",
       "                14           15           16           17           18  ...  \\\n",
       "count  1567.000000  1567.000000  1567.000000  1567.000000  1567.000000  ...   \n",
       "mean      9.005371   413.086035     9.907603     0.971444   190.047354  ...   \n",
       "std       2.793916    17.204591     2.401563     0.012051     2.778376  ...   \n",
       "min       2.249300   333.448600     4.469600     0.579400   169.177400  ...   \n",
       "25%       7.096750   406.131000     9.568550     0.968250   188.300650  ...   \n",
       "50%       8.973900   412.262900     9.852000     0.972500   189.675700  ...   \n",
       "75%      10.858700   419.082800    10.127750     0.976800   192.178900  ...   \n",
       "max      19.546500   824.927100   102.867700     0.984800   215.597700  ...   \n",
       "\n",
       "               570          571          572          573          582  \\\n",
       "count  1567.000000  1567.000000  1567.000000  1567.000000  1567.000000   \n",
       "mean    530.523623     2.101836    28.450165     0.345636     0.500096   \n",
       "std      17.499736     0.275112    86.304681     0.248478     0.003403   \n",
       "min     317.196400     0.980200     3.540000     0.066700     0.477800   \n",
       "25%     530.702700     1.982900     7.500000     0.242250     0.497900   \n",
       "50%     532.398200     2.118600     8.650000     0.293400     0.500200   \n",
       "75%     534.356400     2.290650    10.130000     0.366900     0.502350   \n",
       "max     589.508200     2.739500   454.560000     2.196700     0.509800   \n",
       "\n",
       "               583          586          587          589    Pass/Fail  \n",
       "count  1567.000000  1567.000000  1567.000000  1567.000000  1567.000000  \n",
       "mean      0.015318     0.021458     0.016475    99.670066    -0.867262  \n",
       "std       0.017174     0.012354     0.008805    93.861936     0.498010  \n",
       "min       0.006000    -0.016900     0.003200     0.000000    -1.000000  \n",
       "25%       0.011600     0.013450     0.010600    44.368600    -1.000000  \n",
       "50%       0.013800     0.020500     0.014800    72.023000    -1.000000  \n",
       "75%       0.016500     0.027600     0.020300   114.749700    -1.000000  \n",
       "max       0.476600     0.102800     0.079900   737.304800     1.000000  \n",
       "\n",
       "[8 rows x 132 columns]"
      ]
     },
     "execution_count": 248,
     "metadata": {},
     "output_type": "execute_result"
    }
   ],
   "source": [
    "signal.describe()"
   ]
  },
  {
   "cell_type": "code",
   "execution_count": 249,
   "id": "36e55ba3",
   "metadata": {},
   "outputs": [
    {
     "data": {
      "text/html": [
       "<div>\n",
       "<style scoped>\n",
       "    .dataframe tbody tr th:only-of-type {\n",
       "        vertical-align: middle;\n",
       "    }\n",
       "\n",
       "    .dataframe tbody tr th {\n",
       "        vertical-align: top;\n",
       "    }\n",
       "\n",
       "    .dataframe thead th {\n",
       "        text-align: right;\n",
       "    }\n",
       "</style>\n",
       "<table border=\"1\" class=\"dataframe\">\n",
       "  <thead>\n",
       "    <tr style=\"text-align: right;\">\n",
       "      <th></th>\n",
       "      <th>8</th>\n",
       "      <th>9</th>\n",
       "      <th>10</th>\n",
       "      <th>11</th>\n",
       "      <th>12</th>\n",
       "      <th>14</th>\n",
       "      <th>15</th>\n",
       "      <th>16</th>\n",
       "      <th>17</th>\n",
       "      <th>18</th>\n",
       "      <th>...</th>\n",
       "      <th>560</th>\n",
       "      <th>570</th>\n",
       "      <th>571</th>\n",
       "      <th>572</th>\n",
       "      <th>573</th>\n",
       "      <th>582</th>\n",
       "      <th>583</th>\n",
       "      <th>586</th>\n",
       "      <th>587</th>\n",
       "      <th>589</th>\n",
       "    </tr>\n",
       "  </thead>\n",
       "  <tbody>\n",
       "    <tr>\n",
       "      <th>count</th>\n",
       "      <td>2342.000000</td>\n",
       "      <td>2342.000000</td>\n",
       "      <td>2342.000000</td>\n",
       "      <td>2342.000000</td>\n",
       "      <td>2342.000000</td>\n",
       "      <td>2342.000000</td>\n",
       "      <td>2342.000000</td>\n",
       "      <td>2342.000000</td>\n",
       "      <td>2342.000000</td>\n",
       "      <td>2342.000000</td>\n",
       "      <td>...</td>\n",
       "      <td>2342.000000</td>\n",
       "      <td>2342.000000</td>\n",
       "      <td>2342.000000</td>\n",
       "      <td>2342.000000</td>\n",
       "      <td>2342.000000</td>\n",
       "      <td>2342.000000</td>\n",
       "      <td>2342.000000</td>\n",
       "      <td>2342.000000</td>\n",
       "      <td>2342.000000</td>\n",
       "      <td>2342.000000</td>\n",
       "    </tr>\n",
       "    <tr>\n",
       "      <th>mean</th>\n",
       "      <td>1.463052</td>\n",
       "      <td>-0.001811</td>\n",
       "      <td>0.000472</td>\n",
       "      <td>0.964030</td>\n",
       "      <td>200.037428</td>\n",
       "      <td>8.597129</td>\n",
       "      <td>412.669680</td>\n",
       "      <td>9.900146</td>\n",
       "      <td>0.971365</td>\n",
       "      <td>190.137279</td>\n",
       "      <td>...</td>\n",
       "      <td>0.072739</td>\n",
       "      <td>530.056086</td>\n",
       "      <td>2.090694</td>\n",
       "      <td>24.060239</td>\n",
       "      <td>0.328553</td>\n",
       "      <td>0.500443</td>\n",
       "      <td>0.015142</td>\n",
       "      <td>0.021865</td>\n",
       "      <td>0.016842</td>\n",
       "      <td>96.987588</td>\n",
       "    </tr>\n",
       "    <tr>\n",
       "      <th>std</th>\n",
       "      <td>0.064919</td>\n",
       "      <td>0.013398</td>\n",
       "      <td>0.008769</td>\n",
       "      <td>0.011066</td>\n",
       "      <td>2.842641</td>\n",
       "      <td>2.561028</td>\n",
       "      <td>8.058017</td>\n",
       "      <td>1.974281</td>\n",
       "      <td>0.010309</td>\n",
       "      <td>2.468963</td>\n",
       "      <td>...</td>\n",
       "      <td>0.045992</td>\n",
       "      <td>19.082387</td>\n",
       "      <td>0.288545</td>\n",
       "      <td>71.044213</td>\n",
       "      <td>0.195352</td>\n",
       "      <td>0.003243</td>\n",
       "      <td>0.010699</td>\n",
       "      <td>0.011096</td>\n",
       "      <td>0.008109</td>\n",
       "      <td>80.759369</td>\n",
       "    </tr>\n",
       "    <tr>\n",
       "      <th>min</th>\n",
       "      <td>1.191000</td>\n",
       "      <td>-0.053400</td>\n",
       "      <td>-0.034900</td>\n",
       "      <td>0.655400</td>\n",
       "      <td>182.094000</td>\n",
       "      <td>2.249300</td>\n",
       "      <td>333.448600</td>\n",
       "      <td>4.469600</td>\n",
       "      <td>0.579400</td>\n",
       "      <td>169.177400</td>\n",
       "      <td>...</td>\n",
       "      <td>0.017700</td>\n",
       "      <td>317.196400</td>\n",
       "      <td>0.980200</td>\n",
       "      <td>3.540000</td>\n",
       "      <td>0.066700</td>\n",
       "      <td>0.477800</td>\n",
       "      <td>0.006000</td>\n",
       "      <td>-0.016900</td>\n",
       "      <td>0.003200</td>\n",
       "      <td>0.000000</td>\n",
       "    </tr>\n",
       "    <tr>\n",
       "      <th>25%</th>\n",
       "      <td>1.419217</td>\n",
       "      <td>-0.009955</td>\n",
       "      <td>-0.004600</td>\n",
       "      <td>0.958300</td>\n",
       "      <td>198.476000</td>\n",
       "      <td>6.800425</td>\n",
       "      <td>407.066574</td>\n",
       "      <td>9.604720</td>\n",
       "      <td>0.967915</td>\n",
       "      <td>188.596675</td>\n",
       "      <td>...</td>\n",
       "      <td>0.040134</td>\n",
       "      <td>530.881800</td>\n",
       "      <td>1.992944</td>\n",
       "      <td>7.600000</td>\n",
       "      <td>0.241476</td>\n",
       "      <td>0.498348</td>\n",
       "      <td>0.011651</td>\n",
       "      <td>0.015212</td>\n",
       "      <td>0.011300</td>\n",
       "      <td>47.572830</td>\n",
       "    </tr>\n",
       "    <tr>\n",
       "      <th>50%</th>\n",
       "      <td>1.461007</td>\n",
       "      <td>-0.001600</td>\n",
       "      <td>0.001044</td>\n",
       "      <td>0.965200</td>\n",
       "      <td>199.723209</td>\n",
       "      <td>8.578300</td>\n",
       "      <td>412.858600</td>\n",
       "      <td>9.873236</td>\n",
       "      <td>0.971888</td>\n",
       "      <td>189.893100</td>\n",
       "      <td>...</td>\n",
       "      <td>0.060222</td>\n",
       "      <td>532.353963</td>\n",
       "      <td>2.128111</td>\n",
       "      <td>8.671645</td>\n",
       "      <td>0.293600</td>\n",
       "      <td>0.500600</td>\n",
       "      <td>0.013800</td>\n",
       "      <td>0.021500</td>\n",
       "      <td>0.015400</td>\n",
       "      <td>75.529008</td>\n",
       "    </tr>\n",
       "    <tr>\n",
       "      <th>75%</th>\n",
       "      <td>1.505896</td>\n",
       "      <td>0.006100</td>\n",
       "      <td>0.006017</td>\n",
       "      <td>0.970300</td>\n",
       "      <td>201.744367</td>\n",
       "      <td>10.283082</td>\n",
       "      <td>418.085005</td>\n",
       "      <td>10.123519</td>\n",
       "      <td>0.976417</td>\n",
       "      <td>191.916374</td>\n",
       "      <td>...</td>\n",
       "      <td>0.092337</td>\n",
       "      <td>534.252250</td>\n",
       "      <td>2.286180</td>\n",
       "      <td>9.940000</td>\n",
       "      <td>0.360200</td>\n",
       "      <td>0.502538</td>\n",
       "      <td>0.016791</td>\n",
       "      <td>0.027500</td>\n",
       "      <td>0.020692</td>\n",
       "      <td>114.749700</td>\n",
       "    </tr>\n",
       "    <tr>\n",
       "      <th>max</th>\n",
       "      <td>1.656400</td>\n",
       "      <td>0.049500</td>\n",
       "      <td>0.053000</td>\n",
       "      <td>0.984800</td>\n",
       "      <td>272.045100</td>\n",
       "      <td>18.862600</td>\n",
       "      <td>504.931200</td>\n",
       "      <td>102.867700</td>\n",
       "      <td>0.984800</td>\n",
       "      <td>215.597700</td>\n",
       "      <td>...</td>\n",
       "      <td>0.399500</td>\n",
       "      <td>589.508200</td>\n",
       "      <td>2.739500</td>\n",
       "      <td>452.540000</td>\n",
       "      <td>2.196700</td>\n",
       "      <td>0.509800</td>\n",
       "      <td>0.471400</td>\n",
       "      <td>0.102800</td>\n",
       "      <td>0.079900</td>\n",
       "      <td>737.304800</td>\n",
       "    </tr>\n",
       "  </tbody>\n",
       "</table>\n",
       "<p>8 rows × 131 columns</p>\n",
       "</div>"
      ],
      "text/plain": [
       "                 8            9           10           11           12  \\\n",
       "count  2342.000000  2342.000000  2342.000000  2342.000000  2342.000000   \n",
       "mean      1.463052    -0.001811     0.000472     0.964030   200.037428   \n",
       "std       0.064919     0.013398     0.008769     0.011066     2.842641   \n",
       "min       1.191000    -0.053400    -0.034900     0.655400   182.094000   \n",
       "25%       1.419217    -0.009955    -0.004600     0.958300   198.476000   \n",
       "50%       1.461007    -0.001600     0.001044     0.965200   199.723209   \n",
       "75%       1.505896     0.006100     0.006017     0.970300   201.744367   \n",
       "max       1.656400     0.049500     0.053000     0.984800   272.045100   \n",
       "\n",
       "                14           15           16           17           18  ...  \\\n",
       "count  2342.000000  2342.000000  2342.000000  2342.000000  2342.000000  ...   \n",
       "mean      8.597129   412.669680     9.900146     0.971365   190.137279  ...   \n",
       "std       2.561028     8.058017     1.974281     0.010309     2.468963  ...   \n",
       "min       2.249300   333.448600     4.469600     0.579400   169.177400  ...   \n",
       "25%       6.800425   407.066574     9.604720     0.967915   188.596675  ...   \n",
       "50%       8.578300   412.858600     9.873236     0.971888   189.893100  ...   \n",
       "75%      10.283082   418.085005    10.123519     0.976417   191.916374  ...   \n",
       "max      18.862600   504.931200   102.867700     0.984800   215.597700  ...   \n",
       "\n",
       "               560          570          571          572          573  \\\n",
       "count  2342.000000  2342.000000  2342.000000  2342.000000  2342.000000   \n",
       "mean      0.072739   530.056086     2.090694    24.060239     0.328553   \n",
       "std       0.045992    19.082387     0.288545    71.044213     0.195352   \n",
       "min       0.017700   317.196400     0.980200     3.540000     0.066700   \n",
       "25%       0.040134   530.881800     1.992944     7.600000     0.241476   \n",
       "50%       0.060222   532.353963     2.128111     8.671645     0.293600   \n",
       "75%       0.092337   534.252250     2.286180     9.940000     0.360200   \n",
       "max       0.399500   589.508200     2.739500   452.540000     2.196700   \n",
       "\n",
       "               582          583          586          587          589  \n",
       "count  2342.000000  2342.000000  2342.000000  2342.000000  2342.000000  \n",
       "mean      0.500443     0.015142     0.021865     0.016842    96.987588  \n",
       "std       0.003243     0.010699     0.011096     0.008109    80.759369  \n",
       "min       0.477800     0.006000    -0.016900     0.003200     0.000000  \n",
       "25%       0.498348     0.011651     0.015212     0.011300    47.572830  \n",
       "50%       0.500600     0.013800     0.021500     0.015400    75.529008  \n",
       "75%       0.502538     0.016791     0.027500     0.020692   114.749700  \n",
       "max       0.509800     0.471400     0.102800     0.079900   737.304800  \n",
       "\n",
       "[8 rows x 131 columns]"
      ]
     },
     "execution_count": 249,
     "metadata": {},
     "output_type": "execute_result"
    }
   ],
   "source": [
    "X_train_res.describe()"
   ]
  },
  {
   "cell_type": "code",
   "execution_count": 250,
   "id": "16c626a5",
   "metadata": {},
   "outputs": [
    {
     "data": {
      "text/html": [
       "<div>\n",
       "<style scoped>\n",
       "    .dataframe tbody tr th:only-of-type {\n",
       "        vertical-align: middle;\n",
       "    }\n",
       "\n",
       "    .dataframe tbody tr th {\n",
       "        vertical-align: top;\n",
       "    }\n",
       "\n",
       "    .dataframe thead th {\n",
       "        text-align: right;\n",
       "    }\n",
       "</style>\n",
       "<table border=\"1\" class=\"dataframe\">\n",
       "  <thead>\n",
       "    <tr style=\"text-align: right;\">\n",
       "      <th></th>\n",
       "      <th>Pass/Fail</th>\n",
       "    </tr>\n",
       "  </thead>\n",
       "  <tbody>\n",
       "    <tr>\n",
       "      <th>count</th>\n",
       "      <td>2342.000000</td>\n",
       "    </tr>\n",
       "    <tr>\n",
       "      <th>mean</th>\n",
       "      <td>0.000000</td>\n",
       "    </tr>\n",
       "    <tr>\n",
       "      <th>std</th>\n",
       "      <td>1.000214</td>\n",
       "    </tr>\n",
       "    <tr>\n",
       "      <th>min</th>\n",
       "      <td>-1.000000</td>\n",
       "    </tr>\n",
       "    <tr>\n",
       "      <th>25%</th>\n",
       "      <td>-1.000000</td>\n",
       "    </tr>\n",
       "    <tr>\n",
       "      <th>50%</th>\n",
       "      <td>0.000000</td>\n",
       "    </tr>\n",
       "    <tr>\n",
       "      <th>75%</th>\n",
       "      <td>1.000000</td>\n",
       "    </tr>\n",
       "    <tr>\n",
       "      <th>max</th>\n",
       "      <td>1.000000</td>\n",
       "    </tr>\n",
       "  </tbody>\n",
       "</table>\n",
       "</div>"
      ],
      "text/plain": [
       "         Pass/Fail\n",
       "count  2342.000000\n",
       "mean      0.000000\n",
       "std       1.000214\n",
       "min      -1.000000\n",
       "25%      -1.000000\n",
       "50%       0.000000\n",
       "75%       1.000000\n",
       "max       1.000000"
      ]
     },
     "execution_count": 250,
     "metadata": {},
     "output_type": "execute_result"
    }
   ],
   "source": [
    "y_train_res.describe()"
   ]
  },
  {
   "cell_type": "markdown",
   "id": "921caf26",
   "metadata": {},
   "source": [
    "#### The train, test and the original data seem to have similar statistical characteristics as seen using the describe function. The count is different due to upsampling where each count is 2336 as shown above"
   ]
  },
  {
   "cell_type": "markdown",
   "id": "93a16eb6",
   "metadata": {},
   "source": [
    "### 5.Model training, testing and tuning:"
   ]
  },
  {
   "cell_type": "markdown",
   "id": "73e91392",
   "metadata": {},
   "source": [
    "#### A.Use any Supervised Learning technique to train a model."
   ]
  },
  {
   "cell_type": "code",
   "execution_count": 251,
   "id": "577a350c",
   "metadata": {},
   "outputs": [
    {
     "data": {
      "text/html": [
       "<style>#sk-container-id-17 {color: black;background-color: white;}#sk-container-id-17 pre{padding: 0;}#sk-container-id-17 div.sk-toggleable {background-color: white;}#sk-container-id-17 label.sk-toggleable__label {cursor: pointer;display: block;width: 100%;margin-bottom: 0;padding: 0.3em;box-sizing: border-box;text-align: center;}#sk-container-id-17 label.sk-toggleable__label-arrow:before {content: \"▸\";float: left;margin-right: 0.25em;color: #696969;}#sk-container-id-17 label.sk-toggleable__label-arrow:hover:before {color: black;}#sk-container-id-17 div.sk-estimator:hover label.sk-toggleable__label-arrow:before {color: black;}#sk-container-id-17 div.sk-toggleable__content {max-height: 0;max-width: 0;overflow: hidden;text-align: left;background-color: #f0f8ff;}#sk-container-id-17 div.sk-toggleable__content pre {margin: 0.2em;color: black;border-radius: 0.25em;background-color: #f0f8ff;}#sk-container-id-17 input.sk-toggleable__control:checked~div.sk-toggleable__content {max-height: 200px;max-width: 100%;overflow: auto;}#sk-container-id-17 input.sk-toggleable__control:checked~label.sk-toggleable__label-arrow:before {content: \"▾\";}#sk-container-id-17 div.sk-estimator input.sk-toggleable__control:checked~label.sk-toggleable__label {background-color: #d4ebff;}#sk-container-id-17 div.sk-label input.sk-toggleable__control:checked~label.sk-toggleable__label {background-color: #d4ebff;}#sk-container-id-17 input.sk-hidden--visually {border: 0;clip: rect(1px 1px 1px 1px);clip: rect(1px, 1px, 1px, 1px);height: 1px;margin: -1px;overflow: hidden;padding: 0;position: absolute;width: 1px;}#sk-container-id-17 div.sk-estimator {font-family: monospace;background-color: #f0f8ff;border: 1px dotted black;border-radius: 0.25em;box-sizing: border-box;margin-bottom: 0.5em;}#sk-container-id-17 div.sk-estimator:hover {background-color: #d4ebff;}#sk-container-id-17 div.sk-parallel-item::after {content: \"\";width: 100%;border-bottom: 1px solid gray;flex-grow: 1;}#sk-container-id-17 div.sk-label:hover label.sk-toggleable__label {background-color: #d4ebff;}#sk-container-id-17 div.sk-serial::before {content: \"\";position: absolute;border-left: 1px solid gray;box-sizing: border-box;top: 0;bottom: 0;left: 50%;z-index: 0;}#sk-container-id-17 div.sk-serial {display: flex;flex-direction: column;align-items: center;background-color: white;padding-right: 0.2em;padding-left: 0.2em;position: relative;}#sk-container-id-17 div.sk-item {position: relative;z-index: 1;}#sk-container-id-17 div.sk-parallel {display: flex;align-items: stretch;justify-content: center;background-color: white;position: relative;}#sk-container-id-17 div.sk-item::before, #sk-container-id-17 div.sk-parallel-item::before {content: \"\";position: absolute;border-left: 1px solid gray;box-sizing: border-box;top: 0;bottom: 0;left: 50%;z-index: -1;}#sk-container-id-17 div.sk-parallel-item {display: flex;flex-direction: column;z-index: 1;position: relative;background-color: white;}#sk-container-id-17 div.sk-parallel-item:first-child::after {align-self: flex-end;width: 50%;}#sk-container-id-17 div.sk-parallel-item:last-child::after {align-self: flex-start;width: 50%;}#sk-container-id-17 div.sk-parallel-item:only-child::after {width: 0;}#sk-container-id-17 div.sk-dashed-wrapped {border: 1px dashed gray;margin: 0 0.4em 0.5em 0.4em;box-sizing: border-box;padding-bottom: 0.4em;background-color: white;}#sk-container-id-17 div.sk-label label {font-family: monospace;font-weight: bold;display: inline-block;line-height: 1.2em;}#sk-container-id-17 div.sk-label-container {text-align: center;}#sk-container-id-17 div.sk-container {/* jupyter's `normalize.less` sets `[hidden] { display: none; }` but bootstrap.min.css set `[hidden] { display: none !important; }` so we also need the `!important` here to be able to override the default hidden behavior on the sphinx rendered scikit-learn.org. See: https://github.com/scikit-learn/scikit-learn/issues/21755 */display: inline-block !important;position: relative;}#sk-container-id-17 div.sk-text-repr-fallback {display: none;}</style><div id=\"sk-container-id-17\" class=\"sk-top-container\"><div class=\"sk-text-repr-fallback\"><pre>SVC(C=1, gamma=0.1)</pre><b>In a Jupyter environment, please rerun this cell to show the HTML representation or trust the notebook. <br />On GitHub, the HTML representation is unable to render, please try loading this page with nbviewer.org.</b></div><div class=\"sk-container\" hidden><div class=\"sk-item\"><div class=\"sk-estimator sk-toggleable\"><input class=\"sk-toggleable__control sk-hidden--visually\" id=\"sk-estimator-id-21\" type=\"checkbox\" checked><label for=\"sk-estimator-id-21\" class=\"sk-toggleable__label sk-toggleable__label-arrow\">SVC</label><div class=\"sk-toggleable__content\"><pre>SVC(C=1, gamma=0.1)</pre></div></div></div></div></div>"
      ],
      "text/plain": [
       "SVC(C=1, gamma=0.1)"
      ]
     },
     "execution_count": 251,
     "metadata": {},
     "output_type": "execute_result"
    }
   ],
   "source": [
    "from sklearn import svm\n",
    "\n",
    "clf = svm.SVC(gamma=0.1, C=1)      \n",
    "clf.fit(X_train_res_scaled , y_train_res.values.ravel())\n",
    "\n",
    "#fitting SVM model"
   ]
  },
  {
   "cell_type": "code",
   "execution_count": 252,
   "id": "e1ad174b",
   "metadata": {},
   "outputs": [],
   "source": [
    "y_pred = clf.predict(X_test_scaled)\n",
    "\n",
    "#predicting on scaled test data"
   ]
  },
  {
   "cell_type": "code",
   "execution_count": 253,
   "id": "8b8526a7",
   "metadata": {},
   "outputs": [
    {
     "name": "stdout",
     "output_type": "stream",
     "text": [
      "Test Accuracy of SVM model is : 0.9299363057324841\n"
     ]
    }
   ],
   "source": [
    "from sklearn.metrics import accuracy_score, confusion_matrix\n",
    "from sklearn.metrics import precision_score, recall_score\n",
    "\n",
    "accuracy_test = accuracy_score(y_test, y_pred)\n",
    "print('Test Accuracy of SVM model is :', accuracy_test)"
   ]
  },
  {
   "cell_type": "code",
   "execution_count": 254,
   "id": "9c771b01",
   "metadata": {},
   "outputs": [
    {
     "name": "stdout",
     "output_type": "stream",
     "text": [
      "Train Accuracy of SVM model is : 1.0\n"
     ]
    }
   ],
   "source": [
    "print('Train Accuracy of SVM model is :', accuracy_score(y_train_res, clf.predict(X_train_res_scaled)))\n"
   ]
  },
  {
   "cell_type": "markdown",
   "id": "aaf0ffa9",
   "metadata": {},
   "source": [
    "#### B.Use cross validation techniques. [3 Marks]"
   ]
  },
  {
   "cell_type": "code",
   "execution_count": 255,
   "id": "e2cec6f9",
   "metadata": {},
   "outputs": [
    {
     "name": "stdout",
     "output_type": "stream",
     "text": [
      "Accuracy: 94.487% (5.744%)\n"
     ]
    }
   ],
   "source": [
    "from sklearn.model_selection import KFold\n",
    "from sklearn.model_selection import cross_val_score\n",
    "\n",
    "\n",
    "num_folds = 10\n",
    "\n",
    "kfold = KFold(n_splits=num_folds)\n",
    "model = svm.SVC(gamma=0.1, C=1)\n",
    "results = cross_val_score(model, X_train_res_scaled, y_train_res, cv=kfold)\n",
    "\n",
    "print(\"Accuracy: %.3f%% (%.3f%%)\" % (results.mean()*100.0, results.std()*100.0))"
   ]
  },
  {
   "cell_type": "markdown",
   "id": "99dc1a0c",
   "metadata": {},
   "source": [
    "#### C.Apply hyper-parameter tuning techniques to get the best accuracy."
   ]
  },
  {
   "cell_type": "code",
   "execution_count": 256,
   "id": "cebc3aa3",
   "metadata": {},
   "outputs": [
    {
     "data": {
      "text/html": [
       "<style>#sk-container-id-18 {color: black;background-color: white;}#sk-container-id-18 pre{padding: 0;}#sk-container-id-18 div.sk-toggleable {background-color: white;}#sk-container-id-18 label.sk-toggleable__label {cursor: pointer;display: block;width: 100%;margin-bottom: 0;padding: 0.3em;box-sizing: border-box;text-align: center;}#sk-container-id-18 label.sk-toggleable__label-arrow:before {content: \"▸\";float: left;margin-right: 0.25em;color: #696969;}#sk-container-id-18 label.sk-toggleable__label-arrow:hover:before {color: black;}#sk-container-id-18 div.sk-estimator:hover label.sk-toggleable__label-arrow:before {color: black;}#sk-container-id-18 div.sk-toggleable__content {max-height: 0;max-width: 0;overflow: hidden;text-align: left;background-color: #f0f8ff;}#sk-container-id-18 div.sk-toggleable__content pre {margin: 0.2em;color: black;border-radius: 0.25em;background-color: #f0f8ff;}#sk-container-id-18 input.sk-toggleable__control:checked~div.sk-toggleable__content {max-height: 200px;max-width: 100%;overflow: auto;}#sk-container-id-18 input.sk-toggleable__control:checked~label.sk-toggleable__label-arrow:before {content: \"▾\";}#sk-container-id-18 div.sk-estimator input.sk-toggleable__control:checked~label.sk-toggleable__label {background-color: #d4ebff;}#sk-container-id-18 div.sk-label input.sk-toggleable__control:checked~label.sk-toggleable__label {background-color: #d4ebff;}#sk-container-id-18 input.sk-hidden--visually {border: 0;clip: rect(1px 1px 1px 1px);clip: rect(1px, 1px, 1px, 1px);height: 1px;margin: -1px;overflow: hidden;padding: 0;position: absolute;width: 1px;}#sk-container-id-18 div.sk-estimator {font-family: monospace;background-color: #f0f8ff;border: 1px dotted black;border-radius: 0.25em;box-sizing: border-box;margin-bottom: 0.5em;}#sk-container-id-18 div.sk-estimator:hover {background-color: #d4ebff;}#sk-container-id-18 div.sk-parallel-item::after {content: \"\";width: 100%;border-bottom: 1px solid gray;flex-grow: 1;}#sk-container-id-18 div.sk-label:hover label.sk-toggleable__label {background-color: #d4ebff;}#sk-container-id-18 div.sk-serial::before {content: \"\";position: absolute;border-left: 1px solid gray;box-sizing: border-box;top: 0;bottom: 0;left: 50%;z-index: 0;}#sk-container-id-18 div.sk-serial {display: flex;flex-direction: column;align-items: center;background-color: white;padding-right: 0.2em;padding-left: 0.2em;position: relative;}#sk-container-id-18 div.sk-item {position: relative;z-index: 1;}#sk-container-id-18 div.sk-parallel {display: flex;align-items: stretch;justify-content: center;background-color: white;position: relative;}#sk-container-id-18 div.sk-item::before, #sk-container-id-18 div.sk-parallel-item::before {content: \"\";position: absolute;border-left: 1px solid gray;box-sizing: border-box;top: 0;bottom: 0;left: 50%;z-index: -1;}#sk-container-id-18 div.sk-parallel-item {display: flex;flex-direction: column;z-index: 1;position: relative;background-color: white;}#sk-container-id-18 div.sk-parallel-item:first-child::after {align-self: flex-end;width: 50%;}#sk-container-id-18 div.sk-parallel-item:last-child::after {align-self: flex-start;width: 50%;}#sk-container-id-18 div.sk-parallel-item:only-child::after {width: 0;}#sk-container-id-18 div.sk-dashed-wrapped {border: 1px dashed gray;margin: 0 0.4em 0.5em 0.4em;box-sizing: border-box;padding-bottom: 0.4em;background-color: white;}#sk-container-id-18 div.sk-label label {font-family: monospace;font-weight: bold;display: inline-block;line-height: 1.2em;}#sk-container-id-18 div.sk-label-container {text-align: center;}#sk-container-id-18 div.sk-container {/* jupyter's `normalize.less` sets `[hidden] { display: none; }` but bootstrap.min.css set `[hidden] { display: none !important; }` so we also need the `!important` here to be able to override the default hidden behavior on the sphinx rendered scikit-learn.org. See: https://github.com/scikit-learn/scikit-learn/issues/21755 */display: inline-block !important;position: relative;}#sk-container-id-18 div.sk-text-repr-fallback {display: none;}</style><div id=\"sk-container-id-18\" class=\"sk-top-container\"><div class=\"sk-text-repr-fallback\"><pre>RandomizedSearchCV(estimator=SVC(), n_iter=20,\n",
       "                   param_distributions={&#x27;C&#x27;: [1, 10], &#x27;gamma&#x27;: [0.05, 0.5]})</pre><b>In a Jupyter environment, please rerun this cell to show the HTML representation or trust the notebook. <br />On GitHub, the HTML representation is unable to render, please try loading this page with nbviewer.org.</b></div><div class=\"sk-container\" hidden><div class=\"sk-item sk-dashed-wrapped\"><div class=\"sk-label-container\"><div class=\"sk-label sk-toggleable\"><input class=\"sk-toggleable__control sk-hidden--visually\" id=\"sk-estimator-id-22\" type=\"checkbox\" ><label for=\"sk-estimator-id-22\" class=\"sk-toggleable__label sk-toggleable__label-arrow\">RandomizedSearchCV</label><div class=\"sk-toggleable__content\"><pre>RandomizedSearchCV(estimator=SVC(), n_iter=20,\n",
       "                   param_distributions={&#x27;C&#x27;: [1, 10], &#x27;gamma&#x27;: [0.05, 0.5]})</pre></div></div></div><div class=\"sk-parallel\"><div class=\"sk-parallel-item\"><div class=\"sk-item\"><div class=\"sk-label-container\"><div class=\"sk-label sk-toggleable\"><input class=\"sk-toggleable__control sk-hidden--visually\" id=\"sk-estimator-id-23\" type=\"checkbox\" ><label for=\"sk-estimator-id-23\" class=\"sk-toggleable__label sk-toggleable__label-arrow\">estimator: SVC</label><div class=\"sk-toggleable__content\"><pre>SVC()</pre></div></div></div><div class=\"sk-serial\"><div class=\"sk-item\"><div class=\"sk-estimator sk-toggleable\"><input class=\"sk-toggleable__control sk-hidden--visually\" id=\"sk-estimator-id-24\" type=\"checkbox\" ><label for=\"sk-estimator-id-24\" class=\"sk-toggleable__label sk-toggleable__label-arrow\">SVC</label><div class=\"sk-toggleable__content\"><pre>SVC()</pre></div></div></div></div></div></div></div></div></div></div>"
      ],
      "text/plain": [
       "RandomizedSearchCV(estimator=SVC(), n_iter=20,\n",
       "                   param_distributions={'C': [1, 10], 'gamma': [0.05, 0.5]})"
      ]
     },
     "execution_count": 256,
     "metadata": {},
     "output_type": "execute_result"
    }
   ],
   "source": [
    "from sklearn.model_selection import RandomizedSearchCV\n",
    " \n",
    "# defining parameter range\n",
    "param_dist = {\n",
    "    \"C\": [1, 10],\n",
    "    \"gamma\": [0.05, 0.5]\n",
    "}\n",
    "\n",
    "samples = 20  # number of random samples \n",
    "randomCV = RandomizedSearchCV(svm.SVC(), param_distributions=param_dist, n_iter=samples) \n",
    "\n",
    "randomCV.fit(X_train_res_scaled, y_train_res)\n"
   ]
  },
  {
   "cell_type": "code",
   "execution_count": 257,
   "id": "166f8b4c",
   "metadata": {},
   "outputs": [
    {
     "name": "stdout",
     "output_type": "stream",
     "text": [
      "0.9935988555391541\n"
     ]
    }
   ],
   "source": [
    "print(randomCV.best_score_)"
   ]
  },
  {
   "cell_type": "code",
   "execution_count": 258,
   "id": "f853a7e6",
   "metadata": {},
   "outputs": [
    {
     "name": "stdout",
     "output_type": "stream",
     "text": [
      "{'gamma': 0.05, 'C': 10}\n"
     ]
    }
   ],
   "source": [
    "print(randomCV.best_params_)\n",
    "\n",
    "#these are the best parameters which give best accuracy"
   ]
  },
  {
   "cell_type": "code",
   "execution_count": 259,
   "id": "292220ca",
   "metadata": {},
   "outputs": [],
   "source": [
    "y_pred_hyper = randomCV.predict(X_test_scaled)"
   ]
  },
  {
   "cell_type": "code",
   "execution_count": 260,
   "id": "ead3fb7f",
   "metadata": {},
   "outputs": [
    {
     "name": "stdout",
     "output_type": "stream",
     "text": [
      "Test Accuracy of SVM model is : 0.9299363057324841\n"
     ]
    }
   ],
   "source": [
    "accuracy_test_hyper = accuracy_score(y_test, y_pred_hyper)\n",
    "print('Test Accuracy of SVM model is :', accuracy_test_hyper)"
   ]
  },
  {
   "cell_type": "markdown",
   "id": "27b59056",
   "metadata": {},
   "source": [
    "#### D.Use any other technique/method which can enhance the model performance."
   ]
  },
  {
   "cell_type": "code",
   "execution_count": 261,
   "id": "3a1ae2ac",
   "metadata": {},
   "outputs": [
    {
     "data": {
      "text/html": [
       "<style>#sk-container-id-19 {color: black;background-color: white;}#sk-container-id-19 pre{padding: 0;}#sk-container-id-19 div.sk-toggleable {background-color: white;}#sk-container-id-19 label.sk-toggleable__label {cursor: pointer;display: block;width: 100%;margin-bottom: 0;padding: 0.3em;box-sizing: border-box;text-align: center;}#sk-container-id-19 label.sk-toggleable__label-arrow:before {content: \"▸\";float: left;margin-right: 0.25em;color: #696969;}#sk-container-id-19 label.sk-toggleable__label-arrow:hover:before {color: black;}#sk-container-id-19 div.sk-estimator:hover label.sk-toggleable__label-arrow:before {color: black;}#sk-container-id-19 div.sk-toggleable__content {max-height: 0;max-width: 0;overflow: hidden;text-align: left;background-color: #f0f8ff;}#sk-container-id-19 div.sk-toggleable__content pre {margin: 0.2em;color: black;border-radius: 0.25em;background-color: #f0f8ff;}#sk-container-id-19 input.sk-toggleable__control:checked~div.sk-toggleable__content {max-height: 200px;max-width: 100%;overflow: auto;}#sk-container-id-19 input.sk-toggleable__control:checked~label.sk-toggleable__label-arrow:before {content: \"▾\";}#sk-container-id-19 div.sk-estimator input.sk-toggleable__control:checked~label.sk-toggleable__label {background-color: #d4ebff;}#sk-container-id-19 div.sk-label input.sk-toggleable__control:checked~label.sk-toggleable__label {background-color: #d4ebff;}#sk-container-id-19 input.sk-hidden--visually {border: 0;clip: rect(1px 1px 1px 1px);clip: rect(1px, 1px, 1px, 1px);height: 1px;margin: -1px;overflow: hidden;padding: 0;position: absolute;width: 1px;}#sk-container-id-19 div.sk-estimator {font-family: monospace;background-color: #f0f8ff;border: 1px dotted black;border-radius: 0.25em;box-sizing: border-box;margin-bottom: 0.5em;}#sk-container-id-19 div.sk-estimator:hover {background-color: #d4ebff;}#sk-container-id-19 div.sk-parallel-item::after {content: \"\";width: 100%;border-bottom: 1px solid gray;flex-grow: 1;}#sk-container-id-19 div.sk-label:hover label.sk-toggleable__label {background-color: #d4ebff;}#sk-container-id-19 div.sk-serial::before {content: \"\";position: absolute;border-left: 1px solid gray;box-sizing: border-box;top: 0;bottom: 0;left: 50%;z-index: 0;}#sk-container-id-19 div.sk-serial {display: flex;flex-direction: column;align-items: center;background-color: white;padding-right: 0.2em;padding-left: 0.2em;position: relative;}#sk-container-id-19 div.sk-item {position: relative;z-index: 1;}#sk-container-id-19 div.sk-parallel {display: flex;align-items: stretch;justify-content: center;background-color: white;position: relative;}#sk-container-id-19 div.sk-item::before, #sk-container-id-19 div.sk-parallel-item::before {content: \"\";position: absolute;border-left: 1px solid gray;box-sizing: border-box;top: 0;bottom: 0;left: 50%;z-index: -1;}#sk-container-id-19 div.sk-parallel-item {display: flex;flex-direction: column;z-index: 1;position: relative;background-color: white;}#sk-container-id-19 div.sk-parallel-item:first-child::after {align-self: flex-end;width: 50%;}#sk-container-id-19 div.sk-parallel-item:last-child::after {align-self: flex-start;width: 50%;}#sk-container-id-19 div.sk-parallel-item:only-child::after {width: 0;}#sk-container-id-19 div.sk-dashed-wrapped {border: 1px dashed gray;margin: 0 0.4em 0.5em 0.4em;box-sizing: border-box;padding-bottom: 0.4em;background-color: white;}#sk-container-id-19 div.sk-label label {font-family: monospace;font-weight: bold;display: inline-block;line-height: 1.2em;}#sk-container-id-19 div.sk-label-container {text-align: center;}#sk-container-id-19 div.sk-container {/* jupyter's `normalize.less` sets `[hidden] { display: none; }` but bootstrap.min.css set `[hidden] { display: none !important; }` so we also need the `!important` here to be able to override the default hidden behavior on the sphinx rendered scikit-learn.org. See: https://github.com/scikit-learn/scikit-learn/issues/21755 */display: inline-block !important;position: relative;}#sk-container-id-19 div.sk-text-repr-fallback {display: none;}</style><div id=\"sk-container-id-19\" class=\"sk-top-container\"><div class=\"sk-text-repr-fallback\"><pre>PCA(n_components=100)</pre><b>In a Jupyter environment, please rerun this cell to show the HTML representation or trust the notebook. <br />On GitHub, the HTML representation is unable to render, please try loading this page with nbviewer.org.</b></div><div class=\"sk-container\" hidden><div class=\"sk-item\"><div class=\"sk-estimator sk-toggleable\"><input class=\"sk-toggleable__control sk-hidden--visually\" id=\"sk-estimator-id-25\" type=\"checkbox\" checked><label for=\"sk-estimator-id-25\" class=\"sk-toggleable__label sk-toggleable__label-arrow\">PCA</label><div class=\"sk-toggleable__content\"><pre>PCA(n_components=100)</pre></div></div></div></div></div>"
      ],
      "text/plain": [
       "PCA(n_components=100)"
      ]
     },
     "execution_count": 261,
     "metadata": {},
     "output_type": "execute_result"
    }
   ],
   "source": [
    "from sklearn.decomposition import PCA\n",
    "\n",
    "pca = PCA(n_components=100)\n",
    "pca.fit(X_train_res_scaled)"
   ]
  },
  {
   "cell_type": "code",
   "execution_count": 262,
   "id": "d216f1fb",
   "metadata": {},
   "outputs": [
    {
     "name": "stdout",
     "output_type": "stream",
     "text": [
      "[11.03189029  5.77430426  4.61316674  4.57442948  3.82134646  3.44362501\n",
      "  3.17320693  3.11164846  3.01240462  2.77120291  2.5661522   2.44960238\n",
      "  2.28041766  2.19459534  2.15254541  2.08815424  2.02500785  1.95196914\n",
      "  1.91792206  1.81885552  1.77255834  1.70860939  1.6714321   1.63279225\n",
      "  1.55929051  1.51568973  1.50115642  1.47147093  1.43144628  1.4102914\n",
      "  1.38507525  1.36149114  1.32230058  1.28219662  1.2360077   1.20437202\n",
      "  1.18218599  1.16373334  1.11139551  1.07403695  1.03696795  1.02906436\n",
      "  1.00553823  0.99871417  0.95251717  0.93523905  0.91456677  0.90220124\n",
      "  0.87300257  0.85629407  0.83612057  0.83226988  0.80904912  0.78569971\n",
      "  0.78080466  0.76412354  0.76295738  0.72980952  0.70954739  0.70420076\n",
      "  0.69159457  0.66853704  0.65587744  0.64082116  0.62013968  0.61518086\n",
      "  0.59908716  0.58973532  0.57265917  0.55538739  0.54653132  0.52774203\n",
      "  0.52494117  0.50594433  0.49943208  0.48843125  0.46741462  0.45245217\n",
      "  0.43937836  0.42864364  0.41864914  0.40770912  0.39496793  0.37432279\n",
      "  0.36385295  0.3574673   0.33062486  0.3182726   0.30945187  0.29812174\n",
      "  0.28505662  0.26510455  0.25828356  0.25424702  0.22092735  0.21222207\n",
      "  0.20635156  0.20361787  0.18762697  0.17285858]\n"
     ]
    }
   ],
   "source": [
    "print(pca.explained_variance_)\n",
    "\n",
    "#Variance explained by each eigen value"
   ]
  },
  {
   "cell_type": "code",
   "execution_count": 263,
   "id": "2ef02e4c",
   "metadata": {},
   "outputs": [
    {
     "name": "stdout",
     "output_type": "stream",
     "text": [
      "[[ 0.03072213 -0.03008572  0.06646779 ... -0.02378682  0.04037008\n",
      "   0.03553693]\n",
      " [ 0.01542437  0.01167894  0.0019182  ...  0.03752054 -0.0260246\n",
      "  -0.04015696]\n",
      " [-0.01872918  0.0418387  -0.02993982 ...  0.01196438 -0.03937577\n",
      "  -0.01853012]\n",
      " ...\n",
      " [ 0.02776312 -0.00075989  0.0578895  ...  0.00084977 -0.03158732\n",
      "   0.01446847]\n",
      " [-0.0124129   0.01674047  0.04619902 ...  0.10858023 -0.14395121\n",
      "   0.14496557]\n",
      " [-0.02847957  0.01722717  0.04263844 ... -0.11404251  0.13439761\n",
      "  -0.10957679]]\n"
     ]
    }
   ],
   "source": [
    "print(pca.components_)"
   ]
  },
  {
   "cell_type": "code",
   "execution_count": 264,
   "id": "7eb635ce",
   "metadata": {},
   "outputs": [
    {
     "name": "stdout",
     "output_type": "stream",
     "text": [
      "[0.08417695 0.04405984 0.03519998 0.0349044  0.02915813 0.02627599\n",
      " 0.02421261 0.0237429  0.02298564 0.02114519 0.01958058 0.01869127\n",
      " 0.01740034 0.01674548 0.01642463 0.0159333  0.01545147 0.01489417\n",
      " 0.01463438 0.01387846 0.0135252  0.01303725 0.01275358 0.01245874\n",
      " 0.0118979  0.01156521 0.01145432 0.01122781 0.01092241 0.01076099\n",
      " 0.01056858 0.01038862 0.01008959 0.00978358 0.00943114 0.00918975\n",
      " 0.00902047 0.00887967 0.00848031 0.00819525 0.00791241 0.0078521\n",
      " 0.00767259 0.00762052 0.00726802 0.00713618 0.00697844 0.00688409\n",
      " 0.0066613  0.0065338  0.00637987 0.00635049 0.00617331 0.00599515\n",
      " 0.0059578  0.00583051 0.00582162 0.00556869 0.00541408 0.00537328\n",
      " 0.00527709 0.00510116 0.00500456 0.00488968 0.00473187 0.00469403\n",
      " 0.00457123 0.00449987 0.00436958 0.00423779 0.00417021 0.00402685\n",
      " 0.00400547 0.00386052 0.00381083 0.00372689 0.00356653 0.00345236\n",
      " 0.0033526  0.00327069 0.00319443 0.00311095 0.00301373 0.00285621\n",
      " 0.00277632 0.00272759 0.00252278 0.00242852 0.00236122 0.00227477\n",
      " 0.00217508 0.00202283 0.00197079 0.00193999 0.00168575 0.00161932\n",
      " 0.00157453 0.00155367 0.00143166 0.00131897]\n"
     ]
    }
   ],
   "source": [
    "print(pca.explained_variance_ratio_)"
   ]
  },
  {
   "cell_type": "code",
   "execution_count": 265,
   "id": "27637629",
   "metadata": {},
   "outputs": [
    {
     "data": {
      "image/png": "[encoded data removed]",
      "text/plain": [
       "<Figure size 640x480 with 1 Axes>"
      ]
     },
     "metadata": {},
     "output_type": "display_data"
    }
   ],
   "source": [
    "plt.bar(list(range(1,101)),pca.explained_variance_ratio_,alpha=0.5, align='center')\n",
    "plt.ylabel('Variation explained')\n",
    "plt.xlabel('eigen Value')\n",
    "plt.show()"
   ]
  },
  {
   "cell_type": "code",
   "execution_count": 266,
   "id": "70ac233c",
   "metadata": {},
   "outputs": [
    {
     "data": {
      "image/png": "[encoded data removed]",
      "text/plain": [
       "<Figure size 640x480 with 1 Axes>"
      ]
     },
     "metadata": {},
     "output_type": "display_data"
    }
   ],
   "source": [
    "plt.step(list(range(1,101)),np.cumsum(pca.explained_variance_ratio_), where='mid')\n",
    "plt.ylabel('Cum of variation explained')\n",
    "plt.xlabel('eigen Value')\n",
    "plt.show()"
   ]
  },
  {
   "cell_type": "code",
   "execution_count": 267,
   "id": "5ce68c4d",
   "metadata": {},
   "outputs": [
    {
     "data": {
      "image/png": "[encoded data removed]",
      "text/plain": [
       "<Figure size 640x480 with 1 Axes>"
      ]
     },
     "metadata": {},
     "output_type": "display_data"
    }
   ],
   "source": [
    "plt.axhline(y = 0.95, color = 'r', linestyle = '-')\n",
    "plt.step(list(range(1,101)),np.cumsum(pca.explained_variance_ratio_), where='mid')\n",
    "plt.ylabel('Cum of variation explained')\n",
    "plt.xlabel('eigen Value')\n",
    "plt.show()"
   ]
  },
  {
   "cell_type": "markdown",
   "id": "cf7edbf2",
   "metadata": {},
   "source": [
    "#### This shows that just over 80 components are enough to explain 95% of variance. These number of components should be enough to train the models"
   ]
  },
  {
   "cell_type": "code",
   "execution_count": 268,
   "id": "10e2708e",
   "metadata": {},
   "outputs": [],
   "source": [
    "Xpca100 = pca.transform(X_train_res_scaled)"
   ]
  },
  {
   "cell_type": "code",
   "execution_count": 269,
   "id": "ce23e74d",
   "metadata": {},
   "outputs": [
    {
     "data": {
      "text/plain": [
       "array([[-1.76280002,  1.32462907, -2.87386295, ..., -0.00367318,\n",
       "        -0.57938742, -0.01583995],\n",
       "       [-1.54921038,  1.761868  , -0.5418903 , ...,  0.04651266,\n",
       "        -0.15165917,  0.04806395],\n",
       "       [ 2.1073161 , -0.19634982,  2.16350385, ..., -0.89675965,\n",
       "        -0.95062765, -0.19878395],\n",
       "       ...,\n",
       "       [-1.07623177,  0.2584928 ,  1.36865581, ..., -0.05315018,\n",
       "        -0.60632459,  0.32425947],\n",
       "       [-0.41996224,  2.71273888, -0.76892279, ..., -0.01931928,\n",
       "        -0.04756041,  0.38153288],\n",
       "       [-0.93403442,  0.67333476,  0.85455812, ...,  0.09878966,\n",
       "        -0.41205247, -0.22048403]])"
      ]
     },
     "execution_count": 269,
     "metadata": {},
     "output_type": "execute_result"
    }
   ],
   "source": [
    "Xpca100"
   ]
  },
  {
   "cell_type": "code",
   "execution_count": 270,
   "id": "e886c302",
   "metadata": {},
   "outputs": [],
   "source": [
    "X_train_pca, X_test_pca, y_train_pca, y_test_pca = train_test_split(Xpca100, y_train_res, test_size=0.20, random_state=1)\n",
    "\n",
    "#Splitting into train and test using the pca dataframe"
   ]
  },
  {
   "cell_type": "code",
   "execution_count": 271,
   "id": "acf82fc6",
   "metadata": {},
   "outputs": [
    {
     "data": {
      "text/html": [
       "<style>#sk-container-id-20 {color: black;background-color: white;}#sk-container-id-20 pre{padding: 0;}#sk-container-id-20 div.sk-toggleable {background-color: white;}#sk-container-id-20 label.sk-toggleable__label {cursor: pointer;display: block;width: 100%;margin-bottom: 0;padding: 0.3em;box-sizing: border-box;text-align: center;}#sk-container-id-20 label.sk-toggleable__label-arrow:before {content: \"▸\";float: left;margin-right: 0.25em;color: #696969;}#sk-container-id-20 label.sk-toggleable__label-arrow:hover:before {color: black;}#sk-container-id-20 div.sk-estimator:hover label.sk-toggleable__label-arrow:before {color: black;}#sk-container-id-20 div.sk-toggleable__content {max-height: 0;max-width: 0;overflow: hidden;text-align: left;background-color: #f0f8ff;}#sk-container-id-20 div.sk-toggleable__content pre {margin: 0.2em;color: black;border-radius: 0.25em;background-color: #f0f8ff;}#sk-container-id-20 input.sk-toggleable__control:checked~div.sk-toggleable__content {max-height: 200px;max-width: 100%;overflow: auto;}#sk-container-id-20 input.sk-toggleable__control:checked~label.sk-toggleable__label-arrow:before {content: \"▾\";}#sk-container-id-20 div.sk-estimator input.sk-toggleable__control:checked~label.sk-toggleable__label {background-color: #d4ebff;}#sk-container-id-20 div.sk-label input.sk-toggleable__control:checked~label.sk-toggleable__label {background-color: #d4ebff;}#sk-container-id-20 input.sk-hidden--visually {border: 0;clip: rect(1px 1px 1px 1px);clip: rect(1px, 1px, 1px, 1px);height: 1px;margin: -1px;overflow: hidden;padding: 0;position: absolute;width: 1px;}#sk-container-id-20 div.sk-estimator {font-family: monospace;background-color: #f0f8ff;border: 1px dotted black;border-radius: 0.25em;box-sizing: border-box;margin-bottom: 0.5em;}#sk-container-id-20 div.sk-estimator:hover {background-color: #d4ebff;}#sk-container-id-20 div.sk-parallel-item::after {content: \"\";width: 100%;border-bottom: 1px solid gray;flex-grow: 1;}#sk-container-id-20 div.sk-label:hover label.sk-toggleable__label {background-color: #d4ebff;}#sk-container-id-20 div.sk-serial::before {content: \"\";position: absolute;border-left: 1px solid gray;box-sizing: border-box;top: 0;bottom: 0;left: 50%;z-index: 0;}#sk-container-id-20 div.sk-serial {display: flex;flex-direction: column;align-items: center;background-color: white;padding-right: 0.2em;padding-left: 0.2em;position: relative;}#sk-container-id-20 div.sk-item {position: relative;z-index: 1;}#sk-container-id-20 div.sk-parallel {display: flex;align-items: stretch;justify-content: center;background-color: white;position: relative;}#sk-container-id-20 div.sk-item::before, #sk-container-id-20 div.sk-parallel-item::before {content: \"\";position: absolute;border-left: 1px solid gray;box-sizing: border-box;top: 0;bottom: 0;left: 50%;z-index: -1;}#sk-container-id-20 div.sk-parallel-item {display: flex;flex-direction: column;z-index: 1;position: relative;background-color: white;}#sk-container-id-20 div.sk-parallel-item:first-child::after {align-self: flex-end;width: 50%;}#sk-container-id-20 div.sk-parallel-item:last-child::after {align-self: flex-start;width: 50%;}#sk-container-id-20 div.sk-parallel-item:only-child::after {width: 0;}#sk-container-id-20 div.sk-dashed-wrapped {border: 1px dashed gray;margin: 0 0.4em 0.5em 0.4em;box-sizing: border-box;padding-bottom: 0.4em;background-color: white;}#sk-container-id-20 div.sk-label label {font-family: monospace;font-weight: bold;display: inline-block;line-height: 1.2em;}#sk-container-id-20 div.sk-label-container {text-align: center;}#sk-container-id-20 div.sk-container {/* jupyter's `normalize.less` sets `[hidden] { display: none; }` but bootstrap.min.css set `[hidden] { display: none !important; }` so we also need the `!important` here to be able to override the default hidden behavior on the sphinx rendered scikit-learn.org. See: https://github.com/scikit-learn/scikit-learn/issues/21755 */display: inline-block !important;position: relative;}#sk-container-id-20 div.sk-text-repr-fallback {display: none;}</style><div id=\"sk-container-id-20\" class=\"sk-top-container\"><div class=\"sk-text-repr-fallback\"><pre>SVC(C=3, gamma=0.01)</pre><b>In a Jupyter environment, please rerun this cell to show the HTML representation or trust the notebook. <br />On GitHub, the HTML representation is unable to render, please try loading this page with nbviewer.org.</b></div><div class=\"sk-container\" hidden><div class=\"sk-item\"><div class=\"sk-estimator sk-toggleable\"><input class=\"sk-toggleable__control sk-hidden--visually\" id=\"sk-estimator-id-26\" type=\"checkbox\" checked><label for=\"sk-estimator-id-26\" class=\"sk-toggleable__label sk-toggleable__label-arrow\">SVC</label><div class=\"sk-toggleable__content\"><pre>SVC(C=3, gamma=0.01)</pre></div></div></div></div></div>"
      ],
      "text/plain": [
       "SVC(C=3, gamma=0.01)"
      ]
     },
     "execution_count": 271,
     "metadata": {},
     "output_type": "execute_result"
    }
   ],
   "source": [
    "clf_pca = svm.SVC(gamma=0.01, C=3)      \n",
    "clf_pca.fit(X_train_pca, y_train_pca)"
   ]
  },
  {
   "cell_type": "code",
   "execution_count": 272,
   "id": "fcfc1303",
   "metadata": {},
   "outputs": [],
   "source": [
    "y_pred_pca = clf_pca.predict(X_test_pca)"
   ]
  },
  {
   "cell_type": "code",
   "execution_count": 273,
   "id": "34af4bf7",
   "metadata": {},
   "outputs": [
    {
     "name": "stdout",
     "output_type": "stream",
     "text": [
      "Train Accuracy of SVM model is : 1.0\n",
      "Test Accuracy of SVM model is : 0.9893390191897654\n"
     ]
    }
   ],
   "source": [
    "print('Train Accuracy of SVM model is :', accuracy_score(y_train_pca, clf_pca.predict(X_train_pca)))\n",
    "\n",
    "accuracy_pca = accuracy_score(y_test_pca, y_pred_pca)\n",
    "print('Test Accuracy of SVM model is :', accuracy_pca)"
   ]
  },
  {
   "cell_type": "markdown",
   "id": "78970a0b",
   "metadata": {},
   "source": [
    "#### The train and test accuracy are really good with no dataleak or any fall inaccuracy, or any overfitting. "
   ]
  },
  {
   "cell_type": "markdown",
   "id": "c4275215",
   "metadata": {},
   "source": [
    "#### E.Display and explain the classification report in detail."
   ]
  },
  {
   "cell_type": "code",
   "execution_count": 274,
   "id": "fe1da57f",
   "metadata": {},
   "outputs": [
    {
     "name": "stdout",
     "output_type": "stream",
     "text": [
      "              precision    recall  f1-score   support\n",
      "\n",
      "          -1       1.00      0.98      0.99       242\n",
      "           1       0.98      1.00      0.99       227\n",
      "\n",
      "    accuracy                           0.99       469\n",
      "   macro avg       0.99      0.99      0.99       469\n",
      "weighted avg       0.99      0.99      0.99       469\n",
      "\n"
     ]
    }
   ],
   "source": [
    "from sklearn.metrics import classification_report\n",
    "\n",
    "print(classification_report(y_test_pca, y_pred_pca))"
   ]
  },
  {
   "cell_type": "markdown",
   "id": "d36f1eb3",
   "metadata": {},
   "source": [
    "#### F.Apply the above steps for all possible models that you have learnt so far."
   ]
  },
  {
   "cell_type": "markdown",
   "id": "e2c648ae",
   "metadata": {},
   "source": [
    "### KNN"
   ]
  },
  {
   "cell_type": "code",
   "execution_count": 275,
   "id": "654e6238",
   "metadata": {},
   "outputs": [
    {
     "data": {
      "text/html": [
       "<style>#sk-container-id-21 {color: black;background-color: white;}#sk-container-id-21 pre{padding: 0;}#sk-container-id-21 div.sk-toggleable {background-color: white;}#sk-container-id-21 label.sk-toggleable__label {cursor: pointer;display: block;width: 100%;margin-bottom: 0;padding: 0.3em;box-sizing: border-box;text-align: center;}#sk-container-id-21 label.sk-toggleable__label-arrow:before {content: \"▸\";float: left;margin-right: 0.25em;color: #696969;}#sk-container-id-21 label.sk-toggleable__label-arrow:hover:before {color: black;}#sk-container-id-21 div.sk-estimator:hover label.sk-toggleable__label-arrow:before {color: black;}#sk-container-id-21 div.sk-toggleable__content {max-height: 0;max-width: 0;overflow: hidden;text-align: left;background-color: #f0f8ff;}#sk-container-id-21 div.sk-toggleable__content pre {margin: 0.2em;color: black;border-radius: 0.25em;background-color: #f0f8ff;}#sk-container-id-21 input.sk-toggleable__control:checked~div.sk-toggleable__content {max-height: 200px;max-width: 100%;overflow: auto;}#sk-container-id-21 input.sk-toggleable__control:checked~label.sk-toggleable__label-arrow:before {content: \"▾\";}#sk-container-id-21 div.sk-estimator input.sk-toggleable__control:checked~label.sk-toggleable__label {background-color: #d4ebff;}#sk-container-id-21 div.sk-label input.sk-toggleable__control:checked~label.sk-toggleable__label {background-color: #d4ebff;}#sk-container-id-21 input.sk-hidden--visually {border: 0;clip: rect(1px 1px 1px 1px);clip: rect(1px, 1px, 1px, 1px);height: 1px;margin: -1px;overflow: hidden;padding: 0;position: absolute;width: 1px;}#sk-container-id-21 div.sk-estimator {font-family: monospace;background-color: #f0f8ff;border: 1px dotted black;border-radius: 0.25em;box-sizing: border-box;margin-bottom: 0.5em;}#sk-container-id-21 div.sk-estimator:hover {background-color: #d4ebff;}#sk-container-id-21 div.sk-parallel-item::after {content: \"\";width: 100%;border-bottom: 1px solid gray;flex-grow: 1;}#sk-container-id-21 div.sk-label:hover label.sk-toggleable__label {background-color: #d4ebff;}#sk-container-id-21 div.sk-serial::before {content: \"\";position: absolute;border-left: 1px solid gray;box-sizing: border-box;top: 0;bottom: 0;left: 50%;z-index: 0;}#sk-container-id-21 div.sk-serial {display: flex;flex-direction: column;align-items: center;background-color: white;padding-right: 0.2em;padding-left: 0.2em;position: relative;}#sk-container-id-21 div.sk-item {position: relative;z-index: 1;}#sk-container-id-21 div.sk-parallel {display: flex;align-items: stretch;justify-content: center;background-color: white;position: relative;}#sk-container-id-21 div.sk-item::before, #sk-container-id-21 div.sk-parallel-item::before {content: \"\";position: absolute;border-left: 1px solid gray;box-sizing: border-box;top: 0;bottom: 0;left: 50%;z-index: -1;}#sk-container-id-21 div.sk-parallel-item {display: flex;flex-direction: column;z-index: 1;position: relative;background-color: white;}#sk-container-id-21 div.sk-parallel-item:first-child::after {align-self: flex-end;width: 50%;}#sk-container-id-21 div.sk-parallel-item:last-child::after {align-self: flex-start;width: 50%;}#sk-container-id-21 div.sk-parallel-item:only-child::after {width: 0;}#sk-container-id-21 div.sk-dashed-wrapped {border: 1px dashed gray;margin: 0 0.4em 0.5em 0.4em;box-sizing: border-box;padding-bottom: 0.4em;background-color: white;}#sk-container-id-21 div.sk-label label {font-family: monospace;font-weight: bold;display: inline-block;line-height: 1.2em;}#sk-container-id-21 div.sk-label-container {text-align: center;}#sk-container-id-21 div.sk-container {/* jupyter's `normalize.less` sets `[hidden] { display: none; }` but bootstrap.min.css set `[hidden] { display: none !important; }` so we also need the `!important` here to be able to override the default hidden behavior on the sphinx rendered scikit-learn.org. See: https://github.com/scikit-learn/scikit-learn/issues/21755 */display: inline-block !important;position: relative;}#sk-container-id-21 div.sk-text-repr-fallback {display: none;}</style><div id=\"sk-container-id-21\" class=\"sk-top-container\"><div class=\"sk-text-repr-fallback\"><pre>KNeighborsClassifier(n_neighbors=1, weights=&#x27;distance&#x27;)</pre><b>In a Jupyter environment, please rerun this cell to show the HTML representation or trust the notebook. <br />On GitHub, the HTML representation is unable to render, please try loading this page with nbviewer.org.</b></div><div class=\"sk-container\" hidden><div class=\"sk-item\"><div class=\"sk-estimator sk-toggleable\"><input class=\"sk-toggleable__control sk-hidden--visually\" id=\"sk-estimator-id-27\" type=\"checkbox\" checked><label for=\"sk-estimator-id-27\" class=\"sk-toggleable__label sk-toggleable__label-arrow\">KNeighborsClassifier</label><div class=\"sk-toggleable__content\"><pre>KNeighborsClassifier(n_neighbors=1, weights=&#x27;distance&#x27;)</pre></div></div></div></div></div>"
      ],
      "text/plain": [
       "KNeighborsClassifier(n_neighbors=1, weights='distance')"
      ]
     },
     "execution_count": 275,
     "metadata": {},
     "output_type": "execute_result"
    }
   ],
   "source": [
    "from sklearn.neighbors import KNeighborsClassifier\n",
    "\n",
    "\n",
    "knn = KNeighborsClassifier(n_neighbors= 1 , weights = 'distance' )\n",
    "knn.fit(X_train_res_scaled , y_train_res.values.ravel())"
   ]
  },
  {
   "cell_type": "code",
   "execution_count": 276,
   "id": "f20b303d",
   "metadata": {},
   "outputs": [
    {
     "name": "stdout",
     "output_type": "stream",
     "text": [
      "Accuracy Score of KNN model is 0.6210191082802548\n"
     ]
    }
   ],
   "source": [
    "predicted_labels_knn = knn.predict(X_test_scaled) # predicts the value on trained model\n",
    "\n",
    "score_knn = accuracy_score(y_test, predicted_labels_knn)  \n",
    "print('Accuracy Score of KNN model is', score_knn)"
   ]
  },
  {
   "cell_type": "code",
   "execution_count": 277,
   "id": "87f0d172",
   "metadata": {},
   "outputs": [
    {
     "name": "stdout",
     "output_type": "stream",
     "text": [
      "Train accuracy is:\n",
      " [1.         1.         0.80230572 0.82835184 0.72203245 0.74338173\n",
      " 0.67250213 0.69043553 0.64090521 0.65670367 0.61827498 0.63321947\n",
      " 0.60204953 0.61101623 0.59009394 0.59863365 0.57899231 0.58753202\n",
      " 0.56789069 0.57386849 0.55721605 0.56490179 0.55166524 0.55636208\n",
      " 0.54654142]\n",
      "Test accuracy is:\n",
      " [0.62101911 0.63694268 0.45859873 0.49044586 0.37898089 0.40764331\n",
      " 0.3089172  0.33757962 0.2611465  0.2866242  0.23566879 0.26751592\n",
      " 0.22292994 0.24203822 0.20700637 0.22611465 0.21019108 0.21974522\n",
      " 0.19745223 0.20700637 0.18471338 0.19426752 0.17197452 0.18152866\n",
      " 0.16242038]\n"
     ]
    },
    {
     "data": {
      "image/png": "[encoded data removed]",
      "text/plain": [
       "<Figure size 640x480 with 1 Axes>"
      ]
     },
     "metadata": {},
     "output_type": "display_data"
    }
   ],
   "source": [
    "k_range = range(1, 26)\n",
    "train_accuracy_f = np.empty(len(k_range))\n",
    "test_accuracy_f = np.empty(len(k_range))\n",
    "\n",
    "\n",
    "for i, k in enumerate(k_range):\n",
    "    knn_f = KNeighborsClassifier(n_neighbors=k)\n",
    "    knn_f.fit(X_train_res_scaled,  y_train_res.values.ravel())\n",
    "     \n",
    "    # Compute training and test data accuracy\n",
    "    train_accuracy_f[i] = knn_f.score(X_train_res_scaled,  y_train_res.values.ravel())\n",
    "    test_accuracy_f[i] = knn_f.score(X_test_scaled, y_test)\n",
    "\n",
    "print('Train accuracy is:\\n',train_accuracy_f)\n",
    "print('Test accuracy is:\\n',test_accuracy_f)\n",
    "plt.plot(k_range, test_accuracy_f, label = 'Testing dataset Accuracy')\n",
    "plt.plot(k_range, train_accuracy_f, label = 'Training dataset Accuracy')\n",
    "\n",
    "#Displaying train and test accuracy for corresponding k values from 1-26\n",
    " \n",
    "plt.legend()\n",
    "plt.xlabel('n_neighbors = k values')\n",
    "plt.ylabel('Accuracy')\n",
    "plt.title('KNN - Varying neighbours vs accuracy')\n",
    "plt.show()"
   ]
  },
  {
   "cell_type": "markdown",
   "id": "8dee1ecc",
   "metadata": {},
   "source": [
    "### Using CV"
   ]
  },
  {
   "cell_type": "code",
   "execution_count": 278,
   "id": "25af5974",
   "metadata": {},
   "outputs": [
    {
     "name": "stdout",
     "output_type": "stream",
     "text": [
      "Accuracy: 75.807% (21.955%)\n"
     ]
    }
   ],
   "source": [
    "num_folds = 10\n",
    "\n",
    "kfold = KFold(n_splits=num_folds)\n",
    "results_knn = cross_val_score(knn, X_train_res_scaled, y_train_res, cv=kfold)\n",
    "\n",
    "print(\"Accuracy: %.3f%% (%.3f%%)\" % (results_knn.mean()*100.0, results_knn.std()*100.0))\n",
    "\n",
    "# SD is very high which means the data is very spread out around the mean"
   ]
  },
  {
   "cell_type": "markdown",
   "id": "b5d1bc4c",
   "metadata": {},
   "source": [
    "### RandomCV KNN"
   ]
  },
  {
   "cell_type": "code",
   "execution_count": 279,
   "id": "1c86b044",
   "metadata": {},
   "outputs": [],
   "source": [
    "k_range = list(range(1, 26))\n",
    "\n",
    "weight_options = ['uniform', 'distance']\n",
    "\n",
    "param_dist = dict(n_neighbors=k_range, weights=weight_options)\n"
   ]
  },
  {
   "cell_type": "code",
   "execution_count": 280,
   "id": "0e477570",
   "metadata": {},
   "outputs": [
    {
     "name": "stdout",
     "output_type": "stream",
     "text": [
      "The best score for KNN model using RandomSearchCV is : 0.7993035097290416\n",
      "{'weights': 'uniform', 'n_neighbors': 2}\n",
      "KNeighborsClassifier(n_neighbors=2)\n"
     ]
    }
   ],
   "source": [
    "rand_knn = RandomizedSearchCV(knn, param_dist, cv=10, scoring='accuracy', n_iter=10, random_state=5)\n",
    "\n",
    "# fit\n",
    "rand_knn.fit(X_train_res_scaled , y_train_res.values.ravel())\n",
    "\n",
    "# scores\n",
    "# examine the best model\n",
    "print('The best score for KNN model using RandomSearchCV is :',rand_knn.best_score_)\n",
    "print(rand_knn.best_params_)\n",
    "print(rand_knn.best_estimator_)"
   ]
  },
  {
   "cell_type": "markdown",
   "id": "eb31bbec",
   "metadata": {},
   "source": [
    "### PCA KNN"
   ]
  },
  {
   "cell_type": "code",
   "execution_count": 281,
   "id": "8e3a8f4f",
   "metadata": {},
   "outputs": [],
   "source": [
    "Xpca_knn = pca.transform(X_train_res_scaled)"
   ]
  },
  {
   "cell_type": "code",
   "execution_count": 282,
   "id": "0a6da7ed",
   "metadata": {},
   "outputs": [
    {
     "data": {
      "text/plain": [
       "array([[-1.76280002,  1.32462907, -2.87386295, ..., -0.00367318,\n",
       "        -0.57938742, -0.01583995],\n",
       "       [-1.54921038,  1.761868  , -0.5418903 , ...,  0.04651266,\n",
       "        -0.15165917,  0.04806395],\n",
       "       [ 2.1073161 , -0.19634982,  2.16350385, ..., -0.89675965,\n",
       "        -0.95062765, -0.19878395],\n",
       "       ...,\n",
       "       [-1.07623177,  0.2584928 ,  1.36865581, ..., -0.05315018,\n",
       "        -0.60632459,  0.32425947],\n",
       "       [-0.41996224,  2.71273888, -0.76892279, ..., -0.01931928,\n",
       "        -0.04756041,  0.38153288],\n",
       "       [-0.93403442,  0.67333476,  0.85455812, ...,  0.09878966,\n",
       "        -0.41205247, -0.22048403]])"
      ]
     },
     "execution_count": 282,
     "metadata": {},
     "output_type": "execute_result"
    }
   ],
   "source": [
    "Xpca_knn"
   ]
  },
  {
   "cell_type": "code",
   "execution_count": 283,
   "id": "26a62f01",
   "metadata": {},
   "outputs": [],
   "source": [
    "# Splitting into train and test for knn model\n",
    "\n",
    "X_train_pca_knn, X_test_pca_knn, y_train_pca_knn, y_test_pca_knn = train_test_split(Xpca_knn, y_train_res, test_size=0.20, random_state=1)"
   ]
  },
  {
   "cell_type": "code",
   "execution_count": 284,
   "id": "7878a57a",
   "metadata": {},
   "outputs": [
    {
     "data": {
      "text/html": [
       "<style>#sk-container-id-22 {color: black;background-color: white;}#sk-container-id-22 pre{padding: 0;}#sk-container-id-22 div.sk-toggleable {background-color: white;}#sk-container-id-22 label.sk-toggleable__label {cursor: pointer;display: block;width: 100%;margin-bottom: 0;padding: 0.3em;box-sizing: border-box;text-align: center;}#sk-container-id-22 label.sk-toggleable__label-arrow:before {content: \"▸\";float: left;margin-right: 0.25em;color: #696969;}#sk-container-id-22 label.sk-toggleable__label-arrow:hover:before {color: black;}#sk-container-id-22 div.sk-estimator:hover label.sk-toggleable__label-arrow:before {color: black;}#sk-container-id-22 div.sk-toggleable__content {max-height: 0;max-width: 0;overflow: hidden;text-align: left;background-color: #f0f8ff;}#sk-container-id-22 div.sk-toggleable__content pre {margin: 0.2em;color: black;border-radius: 0.25em;background-color: #f0f8ff;}#sk-container-id-22 input.sk-toggleable__control:checked~div.sk-toggleable__content {max-height: 200px;max-width: 100%;overflow: auto;}#sk-container-id-22 input.sk-toggleable__control:checked~label.sk-toggleable__label-arrow:before {content: \"▾\";}#sk-container-id-22 div.sk-estimator input.sk-toggleable__control:checked~label.sk-toggleable__label {background-color: #d4ebff;}#sk-container-id-22 div.sk-label input.sk-toggleable__control:checked~label.sk-toggleable__label {background-color: #d4ebff;}#sk-container-id-22 input.sk-hidden--visually {border: 0;clip: rect(1px 1px 1px 1px);clip: rect(1px, 1px, 1px, 1px);height: 1px;margin: -1px;overflow: hidden;padding: 0;position: absolute;width: 1px;}#sk-container-id-22 div.sk-estimator {font-family: monospace;background-color: #f0f8ff;border: 1px dotted black;border-radius: 0.25em;box-sizing: border-box;margin-bottom: 0.5em;}#sk-container-id-22 div.sk-estimator:hover {background-color: #d4ebff;}#sk-container-id-22 div.sk-parallel-item::after {content: \"\";width: 100%;border-bottom: 1px solid gray;flex-grow: 1;}#sk-container-id-22 div.sk-label:hover label.sk-toggleable__label {background-color: #d4ebff;}#sk-container-id-22 div.sk-serial::before {content: \"\";position: absolute;border-left: 1px solid gray;box-sizing: border-box;top: 0;bottom: 0;left: 50%;z-index: 0;}#sk-container-id-22 div.sk-serial {display: flex;flex-direction: column;align-items: center;background-color: white;padding-right: 0.2em;padding-left: 0.2em;position: relative;}#sk-container-id-22 div.sk-item {position: relative;z-index: 1;}#sk-container-id-22 div.sk-parallel {display: flex;align-items: stretch;justify-content: center;background-color: white;position: relative;}#sk-container-id-22 div.sk-item::before, #sk-container-id-22 div.sk-parallel-item::before {content: \"\";position: absolute;border-left: 1px solid gray;box-sizing: border-box;top: 0;bottom: 0;left: 50%;z-index: -1;}#sk-container-id-22 div.sk-parallel-item {display: flex;flex-direction: column;z-index: 1;position: relative;background-color: white;}#sk-container-id-22 div.sk-parallel-item:first-child::after {align-self: flex-end;width: 50%;}#sk-container-id-22 div.sk-parallel-item:last-child::after {align-self: flex-start;width: 50%;}#sk-container-id-22 div.sk-parallel-item:only-child::after {width: 0;}#sk-container-id-22 div.sk-dashed-wrapped {border: 1px dashed gray;margin: 0 0.4em 0.5em 0.4em;box-sizing: border-box;padding-bottom: 0.4em;background-color: white;}#sk-container-id-22 div.sk-label label {font-family: monospace;font-weight: bold;display: inline-block;line-height: 1.2em;}#sk-container-id-22 div.sk-label-container {text-align: center;}#sk-container-id-22 div.sk-container {/* jupyter's `normalize.less` sets `[hidden] { display: none; }` but bootstrap.min.css set `[hidden] { display: none !important; }` so we also need the `!important` here to be able to override the default hidden behavior on the sphinx rendered scikit-learn.org. See: https://github.com/scikit-learn/scikit-learn/issues/21755 */display: inline-block !important;position: relative;}#sk-container-id-22 div.sk-text-repr-fallback {display: none;}</style><div id=\"sk-container-id-22\" class=\"sk-top-container\"><div class=\"sk-text-repr-fallback\"><pre>KNeighborsClassifier(n_neighbors=2)</pre><b>In a Jupyter environment, please rerun this cell to show the HTML representation or trust the notebook. <br />On GitHub, the HTML representation is unable to render, please try loading this page with nbviewer.org.</b></div><div class=\"sk-container\" hidden><div class=\"sk-item\"><div class=\"sk-estimator sk-toggleable\"><input class=\"sk-toggleable__control sk-hidden--visually\" id=\"sk-estimator-id-28\" type=\"checkbox\" checked><label for=\"sk-estimator-id-28\" class=\"sk-toggleable__label sk-toggleable__label-arrow\">KNeighborsClassifier</label><div class=\"sk-toggleable__content\"><pre>KNeighborsClassifier(n_neighbors=2)</pre></div></div></div></div></div>"
      ],
      "text/plain": [
       "KNeighborsClassifier(n_neighbors=2)"
      ]
     },
     "execution_count": 284,
     "metadata": {},
     "output_type": "execute_result"
    }
   ],
   "source": [
    "# Using number of neighbours as 2 and weights as uniform and fitting the model\n",
    "\n",
    "knn_pca = KNeighborsClassifier(n_neighbors= 2 , weights = 'uniform' )\n",
    "knn_pca.fit(X_train_pca_knn , y_train_pca_knn.values.ravel())"
   ]
  },
  {
   "cell_type": "code",
   "execution_count": 285,
   "id": "5a9b70c9",
   "metadata": {},
   "outputs": [
    {
     "name": "stdout",
     "output_type": "stream",
     "text": [
      "Accuracy Score of KNN model is after applying pca is : 0.7569296375266524\n"
     ]
    }
   ],
   "source": [
    "predicted_labels_knn_pca = knn_pca.predict(X_test_pca_knn) # predicts the value on trained model\n",
    "\n",
    "score_knn_pca = accuracy_score(y_test_pca_knn, predicted_labels_knn_pca)  #displays accuracy of the model when k = 10\n",
    "print('Accuracy Score of KNN model is after applying pca is :', score_knn_pca)"
   ]
  },
  {
   "cell_type": "code",
   "execution_count": 286,
   "id": "8e7b0d29",
   "metadata": {},
   "outputs": [
    {
     "name": "stdout",
     "output_type": "stream",
     "text": [
      "Train Accuracy of KNN model is : 1.0\n"
     ]
    }
   ],
   "source": [
    "print('Train Accuracy of KNN model is :', accuracy_score(y_train_pca_knn, knn_pca.predict(X_train_pca_knn)))\n"
   ]
  },
  {
   "cell_type": "code",
   "execution_count": 287,
   "id": "266d0b52",
   "metadata": {},
   "outputs": [],
   "source": [
    "# The train accuracy is very high and test accuracy is low, the KNN model doesn't seem to be performing well."
   ]
  },
  {
   "cell_type": "markdown",
   "id": "50c7f0a1",
   "metadata": {},
   "source": [
    "### Logistic Regressionn"
   ]
  },
  {
   "cell_type": "code",
   "execution_count": 288,
   "id": "a48e70d4",
   "metadata": {},
   "outputs": [
    {
     "data": {
      "text/html": [
       "<style>#sk-container-id-23 {color: black;background-color: white;}#sk-container-id-23 pre{padding: 0;}#sk-container-id-23 div.sk-toggleable {background-color: white;}#sk-container-id-23 label.sk-toggleable__label {cursor: pointer;display: block;width: 100%;margin-bottom: 0;padding: 0.3em;box-sizing: border-box;text-align: center;}#sk-container-id-23 label.sk-toggleable__label-arrow:before {content: \"▸\";float: left;margin-right: 0.25em;color: #696969;}#sk-container-id-23 label.sk-toggleable__label-arrow:hover:before {color: black;}#sk-container-id-23 div.sk-estimator:hover label.sk-toggleable__label-arrow:before {color: black;}#sk-container-id-23 div.sk-toggleable__content {max-height: 0;max-width: 0;overflow: hidden;text-align: left;background-color: #f0f8ff;}#sk-container-id-23 div.sk-toggleable__content pre {margin: 0.2em;color: black;border-radius: 0.25em;background-color: #f0f8ff;}#sk-container-id-23 input.sk-toggleable__control:checked~div.sk-toggleable__content {max-height: 200px;max-width: 100%;overflow: auto;}#sk-container-id-23 input.sk-toggleable__control:checked~label.sk-toggleable__label-arrow:before {content: \"▾\";}#sk-container-id-23 div.sk-estimator input.sk-toggleable__control:checked~label.sk-toggleable__label {background-color: #d4ebff;}#sk-container-id-23 div.sk-label input.sk-toggleable__control:checked~label.sk-toggleable__label {background-color: #d4ebff;}#sk-container-id-23 input.sk-hidden--visually {border: 0;clip: rect(1px 1px 1px 1px);clip: rect(1px, 1px, 1px, 1px);height: 1px;margin: -1px;overflow: hidden;padding: 0;position: absolute;width: 1px;}#sk-container-id-23 div.sk-estimator {font-family: monospace;background-color: #f0f8ff;border: 1px dotted black;border-radius: 0.25em;box-sizing: border-box;margin-bottom: 0.5em;}#sk-container-id-23 div.sk-estimator:hover {background-color: #d4ebff;}#sk-container-id-23 div.sk-parallel-item::after {content: \"\";width: 100%;border-bottom: 1px solid gray;flex-grow: 1;}#sk-container-id-23 div.sk-label:hover label.sk-toggleable__label {background-color: #d4ebff;}#sk-container-id-23 div.sk-serial::before {content: \"\";position: absolute;border-left: 1px solid gray;box-sizing: border-box;top: 0;bottom: 0;left: 50%;z-index: 0;}#sk-container-id-23 div.sk-serial {display: flex;flex-direction: column;align-items: center;background-color: white;padding-right: 0.2em;padding-left: 0.2em;position: relative;}#sk-container-id-23 div.sk-item {position: relative;z-index: 1;}#sk-container-id-23 div.sk-parallel {display: flex;align-items: stretch;justify-content: center;background-color: white;position: relative;}#sk-container-id-23 div.sk-item::before, #sk-container-id-23 div.sk-parallel-item::before {content: \"\";position: absolute;border-left: 1px solid gray;box-sizing: border-box;top: 0;bottom: 0;left: 50%;z-index: -1;}#sk-container-id-23 div.sk-parallel-item {display: flex;flex-direction: column;z-index: 1;position: relative;background-color: white;}#sk-container-id-23 div.sk-parallel-item:first-child::after {align-self: flex-end;width: 50%;}#sk-container-id-23 div.sk-parallel-item:last-child::after {align-self: flex-start;width: 50%;}#sk-container-id-23 div.sk-parallel-item:only-child::after {width: 0;}#sk-container-id-23 div.sk-dashed-wrapped {border: 1px dashed gray;margin: 0 0.4em 0.5em 0.4em;box-sizing: border-box;padding-bottom: 0.4em;background-color: white;}#sk-container-id-23 div.sk-label label {font-family: monospace;font-weight: bold;display: inline-block;line-height: 1.2em;}#sk-container-id-23 div.sk-label-container {text-align: center;}#sk-container-id-23 div.sk-container {/* jupyter's `normalize.less` sets `[hidden] { display: none; }` but bootstrap.min.css set `[hidden] { display: none !important; }` so we also need the `!important` here to be able to override the default hidden behavior on the sphinx rendered scikit-learn.org. See: https://github.com/scikit-learn/scikit-learn/issues/21755 */display: inline-block !important;position: relative;}#sk-container-id-23 div.sk-text-repr-fallback {display: none;}</style><div id=\"sk-container-id-23\" class=\"sk-top-container\"><div class=\"sk-text-repr-fallback\"><pre>LogisticRegression(solver=&#x27;liblinear&#x27;)</pre><b>In a Jupyter environment, please rerun this cell to show the HTML representation or trust the notebook. <br />On GitHub, the HTML representation is unable to render, please try loading this page with nbviewer.org.</b></div><div class=\"sk-container\" hidden><div class=\"sk-item\"><div class=\"sk-estimator sk-toggleable\"><input class=\"sk-toggleable__control sk-hidden--visually\" id=\"sk-estimator-id-29\" type=\"checkbox\" checked><label for=\"sk-estimator-id-29\" class=\"sk-toggleable__label sk-toggleable__label-arrow\">LogisticRegression</label><div class=\"sk-toggleable__content\"><pre>LogisticRegression(solver=&#x27;liblinear&#x27;)</pre></div></div></div></div></div>"
      ],
      "text/plain": [
       "LogisticRegression(solver='liblinear')"
      ]
     },
     "execution_count": 288,
     "metadata": {},
     "output_type": "execute_result"
    }
   ],
   "source": [
    "from sklearn.linear_model import LogisticRegression\n",
    "\n",
    "model_d = LogisticRegression(solver=\"liblinear\")\n",
    "model_d.fit(X_train_res_scaled , y_train_res.values.ravel())\n",
    "\n",
    "#Using logistics regressionn to predict outcome of pass or fail"
   ]
  },
  {
   "cell_type": "code",
   "execution_count": 289,
   "id": "237167ca",
   "metadata": {},
   "outputs": [
    {
     "name": "stdout",
     "output_type": "stream",
     "text": [
      "         0         1        2         3         4         5         6  \\\n",
      "0 -0.04028 -0.317093 -0.02474 -0.292549  0.025255 -0.247274  0.320496   \n",
      "\n",
      "          7         8         9  ...       122       123       124       125  \\\n",
      "0 -0.012122  0.229283  0.036989  ... -0.071067  0.114745  0.032635 -0.433306   \n",
      "\n",
      "       126      127       128       129       130  Intercept  \n",
      "0  0.47972  0.26471 -0.111222  0.264305 -0.304111  -0.578281  \n",
      "\n",
      "[1 rows x 132 columns]\n"
     ]
    }
   ],
   "source": [
    "y_predict_log = model_d.predict(X_test_scaled)\n",
    "\n",
    "coef_df = pd.DataFrame(model_d.coef_)\n",
    "# Coef_contains the coeff of prediction for each target\n",
    "\n",
    "coef_df['Intercept'] = model_d.intercept_\n",
    "print(coef_df)"
   ]
  },
  {
   "cell_type": "code",
   "execution_count": 290,
   "id": "4fd26977",
   "metadata": {},
   "outputs": [
    {
     "name": "stdout",
     "output_type": "stream",
     "text": [
      "Accuracy prediction for Logistic Regression model : 0.7165605095541401\n"
     ]
    }
   ],
   "source": [
    "model_score = accuracy_score(y_test, y_predict_log)\n",
    "print('Accuracy prediction for Logistic Regression model :', model_score)\n"
   ]
  },
  {
   "cell_type": "code",
   "execution_count": 291,
   "id": "d47e3a73",
   "metadata": {},
   "outputs": [
    {
     "name": "stdout",
     "output_type": "stream",
     "text": [
      "Train Accuracy of logistic model is : 0.8791631084543126\n"
     ]
    }
   ],
   "source": [
    "print('Train Accuracy of logistic model is :', accuracy_score(y_train_res, model_d.predict(X_train_res_scaled)))\n"
   ]
  },
  {
   "cell_type": "markdown",
   "id": "c1e7907a",
   "metadata": {},
   "source": [
    "### Using CV"
   ]
  },
  {
   "cell_type": "code",
   "execution_count": 292,
   "id": "175a934d",
   "metadata": {},
   "outputs": [
    {
     "name": "stdout",
     "output_type": "stream",
     "text": [
      "Accuracy: 82.712% (5.700%)\n"
     ]
    }
   ],
   "source": [
    "num_folds = 10\n",
    "\n",
    "kfold = KFold(n_splits=num_folds)\n",
    "results_log = cross_val_score(model_d, X_train_res_scaled, y_train_res, cv=kfold)\n",
    "\n",
    "print(\"Accuracy: %.3f%% (%.3f%%)\" % (results_log.mean()*100.0, results_log.std()*100.0))\n",
    "\n",
    "# SD isn't very high which means the data is not very spread out"
   ]
  },
  {
   "cell_type": "markdown",
   "id": "b905cd46",
   "metadata": {},
   "source": [
    "### RandomCV Logistic"
   ]
  },
  {
   "cell_type": "code",
   "execution_count": 293,
   "id": "ed2a4778",
   "metadata": {},
   "outputs": [],
   "source": [
    "#Defining the parameters for the logistic regression\n",
    "\n",
    "space = dict()\n",
    "space['solver'] = ['lbfgs', 'liblinear', 'newton-cg', 'saga']\n"
   ]
  },
  {
   "cell_type": "code",
   "execution_count": 294,
   "id": "9f9d4728",
   "metadata": {},
   "outputs": [],
   "source": [
    "random_log = RandomizedSearchCV(model_d, space, scoring='accuracy', n_iter=10, random_state=5)\n",
    "\n",
    "#Using 10 iterations to search for the best parameters using random searchcv"
   ]
  },
  {
   "cell_type": "code",
   "execution_count": 295,
   "id": "733a1114",
   "metadata": {},
   "outputs": [
    {
     "name": "stdout",
     "output_type": "stream",
     "text": [
      "The best score for KNN model using RandomSearchCV is : 0.8492865343611612\n",
      "{'solver': 'lbfgs'}\n",
      "LogisticRegression()\n"
     ]
    }
   ],
   "source": [
    "random_log.fit(X_train_res_scaled , y_train_res.values.ravel())\n",
    "\n",
    "# scores\n",
    "# examine the best model\n",
    "print('The best score for KNN model using RandomSearchCV is :',random_log.best_score_)\n",
    "print(random_log.best_params_)\n",
    "print(random_log.best_estimator_)"
   ]
  },
  {
   "cell_type": "markdown",
   "id": "bf7aeeb9",
   "metadata": {},
   "source": [
    "### PCA Logistic"
   ]
  },
  {
   "cell_type": "code",
   "execution_count": 296,
   "id": "d557831a",
   "metadata": {},
   "outputs": [],
   "source": [
    "Xpca_log = pca.transform(X_train_res_scaled)"
   ]
  },
  {
   "cell_type": "code",
   "execution_count": 297,
   "id": "a0b52bbd",
   "metadata": {},
   "outputs": [
    {
     "data": {
      "text/plain": [
       "array([[-1.76280002,  1.32462907, -2.87386295, ..., -0.00367318,\n",
       "        -0.57938742, -0.01583995],\n",
       "       [-1.54921038,  1.761868  , -0.5418903 , ...,  0.04651266,\n",
       "        -0.15165917,  0.04806395],\n",
       "       [ 2.1073161 , -0.19634982,  2.16350385, ..., -0.89675965,\n",
       "        -0.95062765, -0.19878395],\n",
       "       ...,\n",
       "       [-1.07623177,  0.2584928 ,  1.36865581, ..., -0.05315018,\n",
       "        -0.60632459,  0.32425947],\n",
       "       [-0.41996224,  2.71273888, -0.76892279, ..., -0.01931928,\n",
       "        -0.04756041,  0.38153288],\n",
       "       [-0.93403442,  0.67333476,  0.85455812, ...,  0.09878966,\n",
       "        -0.41205247, -0.22048403]])"
      ]
     },
     "execution_count": 297,
     "metadata": {},
     "output_type": "execute_result"
    }
   ],
   "source": [
    "Xpca_log"
   ]
  },
  {
   "cell_type": "code",
   "execution_count": 298,
   "id": "06b6a126",
   "metadata": {},
   "outputs": [],
   "source": [
    "X_train_pca_log, X_test_pca_log, y_train_pca_log, y_test_pca_log = train_test_split(Xpca_log, y_train_res, test_size=0.20, random_state=1)"
   ]
  },
  {
   "cell_type": "code",
   "execution_count": 299,
   "id": "e22f769b",
   "metadata": {},
   "outputs": [
    {
     "data": {
      "text/html": [
       "<style>#sk-container-id-24 {color: black;background-color: white;}#sk-container-id-24 pre{padding: 0;}#sk-container-id-24 div.sk-toggleable {background-color: white;}#sk-container-id-24 label.sk-toggleable__label {cursor: pointer;display: block;width: 100%;margin-bottom: 0;padding: 0.3em;box-sizing: border-box;text-align: center;}#sk-container-id-24 label.sk-toggleable__label-arrow:before {content: \"▸\";float: left;margin-right: 0.25em;color: #696969;}#sk-container-id-24 label.sk-toggleable__label-arrow:hover:before {color: black;}#sk-container-id-24 div.sk-estimator:hover label.sk-toggleable__label-arrow:before {color: black;}#sk-container-id-24 div.sk-toggleable__content {max-height: 0;max-width: 0;overflow: hidden;text-align: left;background-color: #f0f8ff;}#sk-container-id-24 div.sk-toggleable__content pre {margin: 0.2em;color: black;border-radius: 0.25em;background-color: #f0f8ff;}#sk-container-id-24 input.sk-toggleable__control:checked~div.sk-toggleable__content {max-height: 200px;max-width: 100%;overflow: auto;}#sk-container-id-24 input.sk-toggleable__control:checked~label.sk-toggleable__label-arrow:before {content: \"▾\";}#sk-container-id-24 div.sk-estimator input.sk-toggleable__control:checked~label.sk-toggleable__label {background-color: #d4ebff;}#sk-container-id-24 div.sk-label input.sk-toggleable__control:checked~label.sk-toggleable__label {background-color: #d4ebff;}#sk-container-id-24 input.sk-hidden--visually {border: 0;clip: rect(1px 1px 1px 1px);clip: rect(1px, 1px, 1px, 1px);height: 1px;margin: -1px;overflow: hidden;padding: 0;position: absolute;width: 1px;}#sk-container-id-24 div.sk-estimator {font-family: monospace;background-color: #f0f8ff;border: 1px dotted black;border-radius: 0.25em;box-sizing: border-box;margin-bottom: 0.5em;}#sk-container-id-24 div.sk-estimator:hover {background-color: #d4ebff;}#sk-container-id-24 div.sk-parallel-item::after {content: \"\";width: 100%;border-bottom: 1px solid gray;flex-grow: 1;}#sk-container-id-24 div.sk-label:hover label.sk-toggleable__label {background-color: #d4ebff;}#sk-container-id-24 div.sk-serial::before {content: \"\";position: absolute;border-left: 1px solid gray;box-sizing: border-box;top: 0;bottom: 0;left: 50%;z-index: 0;}#sk-container-id-24 div.sk-serial {display: flex;flex-direction: column;align-items: center;background-color: white;padding-right: 0.2em;padding-left: 0.2em;position: relative;}#sk-container-id-24 div.sk-item {position: relative;z-index: 1;}#sk-container-id-24 div.sk-parallel {display: flex;align-items: stretch;justify-content: center;background-color: white;position: relative;}#sk-container-id-24 div.sk-item::before, #sk-container-id-24 div.sk-parallel-item::before {content: \"\";position: absolute;border-left: 1px solid gray;box-sizing: border-box;top: 0;bottom: 0;left: 50%;z-index: -1;}#sk-container-id-24 div.sk-parallel-item {display: flex;flex-direction: column;z-index: 1;position: relative;background-color: white;}#sk-container-id-24 div.sk-parallel-item:first-child::after {align-self: flex-end;width: 50%;}#sk-container-id-24 div.sk-parallel-item:last-child::after {align-self: flex-start;width: 50%;}#sk-container-id-24 div.sk-parallel-item:only-child::after {width: 0;}#sk-container-id-24 div.sk-dashed-wrapped {border: 1px dashed gray;margin: 0 0.4em 0.5em 0.4em;box-sizing: border-box;padding-bottom: 0.4em;background-color: white;}#sk-container-id-24 div.sk-label label {font-family: monospace;font-weight: bold;display: inline-block;line-height: 1.2em;}#sk-container-id-24 div.sk-label-container {text-align: center;}#sk-container-id-24 div.sk-container {/* jupyter's `normalize.less` sets `[hidden] { display: none; }` but bootstrap.min.css set `[hidden] { display: none !important; }` so we also need the `!important` here to be able to override the default hidden behavior on the sphinx rendered scikit-learn.org. See: https://github.com/scikit-learn/scikit-learn/issues/21755 */display: inline-block !important;position: relative;}#sk-container-id-24 div.sk-text-repr-fallback {display: none;}</style><div id=\"sk-container-id-24\" class=\"sk-top-container\"><div class=\"sk-text-repr-fallback\"><pre>LogisticRegression()</pre><b>In a Jupyter environment, please rerun this cell to show the HTML representation or trust the notebook. <br />On GitHub, the HTML representation is unable to render, please try loading this page with nbviewer.org.</b></div><div class=\"sk-container\" hidden><div class=\"sk-item\"><div class=\"sk-estimator sk-toggleable\"><input class=\"sk-toggleable__control sk-hidden--visually\" id=\"sk-estimator-id-30\" type=\"checkbox\" checked><label for=\"sk-estimator-id-30\" class=\"sk-toggleable__label sk-toggleable__label-arrow\">LogisticRegression</label><div class=\"sk-toggleable__content\"><pre>LogisticRegression()</pre></div></div></div></div></div>"
      ],
      "text/plain": [
       "LogisticRegression()"
      ]
     },
     "execution_count": 299,
     "metadata": {},
     "output_type": "execute_result"
    }
   ],
   "source": [
    "model_d_pca = LogisticRegression(solver=\"lbfgs\")\n",
    "model_d_pca.fit(X_train_pca_log , y_train_pca_log.values.ravel())"
   ]
  },
  {
   "cell_type": "code",
   "execution_count": 300,
   "id": "92efcca0",
   "metadata": {},
   "outputs": [
    {
     "name": "stdout",
     "output_type": "stream",
     "text": [
      "Test Accuracy Score of Logistic Regression model is after applying pca is : 0.7995735607675906\n"
     ]
    }
   ],
   "source": [
    "predicted_labels_log_pca = model_d_pca.predict(X_test_pca_log) # predicts the value on trained model\n",
    "\n",
    "score_log_pca = accuracy_score(y_test_pca_log, predicted_labels_log_pca)  #displays accuracy of the model when k = 10\n",
    "print('Test Accuracy Score of Logistic Regression model is after applying pca is :', score_log_pca)"
   ]
  },
  {
   "cell_type": "code",
   "execution_count": 301,
   "id": "d144d5ed",
   "metadata": {},
   "outputs": [
    {
     "name": "stdout",
     "output_type": "stream",
     "text": [
      "Train Accuracy of logistic model is : 0.8558462359850507\n"
     ]
    }
   ],
   "source": [
    "print('Train Accuracy of logistic model is :', accuracy_score(y_train_pca_log, model_d_pca.predict(X_train_pca_log)))\n"
   ]
  },
  {
   "cell_type": "markdown",
   "id": "c705434b",
   "metadata": {},
   "source": [
    "### 6.Post Training and Conclusion:"
   ]
  },
  {
   "cell_type": "markdown",
   "id": "f9927e35",
   "metadata": {},
   "source": [
    "### A.Display and compare all the models designed with their train and test accuracies."
   ]
  },
  {
   "cell_type": "code",
   "execution_count": 302,
   "id": "4f1dfe3d",
   "metadata": {},
   "outputs": [
    {
     "name": "stdout",
     "output_type": "stream",
     "text": [
      "Train Accuracy of logistic model is : 0.8558462359850507\n",
      "Test Accuracy Score of Logistic Regression model is after applying pca is : 0.7995735607675906\n"
     ]
    }
   ],
   "source": [
    "print('Train Accuracy of logistic model is :', accuracy_score(y_train_pca_log, model_d_pca.predict(X_train_pca_log)))\n",
    "print('Test Accuracy Score of Logistic Regression model is after applying pca is :', score_log_pca)"
   ]
  },
  {
   "cell_type": "code",
   "execution_count": 303,
   "id": "5a4068df",
   "metadata": {},
   "outputs": [
    {
     "name": "stdout",
     "output_type": "stream",
     "text": [
      "Train Accuracy of KNN model is : 1.0\n",
      "Test Accuracy Score of KNN model is after applying pca is : 0.7569296375266524\n"
     ]
    }
   ],
   "source": [
    "print('Train Accuracy of KNN model is :', accuracy_score(y_train_pca_knn, knn_pca.predict(X_train_pca_knn)))\n",
    "print('Test Accuracy Score of KNN model is after applying pca is :', score_knn_pca)"
   ]
  },
  {
   "cell_type": "code",
   "execution_count": 304,
   "id": "bbb0e9e9",
   "metadata": {},
   "outputs": [
    {
     "name": "stdout",
     "output_type": "stream",
     "text": [
      "Train Accuracy of SVM model is : 1.0\n",
      "Test Accuracy of SVM model is : 0.9893390191897654\n"
     ]
    }
   ],
   "source": [
    "print('Train Accuracy of SVM model is :', accuracy_score(y_train_pca, clf_pca.predict(X_train_pca)))\n",
    "\n",
    "accuracy_pca = accuracy_score(y_test_pca, y_pred_pca)\n",
    "print('Test Accuracy of SVM model is :', accuracy_pca)"
   ]
  },
  {
   "cell_type": "markdown",
   "id": "0396c2b8",
   "metadata": {},
   "source": [
    "### The train accuracy and test accuracy is the best for SVM model"
   ]
  },
  {
   "cell_type": "markdown",
   "id": "82c1f913",
   "metadata": {},
   "source": [
    "### B.Select the final best trained model along with your detailed comments for selecting this model."
   ]
  },
  {
   "cell_type": "markdown",
   "id": "ab7833cf",
   "metadata": {},
   "source": [
    "#### SVM model seems to have the best train and test accuracy after performing all the hyper-parameter tuning, narrowing down parameters using PCA. Whereas KNN and Logistic Regression seems to have lesser accuracy. KNN model is performing the worst in terms of the test data. For this kind of data, KNN model doesn't seem to be the best fit."
   ]
  },
  {
   "cell_type": "markdown",
   "id": "fea199ed",
   "metadata": {},
   "source": [
    "### C.Pickle the selected model for future use."
   ]
  },
  {
   "cell_type": "code",
   "execution_count": 305,
   "id": "ca55cc8c",
   "metadata": {},
   "outputs": [],
   "source": [
    "import pickle"
   ]
  },
  {
   "cell_type": "code",
   "execution_count": 306,
   "id": "0be2e2af",
   "metadata": {},
   "outputs": [
    {
     "name": "stdout",
     "output_type": "stream",
     "text": [
      "File saved successfully!\n"
     ]
    }
   ],
   "source": [
    "filename = 'finalized_model_signaldata.sav'\n",
    "pickle.dump(model, open(filename, 'wb'))\n",
    "print(\"File saved successfully!\")"
   ]
  },
  {
   "cell_type": "markdown",
   "id": "89ce1154",
   "metadata": {},
   "source": [
    "### D.Write your conclusion on the results."
   ]
  },
  {
   "cell_type": "markdown",
   "id": "3dada17d",
   "metadata": {},
   "source": [
    "#### This data had lots of features. Feature selection was key in understanding the part of the data which is more important than the other. I have used various techniques to remove null values, balance the data and so on,  to clean and prepare the data. On using various models to predict the outcome, evidently SVM seems to work the best. I have exported the model in savformat for future use as well."
   ]
  }
 ],
 "metadata": {
  "kernelspec": {
   "display_name": "Python 3 (ipykernel)",
   "language": "python",
   "name": "python3"
  },
  "language_info": {
   "codemirror_mode": {
    "name": "ipython",
    "version": 3
   },
   "file_extension": ".py",
   "mimetype": "text/x-python",
   "name": "python",
   "nbconvert_exporter": "python",
   "pygments_lexer": "ipython3",
   "version": "3.10.9"
  }
 },
 "nbformat": 4,
 "nbformat_minor": 5
}
